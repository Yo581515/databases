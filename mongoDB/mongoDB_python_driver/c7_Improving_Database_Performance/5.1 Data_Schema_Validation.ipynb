{
 "cells": [
  {
   "cell_type": "markdown",
   "id": "6328a5c7",
   "metadata": {},
   "source": [
    "## Data Schema Validation"
   ]
  },
  {
   "cell_type": "code",
   "execution_count": 2,
   "id": "2d30833e",
   "metadata": {},
   "outputs": [],
   "source": [
    "from pymongo import MongoClient"
   ]
  },
  {
   "cell_type": "code",
   "execution_count": 7,
   "id": "d96766ab",
   "metadata": {},
   "outputs": [
    {
     "data": {
      "text/plain": [
       "DeleteResult({'n': 3, 'ok': 1.0}, acknowledged=True)"
      ]
     },
     "execution_count": 7,
     "metadata": {},
     "output_type": "execute_result"
    }
   ],
   "source": [
    "client = MongoClient(\"mongodb://localhost:27017/\")\n",
    "db = client[\"my_store\"]\n",
    "products_col = db[\"products\"]\n",
    "\n",
    "products_col.delete_many({})  # Clear the collection"
   ]
  },
  {
   "cell_type": "markdown",
   "id": "4f2a4886",
   "metadata": {},
   "source": [
    "### Add the following code in the \"Validation\" tab of the Compass App:\n",
    "\n",
    "```javascript\n",
    "{\n",
    "  \"$or\": [\n",
    "    { \"product_name\": { \"$type\": 'string' }},\n",
    "    { \"name\": { \"$type\": 'string'}}\n",
    "  ],\n",
    "  \"_id\": {\"$exists\": true},\n",
    "  \"price\": {\"$gt\": 8}\n",
    "}\n",
    "```"
   ]
  },
  {
   "cell_type": "code",
   "execution_count": 8,
   "id": "4bf9c871",
   "metadata": {},
   "outputs": [
    {
     "data": {
      "text/plain": [
       "InsertOneResult(ObjectId('687919b346a75f5f28626440'), acknowledged=True)"
      ]
     },
     "execution_count": 8,
     "metadata": {},
     "output_type": "execute_result"
    }
   ],
   "source": [
    "### Validation Action: Warning\n",
    "products_col.insert_one({\"name\": \"Boat\", \"price\": \"5.50\"})"
   ]
  },
  {
   "cell_type": "code",
   "execution_count": 9,
   "id": "ee439512",
   "metadata": {},
   "outputs": [
    {
     "data": {
      "text/plain": [
       "InsertOneResult(ObjectId('687919b446a75f5f28626441'), acknowledged=True)"
      ]
     },
     "execution_count": 9,
     "metadata": {},
     "output_type": "execute_result"
    }
   ],
   "source": [
    "### Validation Action: Error\n",
    "products_col.insert_one({\"name\": \"Boat\", \"price\": \"5.50\"})"
   ]
  },
  {
   "cell_type": "code",
   "execution_count": null,
   "id": "0cedae98",
   "metadata": {},
   "outputs": [],
   "source": []
  }
 ],
 "metadata": {
  "kernelspec": {
   "display_name": "venv",
   "language": "python",
   "name": "python3"
  },
  "language_info": {
   "codemirror_mode": {
    "name": "ipython",
    "version": 3
   },
   "file_extension": ".py",
   "mimetype": "text/x-python",
   "name": "python",
   "nbconvert_exporter": "python",
   "pygments_lexer": "ipython3",
   "version": "3.12.5"
  }
 },
 "nbformat": 4,
 "nbformat_minor": 5
}
