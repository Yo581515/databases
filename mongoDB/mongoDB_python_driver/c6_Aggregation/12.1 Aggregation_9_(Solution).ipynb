{
 "cells": [
  {
   "cell_type": "markdown",
   "id": "34176bb0",
   "metadata": {},
   "source": [
    "# MongoDB Aggregation Pipeline In Python\n",
    "\n",
    "Learn about the various stages and configurations you can create to configure an Aggregation Pipeline\n",
    "\n",
    "Stages: [match](#match), [project](#project), [unset](#unset), [limit](#limit), [skip](#skip), [sort](#sort), [count](#count), [sortByCount](#sortByCount), [unwind](#unwind), [group](#group), [addFields](#addFields), [sample](#sample), [lookup](#lookup), [unionWith](#unionWith), [out](#out), [merge](#merge)\n",
    "\n",
    "Operators: [size](#size-(operator)), [in](#in-(operator)), [arrayElemAt](#arrayElemAt-(operator)), [first](#first-(operator)), [count](#count-(accumulator-operator)), [sum](#sum-(accumulator-operator)), [first, last](#first,-last-(accumulator-operators)), [push](#push-(accumulator-operator)), [addToSet](#addToSet-(accumulator-operator)), [regexMatch](#regexMatch-(operator)), [cond](#cond-(operator)), [Date](#Date-Operators), [expr](#expr-(operator)), [ifNull](#ifNull-(operator)), [type](#type-(operator)), [switch](#switch-(operator))"
   ]
  },
  {
   "cell_type": "code",
   "execution_count": 219,
   "id": "7ec67890",
   "metadata": {},
   "outputs": [],
   "source": [
    "from pymongo import MongoClient"
   ]
  },
  {
   "cell_type": "code",
   "execution_count": 220,
   "id": "d34d96be",
   "metadata": {},
   "outputs": [],
   "source": [
    "mongodb_uri = \"mongodb://localhost:27017/\"\n",
    "db_name = \"aggregation_test\""
   ]
  },
  {
   "cell_type": "code",
   "execution_count": 221,
   "id": "adeb6e53",
   "metadata": {},
   "outputs": [],
   "source": [
    "client = MongoClient(mongodb_uri)\n",
    "db = client[db_name]"
   ]
  },
  {
   "cell_type": "markdown",
   "id": "6b961009",
   "metadata": {},
   "source": [
    "### Helper Function"
   ]
  },
  {
   "cell_type": "code",
   "execution_count": 222,
   "id": "4fb93ffb",
   "metadata": {},
   "outputs": [],
   "source": [
    "from pprint import pprint\n",
    "\n",
    "def print_cursor(cursor):\n",
    "    for document in cursor:\n",
    "        pprint(document)\n",
    "        print()"
   ]
  },
  {
   "cell_type": "markdown",
   "id": "79b6911e",
   "metadata": {},
   "source": [
    "### Inserting Some Sample Data"
   ]
  },
  {
   "cell_type": "code",
   "execution_count": 223,
   "id": "69cea02e",
   "metadata": {},
   "outputs": [
    {
     "name": "stdout",
     "output_type": "stream",
     "text": [
      "Entries already exist in the aggregation_test database in the users, products, or orders collection. Insert commands aborted.\n"
     ]
    }
   ],
   "source": [
    "import insert_aggregation_sample_data as iasd\n",
    "iasd.insert_data(mongodb_uri, db_name)"
   ]
  },
  {
   "cell_type": "markdown",
   "id": "3a0dd88d",
   "metadata": {},
   "source": [
    "### match"
   ]
  },
  {
   "cell_type": "code",
   "execution_count": 224,
   "id": "d7493e3f",
   "metadata": {},
   "outputs": [],
   "source": [
    "match_cursor = db.products.aggregate([\n",
    "    {\"$match\": {\"name\": \"Pens\"}}\n",
    "])"
   ]
  },
  {
   "cell_type": "code",
   "execution_count": 225,
   "id": "5ea2ca69",
   "metadata": {},
   "outputs": [
    {
     "name": "stdout",
     "output_type": "stream",
     "text": [
      "{'_id': ObjectId('6874fae37d59a390047b630d'),\n",
      " 'name': 'Pens',\n",
      " 'seller_id': ObjectId('6874fae37d59a390047b6306'),\n",
      " 'tags': ['Office', 'School']}\n",
      "\n"
     ]
    }
   ],
   "source": [
    "print_cursor(match_cursor)"
   ]
  },
  {
   "cell_type": "code",
   "execution_count": 226,
   "id": "75dc6b7a",
   "metadata": {},
   "outputs": [],
   "source": [
    "match_cursor = db.products.aggregate([\n",
    "    {\"$match\": {\"$or\": [{\"tags\": \"Beauty\"}, {\"tags\": \"Home\"}]}}\n",
    "])"
   ]
  },
  {
   "cell_type": "code",
   "execution_count": 227,
   "id": "7b1f153f",
   "metadata": {},
   "outputs": [
    {
     "name": "stdout",
     "output_type": "stream",
     "text": [
      "{'_id': ObjectId('6874fae37d59a390047b630b'),\n",
      " 'name': 'Mug',\n",
      " 'seller_id': ObjectId('6874fae37d59a390047b6305'),\n",
      " 'tags': ['Home', 'Kitchen']}\n",
      "\n",
      "{'_id': ObjectId('6874fae37d59a390047b630c'),\n",
      " 'name': 'Moisturizer',\n",
      " 'seller_id': ObjectId('6874fae37d59a390047b6305'),\n",
      " 'tags': ['Beauty']}\n",
      "\n",
      "{'_id': ObjectId('6874fae37d59a390047b630e'),\n",
      " 'name': 'Face Cleanser',\n",
      " 'seller_id': ObjectId('6874fae37d59a390047b6305'),\n",
      " 'tags': ['Beauty']}\n",
      "\n",
      "{'_id': ObjectId('6874fae37d59a390047b630f'),\n",
      " 'name': 'Concealer Makeup',\n",
      " 'seller_id': ObjectId('6874fae37d59a390047b6308'),\n",
      " 'tags': ['Beauty']}\n",
      "\n",
      "{'_id': ObjectId('6874fae37d59a390047b6310'),\n",
      " 'name': 'Eyeliner',\n",
      " 'seller_id': ObjectId('6874fae37d59a390047b6309'),\n",
      " 'tags': ['Beauty']}\n",
      "\n"
     ]
    }
   ],
   "source": [
    "print_cursor(match_cursor)"
   ]
  },
  {
   "cell_type": "markdown",
   "id": "ac3ca0e0",
   "metadata": {},
   "source": [
    "### project"
   ]
  },
  {
   "cell_type": "code",
   "execution_count": 228,
   "id": "87a954d8",
   "metadata": {},
   "outputs": [],
   "source": [
    "project_cursor = db.products.aggregate([\n",
    "    {\"$project\": {\"_id\": 0,\"product_name\": \"$name\", \"tags\": 1}}\n",
    "])"
   ]
  },
  {
   "cell_type": "code",
   "execution_count": 229,
   "id": "b623aea9",
   "metadata": {},
   "outputs": [
    {
     "name": "stdout",
     "output_type": "stream",
     "text": [
      "{'product_name': 'Mug', 'tags': ['Home', 'Kitchen']}\n",
      "\n",
      "{'product_name': 'Moisturizer', 'tags': ['Beauty']}\n",
      "\n",
      "{'product_name': 'Pens', 'tags': ['Office', 'School']}\n",
      "\n",
      "{'product_name': 'Face Cleanser', 'tags': ['Beauty']}\n",
      "\n",
      "{'product_name': 'Concealer Makeup', 'tags': ['Beauty']}\n",
      "\n",
      "{'product_name': 'Eyeliner', 'tags': ['Beauty']}\n",
      "\n"
     ]
    }
   ],
   "source": [
    "print_cursor(project_cursor)"
   ]
  },
  {
   "cell_type": "code",
   "execution_count": 230,
   "id": "2a748591",
   "metadata": {},
   "outputs": [],
   "source": [
    "match_project_cursor = db.products.aggregate([\n",
    "    {\"$match\": {\"name\": \"Pens\"}},\n",
    "    {\"$project\": {\"_id\": 0, \"product_name\": \"$name\", \"tags\": 1}}\n",
    "])"
   ]
  },
  {
   "cell_type": "code",
   "execution_count": 231,
   "id": "13939e4a",
   "metadata": {},
   "outputs": [
    {
     "name": "stdout",
     "output_type": "stream",
     "text": [
      "{'product_name': 'Pens', 'tags': ['Office', 'School']}\n",
      "\n"
     ]
    }
   ],
   "source": [
    "print_cursor(match_project_cursor)"
   ]
  },
  {
   "cell_type": "markdown",
   "id": "04882350",
   "metadata": {},
   "source": [
    "### unset"
   ]
  },
  {
   "cell_type": "code",
   "execution_count": 232,
   "id": "c32b98a0",
   "metadata": {},
   "outputs": [],
   "source": [
    "unset_cursor = db.products.aggregate([\n",
    "    {\"$unset\": [\"_id\", \"seller_id\"]}\n",
    "])"
   ]
  },
  {
   "cell_type": "code",
   "execution_count": 233,
   "id": "c12df64a",
   "metadata": {},
   "outputs": [
    {
     "name": "stdout",
     "output_type": "stream",
     "text": [
      "{'name': 'Mug', 'tags': ['Home', 'Kitchen']}\n",
      "\n",
      "{'name': 'Moisturizer', 'tags': ['Beauty']}\n",
      "\n",
      "{'name': 'Pens', 'tags': ['Office', 'School']}\n",
      "\n",
      "{'name': 'Face Cleanser', 'tags': ['Beauty']}\n",
      "\n",
      "{'name': 'Concealer Makeup', 'tags': ['Beauty']}\n",
      "\n",
      "{'name': 'Eyeliner', 'tags': ['Beauty']}\n",
      "\n"
     ]
    }
   ],
   "source": [
    "print_cursor(unset_cursor)"
   ]
  },
  {
   "cell_type": "code",
   "execution_count": 234,
   "id": "b7874852",
   "metadata": {},
   "outputs": [],
   "source": [
    "unset_cursor = db.products.aggregate([\n",
    "    {\"$match\": {\"name\": \"Pens\"}},\n",
    "    {\"$unset\": [\"_id\", \"seller_id\"]}\n",
    "])"
   ]
  },
  {
   "cell_type": "code",
   "execution_count": 235,
   "id": "cf04aeff",
   "metadata": {},
   "outputs": [
    {
     "name": "stdout",
     "output_type": "stream",
     "text": [
      "{'name': 'Pens', 'tags': ['Office', 'School']}\n",
      "\n"
     ]
    }
   ],
   "source": [
    "print_cursor(unset_cursor)"
   ]
  },
  {
   "cell_type": "markdown",
   "id": "8e7c4a5b",
   "metadata": {},
   "source": [
    "### limit"
   ]
  },
  {
   "cell_type": "code",
   "execution_count": 236,
   "id": "44b55947",
   "metadata": {},
   "outputs": [],
   "source": [
    "limit_cursor = db.products.aggregate([\n",
    "    {\"$limit\": 3}\n",
    "])"
   ]
  },
  {
   "cell_type": "code",
   "execution_count": 237,
   "id": "23906526",
   "metadata": {},
   "outputs": [
    {
     "name": "stdout",
     "output_type": "stream",
     "text": [
      "{'_id': ObjectId('6874fae37d59a390047b630b'),\n",
      " 'name': 'Mug',\n",
      " 'seller_id': ObjectId('6874fae37d59a390047b6305'),\n",
      " 'tags': ['Home', 'Kitchen']}\n",
      "\n",
      "{'_id': ObjectId('6874fae37d59a390047b630c'),\n",
      " 'name': 'Moisturizer',\n",
      " 'seller_id': ObjectId('6874fae37d59a390047b6305'),\n",
      " 'tags': ['Beauty']}\n",
      "\n",
      "{'_id': ObjectId('6874fae37d59a390047b630d'),\n",
      " 'name': 'Pens',\n",
      " 'seller_id': ObjectId('6874fae37d59a390047b6306'),\n",
      " 'tags': ['Office', 'School']}\n",
      "\n"
     ]
    }
   ],
   "source": [
    "print_cursor(limit_cursor)"
   ]
  },
  {
   "cell_type": "markdown",
   "id": "faf134d5",
   "metadata": {},
   "source": [
    "### skip"
   ]
  },
  {
   "cell_type": "code",
   "execution_count": 238,
   "id": "ca13feb0",
   "metadata": {},
   "outputs": [],
   "source": [
    "skip_cursor = db.products.aggregate([\n",
    "    {\"$skip\": 2}\n",
    "])"
   ]
  },
  {
   "cell_type": "code",
   "execution_count": 239,
   "id": "ab0b19d8",
   "metadata": {},
   "outputs": [
    {
     "name": "stdout",
     "output_type": "stream",
     "text": [
      "{'_id': ObjectId('6874fae37d59a390047b630d'),\n",
      " 'name': 'Pens',\n",
      " 'seller_id': ObjectId('6874fae37d59a390047b6306'),\n",
      " 'tags': ['Office', 'School']}\n",
      "\n",
      "{'_id': ObjectId('6874fae37d59a390047b630e'),\n",
      " 'name': 'Face Cleanser',\n",
      " 'seller_id': ObjectId('6874fae37d59a390047b6305'),\n",
      " 'tags': ['Beauty']}\n",
      "\n",
      "{'_id': ObjectId('6874fae37d59a390047b630f'),\n",
      " 'name': 'Concealer Makeup',\n",
      " 'seller_id': ObjectId('6874fae37d59a390047b6308'),\n",
      " 'tags': ['Beauty']}\n",
      "\n",
      "{'_id': ObjectId('6874fae37d59a390047b6310'),\n",
      " 'name': 'Eyeliner',\n",
      " 'seller_id': ObjectId('6874fae37d59a390047b6309'),\n",
      " 'tags': ['Beauty']}\n",
      "\n"
     ]
    }
   ],
   "source": [
    "print_cursor(skip_cursor)"
   ]
  },
  {
   "cell_type": "code",
   "execution_count": 240,
   "id": "56973212",
   "metadata": {},
   "outputs": [],
   "source": [
    "limit_and_skip_cursor = db.products.aggregate([\n",
    "    {\"$skip\": 2},\n",
    "    {\"$limit\": 3}\n",
    "])"
   ]
  },
  {
   "cell_type": "code",
   "execution_count": 241,
   "id": "e2d2ffdf",
   "metadata": {},
   "outputs": [
    {
     "name": "stdout",
     "output_type": "stream",
     "text": [
      "{'_id': ObjectId('6874fae37d59a390047b630d'),\n",
      " 'name': 'Pens',\n",
      " 'seller_id': ObjectId('6874fae37d59a390047b6306'),\n",
      " 'tags': ['Office', 'School']}\n",
      "\n",
      "{'_id': ObjectId('6874fae37d59a390047b630e'),\n",
      " 'name': 'Face Cleanser',\n",
      " 'seller_id': ObjectId('6874fae37d59a390047b6305'),\n",
      " 'tags': ['Beauty']}\n",
      "\n",
      "{'_id': ObjectId('6874fae37d59a390047b630f'),\n",
      " 'name': 'Concealer Makeup',\n",
      " 'seller_id': ObjectId('6874fae37d59a390047b6308'),\n",
      " 'tags': ['Beauty']}\n",
      "\n"
     ]
    }
   ],
   "source": [
    "print_cursor(limit_and_skip_cursor)"
   ]
  },
  {
   "cell_type": "markdown",
   "id": "cf3cfd7e",
   "metadata": {},
   "source": [
    "### sort"
   ]
  },
  {
   "cell_type": "code",
   "execution_count": 242,
   "id": "66868355",
   "metadata": {},
   "outputs": [],
   "source": [
    "sort_cursor = db.products.aggregate([\n",
    "    {\"$sort\": {\"name\": 1}}\n",
    "])"
   ]
  },
  {
   "cell_type": "code",
   "execution_count": 243,
   "id": "b3673dc2",
   "metadata": {},
   "outputs": [
    {
     "name": "stdout",
     "output_type": "stream",
     "text": [
      "{'_id': ObjectId('6874fae37d59a390047b630f'),\n",
      " 'name': 'Concealer Makeup',\n",
      " 'seller_id': ObjectId('6874fae37d59a390047b6308'),\n",
      " 'tags': ['Beauty']}\n",
      "\n",
      "{'_id': ObjectId('6874fae37d59a390047b6310'),\n",
      " 'name': 'Eyeliner',\n",
      " 'seller_id': ObjectId('6874fae37d59a390047b6309'),\n",
      " 'tags': ['Beauty']}\n",
      "\n",
      "{'_id': ObjectId('6874fae37d59a390047b630e'),\n",
      " 'name': 'Face Cleanser',\n",
      " 'seller_id': ObjectId('6874fae37d59a390047b6305'),\n",
      " 'tags': ['Beauty']}\n",
      "\n",
      "{'_id': ObjectId('6874fae37d59a390047b630c'),\n",
      " 'name': 'Moisturizer',\n",
      " 'seller_id': ObjectId('6874fae37d59a390047b6305'),\n",
      " 'tags': ['Beauty']}\n",
      "\n",
      "{'_id': ObjectId('6874fae37d59a390047b630b'),\n",
      " 'name': 'Mug',\n",
      " 'seller_id': ObjectId('6874fae37d59a390047b6305'),\n",
      " 'tags': ['Home', 'Kitchen']}\n",
      "\n",
      "{'_id': ObjectId('6874fae37d59a390047b630d'),\n",
      " 'name': 'Pens',\n",
      " 'seller_id': ObjectId('6874fae37d59a390047b6306'),\n",
      " 'tags': ['Office', 'School']}\n",
      "\n"
     ]
    }
   ],
   "source": [
    "print_cursor(sort_cursor)"
   ]
  },
  {
   "cell_type": "markdown",
   "id": "cc603160",
   "metadata": {},
   "source": [
    "### count"
   ]
  },
  {
   "cell_type": "code",
   "execution_count": 244,
   "id": "e614928f",
   "metadata": {},
   "outputs": [],
   "source": [
    "count_cursor = db.products.aggregate([\n",
    "    {\"$match\": {\"tags\": \"Beauty\"}},\n",
    "    {\"$count\": \"beauty_products_count\"}\n",
    "])"
   ]
  },
  {
   "cell_type": "code",
   "execution_count": 245,
   "id": "f808edf7",
   "metadata": {},
   "outputs": [
    {
     "name": "stdout",
     "output_type": "stream",
     "text": [
      "{'beauty_products_count': 4}\n",
      "\n"
     ]
    }
   ],
   "source": [
    "print_cursor(count_cursor)"
   ]
  },
  {
   "cell_type": "markdown",
   "id": "bb13a6bf",
   "metadata": {},
   "source": [
    "### sortByCount"
   ]
  },
  {
   "cell_type": "code",
   "execution_count": 246,
   "id": "33fb709e",
   "metadata": {},
   "outputs": [],
   "source": [
    "sort_by_count_cursor = db.products.aggregate([\n",
    "    {\"$sortByCount\": \"$tags\"}\n",
    "])"
   ]
  },
  {
   "cell_type": "code",
   "execution_count": 247,
   "id": "831dbce5",
   "metadata": {},
   "outputs": [
    {
     "name": "stdout",
     "output_type": "stream",
     "text": [
      "{'_id': ['Beauty'], 'count': 4}\n",
      "\n",
      "{'_id': ['Home', 'Kitchen'], 'count': 1}\n",
      "\n",
      "{'_id': ['Office', 'School'], 'count': 1}\n",
      "\n"
     ]
    }
   ],
   "source": [
    "print_cursor(sort_by_count_cursor)"
   ]
  },
  {
   "cell_type": "markdown",
   "id": "513b1fda",
   "metadata": {},
   "source": [
    "### size (operator)"
   ]
  },
  {
   "cell_type": "code",
   "execution_count": 248,
   "id": "bf97ff8f",
   "metadata": {},
   "outputs": [],
   "source": [
    "project_cursor = db.products.aggregate([\n",
    "    {\"$project\": {\"_id\": 0, \"name\":1, \"num_tags\": {\"$size\":\"$tags\"}, \"tags\": \"$tags\"}}\n",
    "])"
   ]
  },
  {
   "cell_type": "code",
   "execution_count": 249,
   "id": "ec03239c",
   "metadata": {},
   "outputs": [
    {
     "name": "stdout",
     "output_type": "stream",
     "text": [
      "{'name': 'Mug', 'num_tags': 2, 'tags': ['Home', 'Kitchen']}\n",
      "\n",
      "{'name': 'Moisturizer', 'num_tags': 1, 'tags': ['Beauty']}\n",
      "\n",
      "{'name': 'Pens', 'num_tags': 2, 'tags': ['Office', 'School']}\n",
      "\n",
      "{'name': 'Face Cleanser', 'num_tags': 1, 'tags': ['Beauty']}\n",
      "\n",
      "{'name': 'Concealer Makeup', 'num_tags': 1, 'tags': ['Beauty']}\n",
      "\n",
      "{'name': 'Eyeliner', 'num_tags': 1, 'tags': ['Beauty']}\n",
      "\n"
     ]
    }
   ],
   "source": [
    "print_cursor(project_cursor)"
   ]
  },
  {
   "cell_type": "markdown",
   "id": "68aace6a",
   "metadata": {},
   "source": [
    "### in (operator)"
   ]
  },
  {
   "cell_type": "code",
   "execution_count": 250,
   "id": "c72ad1c9",
   "metadata": {},
   "outputs": [],
   "source": [
    "project_cursor = db.products.aggregate([\n",
    "    {\"$project\": {\"_id\": 0, \"name\":1, \"is_beauty_product\": {\"$in\": [\"Beauty\", \"$tags\"]}, \"tags\": \"$tags\"}}\n",
    "])"
   ]
  },
  {
   "cell_type": "code",
   "execution_count": 251,
   "id": "65541099",
   "metadata": {},
   "outputs": [
    {
     "name": "stdout",
     "output_type": "stream",
     "text": [
      "{'is_beauty_product': False, 'name': 'Mug', 'tags': ['Home', 'Kitchen']}\n",
      "\n",
      "{'is_beauty_product': True, 'name': 'Moisturizer', 'tags': ['Beauty']}\n",
      "\n",
      "{'is_beauty_product': False, 'name': 'Pens', 'tags': ['Office', 'School']}\n",
      "\n",
      "{'is_beauty_product': True, 'name': 'Face Cleanser', 'tags': ['Beauty']}\n",
      "\n",
      "{'is_beauty_product': True, 'name': 'Concealer Makeup', 'tags': ['Beauty']}\n",
      "\n",
      "{'is_beauty_product': True, 'name': 'Eyeliner', 'tags': ['Beauty']}\n",
      "\n"
     ]
    }
   ],
   "source": [
    "print_cursor(project_cursor)"
   ]
  },
  {
   "cell_type": "markdown",
   "id": "263b898e",
   "metadata": {},
   "source": [
    "### arrayElemAt (operator)"
   ]
  },
  {
   "cell_type": "code",
   "execution_count": 252,
   "id": "b922b021",
   "metadata": {},
   "outputs": [],
   "source": [
    "project_cursor = db.products.aggregate([\n",
    "    {\"$project\": {\"_id\": 0, \"name\":1, \"first_tag\": {\"$arrayElemAt\": [\"$tags\", 0]}, \"tags\": \"$tags\"}}\n",
    "])"
   ]
  },
  {
   "cell_type": "code",
   "execution_count": 253,
   "id": "4ecd4cbc",
   "metadata": {},
   "outputs": [
    {
     "name": "stdout",
     "output_type": "stream",
     "text": [
      "{'first_tag': 'Home', 'name': 'Mug', 'tags': ['Home', 'Kitchen']}\n",
      "\n",
      "{'first_tag': 'Beauty', 'name': 'Moisturizer', 'tags': ['Beauty']}\n",
      "\n",
      "{'first_tag': 'Office', 'name': 'Pens', 'tags': ['Office', 'School']}\n",
      "\n",
      "{'first_tag': 'Beauty', 'name': 'Face Cleanser', 'tags': ['Beauty']}\n",
      "\n",
      "{'first_tag': 'Beauty', 'name': 'Concealer Makeup', 'tags': ['Beauty']}\n",
      "\n",
      "{'first_tag': 'Beauty', 'name': 'Eyeliner', 'tags': ['Beauty']}\n",
      "\n"
     ]
    }
   ],
   "source": [
    "print_cursor(project_cursor)"
   ]
  },
  {
   "cell_type": "markdown",
   "id": "5e043b40",
   "metadata": {},
   "source": [
    "### first (operator)"
   ]
  },
  {
   "cell_type": "code",
   "execution_count": 254,
   "id": "e191bf85",
   "metadata": {},
   "outputs": [],
   "source": [
    "project_cursor = db.products.aggregate([\n",
    "    {\"$project\": {\"_id\": 0, \"name\":1, \"first_tag\": {\"$first\": \"$tags\"}, \"tags\": \"$tags\"}}\n",
    "])"
   ]
  },
  {
   "cell_type": "code",
   "execution_count": 255,
   "id": "73782dc1",
   "metadata": {},
   "outputs": [
    {
     "name": "stdout",
     "output_type": "stream",
     "text": [
      "{'first_tag': 'Home', 'name': 'Mug', 'tags': ['Home', 'Kitchen']}\n",
      "\n",
      "{'first_tag': 'Beauty', 'name': 'Moisturizer', 'tags': ['Beauty']}\n",
      "\n",
      "{'first_tag': 'Office', 'name': 'Pens', 'tags': ['Office', 'School']}\n",
      "\n",
      "{'first_tag': 'Beauty', 'name': 'Face Cleanser', 'tags': ['Beauty']}\n",
      "\n",
      "{'first_tag': 'Beauty', 'name': 'Concealer Makeup', 'tags': ['Beauty']}\n",
      "\n",
      "{'first_tag': 'Beauty', 'name': 'Eyeliner', 'tags': ['Beauty']}\n",
      "\n"
     ]
    }
   ],
   "source": [
    "print_cursor(project_cursor)"
   ]
  },
  {
   "cell_type": "markdown",
   "id": "30e68ea2",
   "metadata": {},
   "source": [
    "### unwind"
   ]
  },
  {
   "cell_type": "code",
   "execution_count": 256,
   "id": "f37aef64",
   "metadata": {},
   "outputs": [],
   "source": [
    "unwind_cursor = db.products.aggregate([\n",
    "    {\"$unwind\": \"$tags\"},\n",
    "    {\"$unset\": [\"_id\", \"seller_id\"]}\n",
    "])"
   ]
  },
  {
   "cell_type": "code",
   "execution_count": 257,
   "id": "20b9532b",
   "metadata": {},
   "outputs": [
    {
     "name": "stdout",
     "output_type": "stream",
     "text": [
      "{'name': 'Mug', 'tags': 'Home'}\n",
      "\n",
      "{'name': 'Mug', 'tags': 'Kitchen'}\n",
      "\n",
      "{'name': 'Moisturizer', 'tags': 'Beauty'}\n",
      "\n",
      "{'name': 'Pens', 'tags': 'Office'}\n",
      "\n",
      "{'name': 'Pens', 'tags': 'School'}\n",
      "\n",
      "{'name': 'Face Cleanser', 'tags': 'Beauty'}\n",
      "\n",
      "{'name': 'Concealer Makeup', 'tags': 'Beauty'}\n",
      "\n",
      "{'name': 'Eyeliner', 'tags': 'Beauty'}\n",
      "\n"
     ]
    }
   ],
   "source": [
    "print_cursor(unwind_cursor)"
   ]
  },
  {
   "cell_type": "code",
   "execution_count": 258,
   "id": "cfee9b2c",
   "metadata": {},
   "outputs": [],
   "source": [
    "unwind_cursor = db.orders.aggregate([\n",
    "    {\"$unwind\": \"$items\"}\n",
    "])"
   ]
  },
  {
   "cell_type": "code",
   "execution_count": 259,
   "id": "7d3b058a",
   "metadata": {},
   "outputs": [
    {
     "name": "stdout",
     "output_type": "stream",
     "text": [
      "{'_id': ObjectId('6874fae37d59a390047b6311'),\n",
      " 'items': {'product_id': ObjectId('6874fae37d59a390047b630c'), 'quantity': 1}}\n",
      "\n",
      "{'_id': ObjectId('6874fae37d59a390047b6311'),\n",
      " 'items': {'product_id': ObjectId('6874fae37d59a390047b630e'), 'quantity': 1}}\n",
      "\n",
      "{'_id': ObjectId('6874fae37d59a390047b6312'),\n",
      " 'items': {'product_id': ObjectId('6874fae37d59a390047b630f'), 'quantity': 1}}\n",
      "\n",
      "{'_id': ObjectId('6874fae37d59a390047b6312'),\n",
      " 'items': {'product_id': ObjectId('6874fae37d59a390047b6310'), 'quantity': 1}}\n",
      "\n",
      "{'_id': ObjectId('6874fae37d59a390047b6313'),\n",
      " 'items': {'product_id': ObjectId('6874fae37d59a390047b630d'), 'quantity': 5}}\n",
      "\n",
      "{'_id': ObjectId('6874fae37d59a390047b6313'),\n",
      " 'items': {'product_id': ObjectId('6874fae37d59a390047b630b'), 'quantity': 1}}\n",
      "\n",
      "{'_id': ObjectId('6874fae37d59a390047b6314'),\n",
      " 'items': {'product_id': ObjectId('6874fae37d59a390047b630c'), 'quantity': 2}}\n",
      "\n",
      "{'_id': ObjectId('6874fae37d59a390047b6314'),\n",
      " 'items': {'product_id': ObjectId('6874fae37d59a390047b6310'), 'quantity': 1}}\n",
      "\n",
      "{'_id': ObjectId('6874fae37d59a390047b6315'),\n",
      " 'items': {'product_id': ObjectId('6874fae37d59a390047b630c'), 'quantity': 1}}\n",
      "\n",
      "{'_id': ObjectId('6874fae37d59a390047b6316'),\n",
      " 'items': {'product_id': ObjectId('6874fae37d59a390047b630e'), 'quantity': 1}}\n",
      "\n"
     ]
    }
   ],
   "source": [
    "print_cursor(unwind_cursor)"
   ]
  },
  {
   "cell_type": "code",
   "execution_count": 260,
   "id": "1f446f99",
   "metadata": {},
   "outputs": [],
   "source": [
    "unwind_cursor = db.products.aggregate([\n",
    "    {\"$match\": {\"tags\": {\"$size\": 2}}},\n",
    "    {\"$unwind\": {\"path\": \"$tags\", \"includeArrayIndex\": \"tag_index\"}},\n",
    "    {\"$unset\": [\"_id\"]}\n",
    "])"
   ]
  },
  {
   "cell_type": "code",
   "execution_count": 261,
   "id": "fbafd26b",
   "metadata": {},
   "outputs": [
    {
     "name": "stdout",
     "output_type": "stream",
     "text": [
      "{'name': 'Mug',\n",
      " 'seller_id': ObjectId('6874fae37d59a390047b6305'),\n",
      " 'tag_index': 0,\n",
      " 'tags': 'Home'}\n",
      "\n",
      "{'name': 'Mug',\n",
      " 'seller_id': ObjectId('6874fae37d59a390047b6305'),\n",
      " 'tag_index': 1,\n",
      " 'tags': 'Kitchen'}\n",
      "\n",
      "{'name': 'Pens',\n",
      " 'seller_id': ObjectId('6874fae37d59a390047b6306'),\n",
      " 'tag_index': 0,\n",
      " 'tags': 'Office'}\n",
      "\n",
      "{'name': 'Pens',\n",
      " 'seller_id': ObjectId('6874fae37d59a390047b6306'),\n",
      " 'tag_index': 1,\n",
      " 'tags': 'School'}\n",
      "\n"
     ]
    }
   ],
   "source": [
    "print_cursor(unwind_cursor)"
   ]
  },
  {
   "cell_type": "markdown",
   "id": "ec99a04c",
   "metadata": {},
   "source": [
    "### group"
   ]
  },
  {
   "cell_type": "code",
   "execution_count": 262,
   "id": "edf6c924",
   "metadata": {},
   "outputs": [],
   "source": [
    "group_cursor = db.products.aggregate([\n",
    "    {\"$group\": {\"_id\": \"$tags\"}}\n",
    "])"
   ]
  },
  {
   "cell_type": "code",
   "execution_count": 263,
   "id": "385e48e6",
   "metadata": {},
   "outputs": [
    {
     "name": "stdout",
     "output_type": "stream",
     "text": [
      "{'_id': ['Home', 'Kitchen']}\n",
      "\n",
      "{'_id': ['Beauty']}\n",
      "\n",
      "{'_id': ['Office', 'School']}\n",
      "\n"
     ]
    }
   ],
   "source": [
    "print_cursor(group_cursor)"
   ]
  },
  {
   "cell_type": "code",
   "execution_count": 264,
   "id": "3d87ee6c",
   "metadata": {},
   "outputs": [],
   "source": [
    "group_cursor = db.products.aggregate([\n",
    "    {\"$unwind\": \"$tags\"},\n",
    "    {\"$group\": {\"_id\": \"$tags\"}}\n",
    "])"
   ]
  },
  {
   "cell_type": "code",
   "execution_count": 265,
   "id": "d7920d0a",
   "metadata": {},
   "outputs": [
    {
     "name": "stdout",
     "output_type": "stream",
     "text": [
      "{'_id': 'Home'}\n",
      "\n",
      "{'_id': 'Kitchen'}\n",
      "\n",
      "{'_id': 'Office'}\n",
      "\n",
      "{'_id': 'Beauty'}\n",
      "\n",
      "{'_id': 'School'}\n",
      "\n"
     ]
    }
   ],
   "source": [
    "print_cursor(group_cursor)"
   ]
  },
  {
   "cell_type": "markdown",
   "id": "a279c576",
   "metadata": {},
   "source": [
    "### count (accumulator operator)"
   ]
  },
  {
   "cell_type": "code",
   "execution_count": 266,
   "id": "5b87d6a7",
   "metadata": {},
   "outputs": [],
   "source": [
    "group_cursor = db.products.aggregate([\n",
    "    {\"$group\": {\"_id\": \"$tags\", \"num_entries\": {\"$count\": {}}}}\n",
    "])"
   ]
  },
  {
   "cell_type": "code",
   "execution_count": 267,
   "id": "ecaa3279",
   "metadata": {},
   "outputs": [
    {
     "name": "stdout",
     "output_type": "stream",
     "text": [
      "{'_id': ['Home', 'Kitchen'], 'num_entries': 1}\n",
      "\n",
      "{'_id': ['Beauty'], 'num_entries': 4}\n",
      "\n",
      "{'_id': ['Office', 'School'], 'num_entries': 1}\n",
      "\n"
     ]
    }
   ],
   "source": [
    "print_cursor(group_cursor)"
   ]
  },
  {
   "cell_type": "markdown",
   "id": "3bcb34b4",
   "metadata": {},
   "source": [
    "### sum (accumulator operator)"
   ]
  },
  {
   "cell_type": "code",
   "execution_count": 268,
   "id": "9e9b9428",
   "metadata": {},
   "outputs": [],
   "source": [
    "group_cursor = db.orders.aggregate([\n",
    "    {\"$unwind\": \"$items\"},\n",
    "    {\"$group\": {\"_id\": \"$items.product_id\",\"total_quantity\": {\"$sum\": \"$items.quantity\"}}}\n",
    "])"
   ]
  },
  {
   "cell_type": "code",
   "execution_count": 269,
   "id": "483e0fa9",
   "metadata": {},
   "outputs": [
    {
     "name": "stdout",
     "output_type": "stream",
     "text": [
      "{'_id': ObjectId('6874fae37d59a390047b630b'), 'total_quantity': 1}\n",
      "\n",
      "{'_id': ObjectId('6874fae37d59a390047b630e'), 'total_quantity': 2}\n",
      "\n",
      "{'_id': ObjectId('6874fae37d59a390047b6310'), 'total_quantity': 2}\n",
      "\n",
      "{'_id': ObjectId('6874fae37d59a390047b630c'), 'total_quantity': 4}\n",
      "\n",
      "{'_id': ObjectId('6874fae37d59a390047b630f'), 'total_quantity': 1}\n",
      "\n",
      "{'_id': ObjectId('6874fae37d59a390047b630d'), 'total_quantity': 5}\n",
      "\n"
     ]
    }
   ],
   "source": [
    "print_cursor(group_cursor)"
   ]
  },
  {
   "cell_type": "markdown",
   "id": "00e61049",
   "metadata": {},
   "source": [
    "### first, last (accumulator operators)"
   ]
  },
  {
   "cell_type": "code",
   "execution_count": 270,
   "id": "eb92e8a1",
   "metadata": {},
   "outputs": [],
   "source": [
    "group_cursor = db.products.aggregate([\n",
    "    {\"$group\": {\"_id\": \"$tags\",\"num_entries\": {\"$count\": {}}, \"first\": {\"$first\": \"$name\"}, \"last\": {\"$last\": \"$name\"}}}\n",
    "])"
   ]
  },
  {
   "cell_type": "code",
   "execution_count": 271,
   "id": "96daac5e",
   "metadata": {},
   "outputs": [
    {
     "name": "stdout",
     "output_type": "stream",
     "text": [
      "{'_id': ['Office', 'School'], 'first': 'Pens', 'last': 'Pens', 'num_entries': 1}\n",
      "\n",
      "{'_id': ['Home', 'Kitchen'], 'first': 'Mug', 'last': 'Mug', 'num_entries': 1}\n",
      "\n",
      "{'_id': ['Beauty'],\n",
      " 'first': 'Moisturizer',\n",
      " 'last': 'Eyeliner',\n",
      " 'num_entries': 4}\n",
      "\n"
     ]
    }
   ],
   "source": [
    "print_cursor(group_cursor)"
   ]
  },
  {
   "cell_type": "markdown",
   "id": "5995ad84",
   "metadata": {},
   "source": [
    "### push (accumulator operator)"
   ]
  },
  {
   "cell_type": "code",
   "execution_count": 272,
   "id": "96d2b785",
   "metadata": {},
   "outputs": [],
   "source": [
    "group_cursor = db.products.aggregate([\n",
    "    {\"$group\": {\"_id\": \"$tags\", \"products\": {\"$push\": \"$name\"}}}\n",
    "])"
   ]
  },
  {
   "cell_type": "code",
   "execution_count": 273,
   "id": "30ac5920",
   "metadata": {
    "scrolled": true
   },
   "outputs": [
    {
     "name": "stdout",
     "output_type": "stream",
     "text": [
      "{'_id': ['Office', 'School'], 'products': ['Pens']}\n",
      "\n",
      "{'_id': ['Home', 'Kitchen'], 'products': ['Mug']}\n",
      "\n",
      "{'_id': ['Beauty'],\n",
      " 'products': ['Moisturizer', 'Face Cleanser', 'Concealer Makeup', 'Eyeliner']}\n",
      "\n"
     ]
    }
   ],
   "source": [
    "print_cursor(group_cursor)"
   ]
  },
  {
   "cell_type": "markdown",
   "id": "3ed8a264",
   "metadata": {},
   "source": [
    "### addToSet (accumulator operator)"
   ]
  },
  {
   "cell_type": "code",
   "execution_count": 274,
   "id": "266f042d",
   "metadata": {},
   "outputs": [],
   "source": [
    "group_cursor = db.products.aggregate([\n",
    "    {\"$group\": {\"_id\": \"$tags\", \"products\": {\"$addToSet\": \"$name\"}}}\n",
    "])"
   ]
  },
  {
   "cell_type": "code",
   "execution_count": 275,
   "id": "7178b7bb",
   "metadata": {},
   "outputs": [
    {
     "name": "stdout",
     "output_type": "stream",
     "text": [
      "{'_id': ['Office', 'School'], 'products': ['Pens']}\n",
      "\n",
      "{'_id': ['Home', 'Kitchen'], 'products': ['Mug']}\n",
      "\n",
      "{'_id': ['Beauty'],\n",
      " 'products': ['Concealer Makeup', 'Eyeliner', 'Moisturizer', 'Face Cleanser']}\n",
      "\n"
     ]
    }
   ],
   "source": [
    "print_cursor(group_cursor)"
   ]
  },
  {
   "cell_type": "code",
   "execution_count": 276,
   "id": "0056f6c5",
   "metadata": {},
   "outputs": [],
   "source": [
    "group_cursor = db.products.aggregate([\n",
    "    {\"$group\": {\"_id\": \"$tags\", \"products\": {\"$addToSet\": {\"name\":\"$name\",\"seller_id\": \"$seller_id\"}}}}\n",
    "])"
   ]
  },
  {
   "cell_type": "code",
   "execution_count": 277,
   "id": "887b606d",
   "metadata": {
    "scrolled": true
   },
   "outputs": [
    {
     "name": "stdout",
     "output_type": "stream",
     "text": [
      "{'_id': ['Office', 'School'],\n",
      " 'products': [{'name': 'Pens',\n",
      "               'seller_id': ObjectId('6874fae37d59a390047b6306')}]}\n",
      "\n",
      "{'_id': ['Home', 'Kitchen'],\n",
      " 'products': [{'name': 'Mug',\n",
      "               'seller_id': ObjectId('6874fae37d59a390047b6305')}]}\n",
      "\n",
      "{'_id': ['Beauty'],\n",
      " 'products': [{'name': 'Concealer Makeup',\n",
      "               'seller_id': ObjectId('6874fae37d59a390047b6308')},\n",
      "              {'name': 'Moisturizer',\n",
      "               'seller_id': ObjectId('6874fae37d59a390047b6305')},\n",
      "              {'name': 'Eyeliner',\n",
      "               'seller_id': ObjectId('6874fae37d59a390047b6309')},\n",
      "              {'name': 'Face Cleanser',\n",
      "               'seller_id': ObjectId('6874fae37d59a390047b6305')}]}\n",
      "\n"
     ]
    }
   ],
   "source": [
    "print_cursor(group_cursor)"
   ]
  },
  {
   "cell_type": "markdown",
   "id": "df3d0e92",
   "metadata": {},
   "source": [
    "### $$ROOT (system variable)"
   ]
  },
  {
   "cell_type": "code",
   "execution_count": 278,
   "id": "7a1ffb52",
   "metadata": {},
   "outputs": [],
   "source": [
    "group_cursor = db.products.aggregate([\n",
    "    {\"$group\": {\"_id\": \"$tags\", \"products\": {\"$addToSet\": \"$$ROOT\"}}}\n",
    "])"
   ]
  },
  {
   "cell_type": "code",
   "execution_count": 279,
   "id": "f264acd9",
   "metadata": {},
   "outputs": [
    {
     "name": "stdout",
     "output_type": "stream",
     "text": [
      "{'_id': ['Office', 'School'],\n",
      " 'products': [{'_id': ObjectId('6874fae37d59a390047b630d'),\n",
      "               'name': 'Pens',\n",
      "               'seller_id': ObjectId('6874fae37d59a390047b6306'),\n",
      "               'tags': ['Office', 'School']}]}\n",
      "\n",
      "{'_id': ['Home', 'Kitchen'],\n",
      " 'products': [{'_id': ObjectId('6874fae37d59a390047b630b'),\n",
      "               'name': 'Mug',\n",
      "               'seller_id': ObjectId('6874fae37d59a390047b6305'),\n",
      "               'tags': ['Home', 'Kitchen']}]}\n",
      "\n",
      "{'_id': ['Beauty'],\n",
      " 'products': [{'_id': ObjectId('6874fae37d59a390047b630c'),\n",
      "               'name': 'Moisturizer',\n",
      "               'seller_id': ObjectId('6874fae37d59a390047b6305'),\n",
      "               'tags': ['Beauty']},\n",
      "              {'_id': ObjectId('6874fae37d59a390047b630f'),\n",
      "               'name': 'Concealer Makeup',\n",
      "               'seller_id': ObjectId('6874fae37d59a390047b6308'),\n",
      "               'tags': ['Beauty']},\n",
      "              {'_id': ObjectId('6874fae37d59a390047b630e'),\n",
      "               'name': 'Face Cleanser',\n",
      "               'seller_id': ObjectId('6874fae37d59a390047b6305'),\n",
      "               'tags': ['Beauty']},\n",
      "              {'_id': ObjectId('6874fae37d59a390047b6310'),\n",
      "               'name': 'Eyeliner',\n",
      "               'seller_id': ObjectId('6874fae37d59a390047b6309'),\n",
      "               'tags': ['Beauty']}]}\n",
      "\n"
     ]
    }
   ],
   "source": [
    "print_cursor(group_cursor)"
   ]
  },
  {
   "cell_type": "markdown",
   "id": "daff72dd",
   "metadata": {},
   "source": [
    "### addFields"
   ]
  },
  {
   "cell_type": "code",
   "execution_count": 280,
   "id": "5561e4d6",
   "metadata": {},
   "outputs": [],
   "source": [
    "add_fields_cursor = db.products.aggregate([\n",
    "    {\"$match\": {\"name\": \"Pens\"}},\n",
    "    {\"$addFields\": {\"my_new_field\": \"hi there\", \"num_tags\": {\"$size\": \"$tags\"}}}\n",
    "])"
   ]
  },
  {
   "cell_type": "code",
   "execution_count": 281,
   "id": "2ac712f7",
   "metadata": {},
   "outputs": [
    {
     "name": "stdout",
     "output_type": "stream",
     "text": [
      "{'_id': ObjectId('6874fae37d59a390047b630d'),\n",
      " 'my_new_field': 'hi there',\n",
      " 'name': 'Pens',\n",
      " 'num_tags': 2,\n",
      " 'seller_id': ObjectId('6874fae37d59a390047b6306'),\n",
      " 'tags': ['Office', 'School']}\n",
      "\n"
     ]
    }
   ],
   "source": [
    "print_cursor(add_fields_cursor)"
   ]
  },
  {
   "cell_type": "markdown",
   "id": "400e3fb1",
   "metadata": {},
   "source": [
    "### sample"
   ]
  },
  {
   "cell_type": "code",
   "execution_count": 282,
   "id": "84e27037",
   "metadata": {},
   "outputs": [],
   "source": [
    "sample_cursor = db.products.aggregate([\n",
    "    {\"$sample\": {\"size\": 3}},\n",
    "    {\"$unset\": [\"_id\", \"seller_id\"]}\n",
    "])"
   ]
  },
  {
   "cell_type": "code",
   "execution_count": 283,
   "id": "cfa54a18",
   "metadata": {},
   "outputs": [
    {
     "name": "stdout",
     "output_type": "stream",
     "text": [
      "{'name': 'Eyeliner', 'tags': ['Beauty']}\n",
      "\n",
      "{'name': 'Pens', 'tags': ['Office', 'School']}\n",
      "\n",
      "{'name': 'Face Cleanser', 'tags': ['Beauty']}\n",
      "\n"
     ]
    }
   ],
   "source": [
    "print_cursor(sample_cursor)"
   ]
  },
  {
   "cell_type": "markdown",
   "id": "d262c1bd",
   "metadata": {},
   "source": [
    "### lookup"
   ]
  },
  {
   "cell_type": "code",
   "execution_count": 284,
   "id": "3450bbd7",
   "metadata": {},
   "outputs": [],
   "source": [
    "lookup_cursor = db.products.aggregate([\n",
    "    {\"$lookup\": {\n",
    "        \"from\": \"users\",\n",
    "        \"localField\": \"seller_id\",\n",
    "        \"foreignField\": \"_id\",\n",
    "        \"as\": \"sellers\"\n",
    "    }} \n",
    "])"
   ]
  },
  {
   "cell_type": "code",
   "execution_count": 285,
   "id": "ea3e519a",
   "metadata": {},
   "outputs": [
    {
     "name": "stdout",
     "output_type": "stream",
     "text": [
      "{'_id': ObjectId('6874fae37d59a390047b630b'),\n",
      " 'name': 'Mug',\n",
      " 'seller_id': ObjectId('6874fae37d59a390047b6305'),\n",
      " 'sellers': [{'_id': ObjectId('6874fae37d59a390047b6305'), 'name': 'Sarah'}],\n",
      " 'tags': ['Home', 'Kitchen']}\n",
      "\n",
      "{'_id': ObjectId('6874fae37d59a390047b630c'),\n",
      " 'name': 'Moisturizer',\n",
      " 'seller_id': ObjectId('6874fae37d59a390047b6305'),\n",
      " 'sellers': [{'_id': ObjectId('6874fae37d59a390047b6305'), 'name': 'Sarah'}],\n",
      " 'tags': ['Beauty']}\n",
      "\n",
      "{'_id': ObjectId('6874fae37d59a390047b630d'),\n",
      " 'name': 'Pens',\n",
      " 'seller_id': ObjectId('6874fae37d59a390047b6306'),\n",
      " 'sellers': [{'_id': ObjectId('6874fae37d59a390047b6306'), 'name': 'Bob'}],\n",
      " 'tags': ['Office', 'School']}\n",
      "\n",
      "{'_id': ObjectId('6874fae37d59a390047b630e'),\n",
      " 'name': 'Face Cleanser',\n",
      " 'seller_id': ObjectId('6874fae37d59a390047b6305'),\n",
      " 'sellers': [{'_id': ObjectId('6874fae37d59a390047b6305'), 'name': 'Sarah'}],\n",
      " 'tags': ['Beauty']}\n",
      "\n",
      "{'_id': ObjectId('6874fae37d59a390047b630f'),\n",
      " 'name': 'Concealer Makeup',\n",
      " 'seller_id': ObjectId('6874fae37d59a390047b6308'),\n",
      " 'sellers': [{'_id': ObjectId('6874fae37d59a390047b6308'), 'name': 'Lisa'}],\n",
      " 'tags': ['Beauty']}\n",
      "\n",
      "{'_id': ObjectId('6874fae37d59a390047b6310'),\n",
      " 'name': 'Eyeliner',\n",
      " 'seller_id': ObjectId('6874fae37d59a390047b6309'),\n",
      " 'sellers': [{'_id': ObjectId('6874fae37d59a390047b6309'), 'name': 'Jessica'}],\n",
      " 'tags': ['Beauty']}\n",
      "\n"
     ]
    }
   ],
   "source": [
    "print_cursor(lookup_cursor)"
   ]
  },
  {
   "cell_type": "code",
   "execution_count": 286,
   "id": "16b18ef3",
   "metadata": {},
   "outputs": [],
   "source": [
    "lookup_cursor = db.products.aggregate([\n",
    "    {\"$lookup\": \n",
    "        {\"from\": \"users\",\n",
    "         \"localField\": \"seller_id\",\n",
    "         \"foreignField\": \"_id\",\n",
    "         \"as\": \"sellers\"\n",
    "    }},\n",
    "    {\"$project\": {\"_id\": 0, \"product_name\": \"$name\", \"seller_name\": {\"$first\": \"$sellers.name\"}}}\n",
    "])"
   ]
  },
  {
   "cell_type": "code",
   "execution_count": 287,
   "id": "041ee45b",
   "metadata": {},
   "outputs": [
    {
     "name": "stdout",
     "output_type": "stream",
     "text": [
      "{'product_name': 'Mug', 'seller_name': 'Sarah'}\n",
      "\n",
      "{'product_name': 'Moisturizer', 'seller_name': 'Sarah'}\n",
      "\n",
      "{'product_name': 'Pens', 'seller_name': 'Bob'}\n",
      "\n",
      "{'product_name': 'Face Cleanser', 'seller_name': 'Sarah'}\n",
      "\n",
      "{'product_name': 'Concealer Makeup', 'seller_name': 'Lisa'}\n",
      "\n",
      "{'product_name': 'Eyeliner', 'seller_name': 'Jessica'}\n",
      "\n"
     ]
    }
   ],
   "source": [
    "print_cursor(lookup_cursor)"
   ]
  },
  {
   "cell_type": "code",
   "execution_count": 288,
   "id": "aa44995c",
   "metadata": {},
   "outputs": [],
   "source": [
    "lookup_cursor = db.users.aggregate([\n",
    "    {\"$lookup\": \n",
    "        {\"from\": \"products\",\n",
    "         \"localField\": \"_id\",\n",
    "         \"foreignField\": \"seller_id\",\n",
    "         \"as\": \"products\"\n",
    "    }},\n",
    "    {\"$addFields\": {\"num_products\": {\"$size\": \"$products\"}}},\n",
    "    {\"$match\": {\"num_products\": {\"$gte\": 1}}},\n",
    "    {\"$project\": {\"_id\": 0, \"seller_name\": \"$name\", \"products\": \"$products.name\"}},\n",
    "])"
   ]
  },
  {
   "cell_type": "code",
   "execution_count": 289,
   "id": "2f45fc7c",
   "metadata": {},
   "outputs": [
    {
     "name": "stdout",
     "output_type": "stream",
     "text": [
      "{'products': ['Mug', 'Moisturizer', 'Face Cleanser'], 'seller_name': 'Sarah'}\n",
      "\n",
      "{'products': ['Pens'], 'seller_name': 'Bob'}\n",
      "\n",
      "{'products': ['Concealer Makeup'], 'seller_name': 'Lisa'}\n",
      "\n",
      "{'products': ['Eyeliner'], 'seller_name': 'Jessica'}\n",
      "\n"
     ]
    }
   ],
   "source": [
    "print_cursor(lookup_cursor)"
   ]
  },
  {
   "cell_type": "code",
   "execution_count": 290,
   "id": "dd60f470",
   "metadata": {},
   "outputs": [],
   "source": [
    "lookup_cursor = db.products.aggregate([\n",
    "    {\"$group\": {\"_id\": \"$seller_id\", \"product_names\": {\"$push\": \"$name\"}}},\n",
    "    {\"$lookup\": \n",
    "        {\"from\": \"users\",\n",
    "         \"localField\": \"_id\",\n",
    "         \"foreignField\": \"_id\",\n",
    "         \"as\": \"sellers\"\n",
    "    }},\n",
    "    {\"$project\": {\"_id\": 0, \"seller_name\": {\"$first\": \"$sellers.name\"}, \"products\": \"$product_names\"}},\n",
    "])"
   ]
  },
  {
   "cell_type": "code",
   "execution_count": 291,
   "id": "6b1cd0c8",
   "metadata": {},
   "outputs": [
    {
     "name": "stdout",
     "output_type": "stream",
     "text": [
      "{'products': ['Concealer Makeup'], 'seller_name': 'Lisa'}\n",
      "\n",
      "{'products': ['Mug', 'Moisturizer', 'Face Cleanser'], 'seller_name': 'Sarah'}\n",
      "\n",
      "{'products': ['Pens'], 'seller_name': 'Bob'}\n",
      "\n",
      "{'products': ['Eyeliner'], 'seller_name': 'Jessica'}\n",
      "\n"
     ]
    }
   ],
   "source": [
    "print_cursor(lookup_cursor)"
   ]
  },
  {
   "cell_type": "markdown",
   "id": "31b43027",
   "metadata": {},
   "source": [
    "### unionWith"
   ]
  },
  {
   "cell_type": "code",
   "execution_count": 292,
   "id": "9e9a8772",
   "metadata": {},
   "outputs": [],
   "source": [
    "union_cursor = db.products.aggregate([\n",
    "    {\"$unionWith\": \"users\"}\n",
    "])"
   ]
  },
  {
   "cell_type": "code",
   "execution_count": 293,
   "id": "4ffd765e",
   "metadata": {},
   "outputs": [
    {
     "name": "stdout",
     "output_type": "stream",
     "text": [
      "{'_id': ObjectId('6874fae37d59a390047b630b'),\n",
      " 'name': 'Mug',\n",
      " 'seller_id': ObjectId('6874fae37d59a390047b6305'),\n",
      " 'tags': ['Home', 'Kitchen']}\n",
      "\n",
      "{'_id': ObjectId('6874fae37d59a390047b630c'),\n",
      " 'name': 'Moisturizer',\n",
      " 'seller_id': ObjectId('6874fae37d59a390047b6305'),\n",
      " 'tags': ['Beauty']}\n",
      "\n",
      "{'_id': ObjectId('6874fae37d59a390047b630d'),\n",
      " 'name': 'Pens',\n",
      " 'seller_id': ObjectId('6874fae37d59a390047b6306'),\n",
      " 'tags': ['Office', 'School']}\n",
      "\n",
      "{'_id': ObjectId('6874fae37d59a390047b630e'),\n",
      " 'name': 'Face Cleanser',\n",
      " 'seller_id': ObjectId('6874fae37d59a390047b6305'),\n",
      " 'tags': ['Beauty']}\n",
      "\n",
      "{'_id': ObjectId('6874fae37d59a390047b630f'),\n",
      " 'name': 'Concealer Makeup',\n",
      " 'seller_id': ObjectId('6874fae37d59a390047b6308'),\n",
      " 'tags': ['Beauty']}\n",
      "\n",
      "{'_id': ObjectId('6874fae37d59a390047b6310'),\n",
      " 'name': 'Eyeliner',\n",
      " 'seller_id': ObjectId('6874fae37d59a390047b6309'),\n",
      " 'tags': ['Beauty']}\n",
      "\n",
      "{'_id': ObjectId('6874fae37d59a390047b6305'), 'name': 'Sarah'}\n",
      "\n",
      "{'_id': ObjectId('6874fae37d59a390047b6306'), 'name': 'Bob'}\n",
      "\n",
      "{'_id': ObjectId('6874fae37d59a390047b6307'), 'name': 'Jose'}\n",
      "\n",
      "{'_id': ObjectId('6874fae37d59a390047b6308'), 'name': 'Lisa'}\n",
      "\n",
      "{'_id': ObjectId('6874fae37d59a390047b6309'), 'name': 'Jessica'}\n",
      "\n",
      "{'_id': ObjectId('6874fae37d59a390047b630a'), 'name': 'Tina'}\n",
      "\n"
     ]
    }
   ],
   "source": [
    "print_cursor(union_cursor)"
   ]
  },
  {
   "cell_type": "markdown",
   "id": "080332c9",
   "metadata": {},
   "source": [
    "### regexMatch (operator)"
   ]
  },
  {
   "cell_type": "code",
   "execution_count": 294,
   "id": "73504e55",
   "metadata": {},
   "outputs": [],
   "source": [
    "search_input = \"IS\""
   ]
  },
  {
   "cell_type": "code",
   "execution_count": 295,
   "id": "54524bfa",
   "metadata": {},
   "outputs": [],
   "source": [
    "union_cursor = db.products.aggregate([\n",
    "    {\"$unionWith\": \"users\"},\n",
    "#     {\"$addFields\": {\"matched\": { '$regexMatch': { \"input\": \"$name\", \"regex\": search_input}}}},\n",
    "    {\"$addFields\": {\"matched\": { '$regexMatch': { \"input\": \"$name\", \"regex\": search_input, \"options\":\"i\" }}}},\n",
    "    {\"$match\": {\"matched\": True}},\n",
    "    {\"$unset\": [\"matched\"]}\n",
    "])"
   ]
  },
  {
   "cell_type": "code",
   "execution_count": 296,
   "id": "933be756",
   "metadata": {},
   "outputs": [
    {
     "name": "stdout",
     "output_type": "stream",
     "text": [
      "{'_id': ObjectId('6874fae37d59a390047b630c'),\n",
      " 'name': 'Moisturizer',\n",
      " 'seller_id': ObjectId('6874fae37d59a390047b6305'),\n",
      " 'tags': ['Beauty']}\n",
      "\n",
      "{'_id': ObjectId('6874fae37d59a390047b6308'), 'name': 'Lisa'}\n",
      "\n"
     ]
    }
   ],
   "source": [
    "print_cursor(union_cursor)"
   ]
  },
  {
   "cell_type": "markdown",
   "id": "3a51051f",
   "metadata": {},
   "source": [
    "### out\n",
    "*Note: You can potentially overwrite all your data in a collection with this stage, use with caution*"
   ]
  },
  {
   "cell_type": "code",
   "execution_count": 297,
   "id": "f9e82365",
   "metadata": {},
   "outputs": [],
   "source": [
    "out_cursor = db.products.aggregate([\n",
    "    {\"$match\": {\"tags\": \"Beauty\"}},\n",
    "    {\"$out\": {\"db\": \"aggregation_test\",\"coll\": \"beauty_products\"}}\n",
    "])"
   ]
  },
  {
   "cell_type": "code",
   "execution_count": 298,
   "id": "6eba3d51",
   "metadata": {},
   "outputs": [],
   "source": [
    "# The \"$out\" stage will not return cursor result entries since they were written to the specified collection\n",
    "print_cursor(out_cursor)"
   ]
  },
  {
   "cell_type": "markdown",
   "id": "fa438464",
   "metadata": {},
   "source": [
    "### merge\n",
    "*Note: You can potentially overwrite data within a collection with this stage, use with caution*"
   ]
  },
  {
   "cell_type": "code",
   "execution_count": 299,
   "id": "0e8ba155",
   "metadata": {},
   "outputs": [],
   "source": [
    "merge_cursor = db.products.aggregate([\n",
    "    {\"$match\": {\"tags\": \"Beauty\"}},\n",
    "#     {\"$project\": {\"test\": \"value\"}},\n",
    "#     {\"$merge\": {\"into\": {\"db\": \"aggregation_test\",\"coll\": \"beauty_products\"}}}\n",
    "    {\"$merge\": {\n",
    "        \"into\": {\"db\": \"aggregation_test\",\"coll\": \"beauty_products\"},\n",
    "        \"on\": \"_id\", # must specify a indexed attribute\n",
    "        \"whenMatched\": \"replace\",\n",
    "        \"whenNotMatched\":  \"insert\"\n",
    "   }}\n",
    "])"
   ]
  },
  {
   "cell_type": "code",
   "execution_count": 300,
   "id": "7fa5f383",
   "metadata": {},
   "outputs": [],
   "source": [
    "# The \"$merge\" stage will not return cursor result entries since they were used to modify the specified collection\n",
    "print_cursor(merge_cursor)"
   ]
  },
  {
   "cell_type": "markdown",
   "id": "f2cbcdc9",
   "metadata": {},
   "source": [
    "### cond (operator)"
   ]
  },
  {
   "cell_type": "code",
   "execution_count": 301,
   "id": "7bf94c0a",
   "metadata": {},
   "outputs": [],
   "source": [
    "conditional_cursor = db.users.aggregate([\n",
    "    {\"$project\": {\"_id\": 0, \"name\": 1, \"is_bob\": {\n",
    "        \"$cond\": {\"if\": {\"$eq\": [\"$name\", \"Bob\"]}, \"then\": True, \"else\": False}\n",
    "    }}}\n",
    "])"
   ]
  },
  {
   "cell_type": "code",
   "execution_count": 302,
   "id": "b30ffd4f",
   "metadata": {},
   "outputs": [
    {
     "name": "stdout",
     "output_type": "stream",
     "text": [
      "{'is_bob': False, 'name': 'Sarah'}\n",
      "\n",
      "{'is_bob': True, 'name': 'Bob'}\n",
      "\n",
      "{'is_bob': False, 'name': 'Jose'}\n",
      "\n",
      "{'is_bob': False, 'name': 'Lisa'}\n",
      "\n",
      "{'is_bob': False, 'name': 'Jessica'}\n",
      "\n",
      "{'is_bob': False, 'name': 'Tina'}\n",
      "\n"
     ]
    }
   ],
   "source": [
    "print_cursor(conditional_cursor)"
   ]
  },
  {
   "cell_type": "code",
   "execution_count": 303,
   "id": "e85540c7",
   "metadata": {},
   "outputs": [],
   "source": [
    "conditional_cursor = db.products.aggregate([\n",
    "    {\"$project\": {\"_id\": 0, \"name\": 1, \"tags\": 1, \"is_beauty_product\": {\n",
    "        \"$cond\": {\"if\": {\"$in\": [\"Beauty\", \"$tags\"]}, \"then\": True, \"else\": False}\n",
    "    }}}\n",
    "])"
   ]
  },
  {
   "cell_type": "code",
   "execution_count": 304,
   "id": "6d0b7fd4",
   "metadata": {},
   "outputs": [
    {
     "name": "stdout",
     "output_type": "stream",
     "text": [
      "{'is_beauty_product': False, 'name': 'Mug', 'tags': ['Home', 'Kitchen']}\n",
      "\n",
      "{'is_beauty_product': True, 'name': 'Moisturizer', 'tags': ['Beauty']}\n",
      "\n",
      "{'is_beauty_product': False, 'name': 'Pens', 'tags': ['Office', 'School']}\n",
      "\n",
      "{'is_beauty_product': True, 'name': 'Face Cleanser', 'tags': ['Beauty']}\n",
      "\n",
      "{'is_beauty_product': True, 'name': 'Concealer Makeup', 'tags': ['Beauty']}\n",
      "\n",
      "{'is_beauty_product': True, 'name': 'Eyeliner', 'tags': ['Beauty']}\n",
      "\n"
     ]
    }
   ],
   "source": [
    "print_cursor(conditional_cursor)"
   ]
  },
  {
   "cell_type": "markdown",
   "id": "3f50f1d1",
   "metadata": {},
   "source": [
    "### $$NOW (system variable)"
   ]
  },
  {
   "cell_type": "code",
   "execution_count": 305,
   "id": "e1503df4",
   "metadata": {},
   "outputs": [],
   "source": [
    "now_cursor = db.users.aggregate([\n",
    "    {\"$match\": {\"name\": \"Bob\"}},\n",
    "    {\"$project\": {\"_id\": 0, \"name\": 1, \"date_joined\": \"$$NOW\"}}\n",
    "])"
   ]
  },
  {
   "cell_type": "code",
   "execution_count": 306,
   "id": "bd4fd757",
   "metadata": {},
   "outputs": [
    {
     "name": "stdout",
     "output_type": "stream",
     "text": [
      "{'date_joined': datetime.datetime(2025, 7, 16, 16, 6, 18, 114000),\n",
      " 'name': 'Bob'}\n",
      "\n"
     ]
    }
   ],
   "source": [
    "print_cursor(now_cursor)"
   ]
  },
  {
   "cell_type": "markdown",
   "id": "a4513e17",
   "metadata": {},
   "source": [
    "### Date Operators"
   ]
  },
  {
   "cell_type": "code",
   "execution_count": 307,
   "id": "feaa7da2",
   "metadata": {},
   "outputs": [],
   "source": [
    "date_add_cursor = db.users.aggregate([\n",
    "    {\"$match\": {\"name\": \"Bob\"}},\n",
    "    {\"$addFields\": {\"date_joined\": \"$$NOW\"}},\n",
    "    {\"$project\": {\"_id\": 0, \"name\": 1, \"date_joined\": 1, \"premium_exp_date\": {\n",
    "        \"$dateAdd\": {\"startDate\": \"$date_joined\", \"unit\": \"day\", \"amount\": 7}\n",
    "    }}}\n",
    "])"
   ]
  },
  {
   "cell_type": "code",
   "execution_count": 308,
   "id": "38fd8728",
   "metadata": {},
   "outputs": [
    {
     "name": "stdout",
     "output_type": "stream",
     "text": [
      "{'date_joined': datetime.datetime(2025, 7, 16, 16, 6, 18, 145000),\n",
      " 'name': 'Bob',\n",
      " 'premium_exp_date': datetime.datetime(2025, 7, 23, 16, 6, 18, 145000)}\n",
      "\n"
     ]
    }
   ],
   "source": [
    "print_cursor(date_add_cursor)"
   ]
  },
  {
   "cell_type": "code",
   "execution_count": 309,
   "id": "7030d6a9",
   "metadata": {},
   "outputs": [],
   "source": [
    "date_diff_cursor = db.users.aggregate([\n",
    "    {\"$match\": {\"name\": \"Bob\"}},\n",
    "    {\"$addFields\": {\"date_joined\": \"$$NOW\"}},\n",
    "    {\"$project\": {\"_id\": 0, \"name\": 1, \"date_joined\": 1, \"premium_exp_date\": {\n",
    "        \"$dateAdd\": {\"startDate\": \"$date_joined\", \"unit\": \"week\", \"amount\": 2}\n",
    "    }}},\n",
    "    {\"$addFields\": {\"premium_days_left\": {\n",
    "        \"$dateDiff\": {\"startDate\": \"$date_joined\",\"endDate\": \"$premium_exp_date\", \"unit\": \"day\"}\n",
    "    }}},\n",
    "])"
   ]
  },
  {
   "cell_type": "code",
   "execution_count": 310,
   "id": "87c06393",
   "metadata": {},
   "outputs": [
    {
     "name": "stdout",
     "output_type": "stream",
     "text": [
      "{'date_joined': datetime.datetime(2025, 7, 16, 16, 6, 18, 178000),\n",
      " 'name': 'Bob',\n",
      " 'premium_days_left': 14,\n",
      " 'premium_exp_date': datetime.datetime(2025, 7, 30, 16, 6, 18, 178000)}\n",
      "\n"
     ]
    }
   ],
   "source": [
    "print_cursor(date_diff_cursor)"
   ]
  },
  {
   "cell_type": "code",
   "execution_count": 311,
   "id": "a2339adf",
   "metadata": {},
   "outputs": [],
   "source": [
    "date_to_parts_cursor = db.users.aggregate([\n",
    "    {\"$match\": {\"name\": \"Bob\"}},\n",
    "    {\"$addFields\": {\"date_joined\": \"$$NOW\"}},\n",
    "    {\"$project\": {\"_id\": 0, \"name\": 1, \"date_joined\": 1, \"date_joined_parts\": {\n",
    "        \"$dateToParts\": {\"date\": \"$date_joined\"}\n",
    "    }}}\n",
    "])"
   ]
  },
  {
   "cell_type": "code",
   "execution_count": 312,
   "id": "708938c8",
   "metadata": {},
   "outputs": [
    {
     "name": "stdout",
     "output_type": "stream",
     "text": [
      "{'date_joined': datetime.datetime(2025, 7, 16, 16, 6, 18, 210000),\n",
      " 'date_joined_parts': {'day': 16,\n",
      "                       'hour': 16,\n",
      "                       'millisecond': 210,\n",
      "                       'minute': 6,\n",
      "                       'month': 7,\n",
      "                       'second': 18,\n",
      "                       'year': 2025},\n",
      " 'name': 'Bob'}\n",
      "\n"
     ]
    }
   ],
   "source": [
    "print_cursor(date_to_parts_cursor)"
   ]
  },
  {
   "cell_type": "code",
   "execution_count": 313,
   "id": "f3945b91",
   "metadata": {},
   "outputs": [],
   "source": [
    "date_year_cursor = db.users.aggregate([\n",
    "    {\"$match\": {\"name\": \"Bob\"}},\n",
    "    {\"$project\": {\"_id\": 0, \"name\": 1, \"date_joined\": 1, \"date_joined_year\": {\n",
    "        \"$year\": \"$$NOW\"\n",
    "    }}}\n",
    "])"
   ]
  },
  {
   "cell_type": "code",
   "execution_count": 314,
   "id": "6a31039d",
   "metadata": {},
   "outputs": [
    {
     "name": "stdout",
     "output_type": "stream",
     "text": [
      "{'date_joined_year': 2025, 'name': 'Bob'}\n",
      "\n"
     ]
    }
   ],
   "source": [
    "print_cursor(date_year_cursor)"
   ]
  },
  {
   "cell_type": "markdown",
   "id": "531bc8cf",
   "metadata": {},
   "source": [
    "### expr (operator)"
   ]
  },
  {
   "cell_type": "code",
   "execution_count": 315,
   "id": "66a80fd7",
   "metadata": {},
   "outputs": [],
   "source": [
    "# Without Expressions\n",
    "add_field_cursor = db.users.aggregate([\n",
    "    {\"$match\": {\"name\": \"Bob\"}},\n",
    "    {\"$addFields\": {\"date_joined\": \"$$NOW\"}},\n",
    "    {\"$addFields\": {\"premium_exp_date\": {\n",
    "        \"$dateAdd\": {\"startDate\": \"$date_joined\", \"unit\": \"day\", \"amount\": 7}\n",
    "    }}},\n",
    "    {\"$addFields\": {\"premium_days_left\": {\n",
    "        \"$dateDiff\": {\"startDate\": \"$date_joined\",\"endDate\": \"$premium_exp_date\", \"unit\": \"day\"}\n",
    "    }}},\n",
    "    {\"$match\": {\"premium_days_left\": {\"$lt\": 10}}},\n",
    "])"
   ]
  },
  {
   "cell_type": "code",
   "execution_count": 316,
   "id": "1cb2d077",
   "metadata": {},
   "outputs": [
    {
     "name": "stdout",
     "output_type": "stream",
     "text": [
      "{'_id': ObjectId('6874fae37d59a390047b6306'),\n",
      " 'date_joined': datetime.datetime(2025, 7, 16, 16, 6, 18, 282000),\n",
      " 'name': 'Bob',\n",
      " 'premium_days_left': 7,\n",
      " 'premium_exp_date': datetime.datetime(2025, 7, 23, 16, 6, 18, 282000)}\n",
      "\n"
     ]
    }
   ],
   "source": [
    "print_cursor(add_field_cursor)"
   ]
  },
  {
   "cell_type": "code",
   "execution_count": 317,
   "id": "abb386e4",
   "metadata": {},
   "outputs": [],
   "source": [
    "# With Expressions\n",
    "expresion_cursor = db.users.aggregate([\n",
    "    {\"$match\": {\"name\": \"Bob\"}},\n",
    "    {\"$addFields\": {\"date_joined\": \"$$NOW\"}},\n",
    "    {\"$addFields\": {\"premium_exp_date\": {\n",
    "        \"$dateAdd\": {\"startDate\": \"$date_joined\", \"unit\": \"day\", \"amount\": 7}\n",
    "    }}},\n",
    "    {\"$match\": {\"$expr\": {\n",
    "        \"$lt\": [{\"$dateDiff\": {\"startDate\": \"$date_joined\",\"endDate\": \"$premium_exp_date\", \"unit\": \"day\"}}, 10] \n",
    "    }}},\n",
    "])"
   ]
  },
  {
   "cell_type": "code",
   "execution_count": 318,
   "id": "2a114bfb",
   "metadata": {},
   "outputs": [
    {
     "name": "stdout",
     "output_type": "stream",
     "text": [
      "{'_id': ObjectId('6874fae37d59a390047b6306'),\n",
      " 'date_joined': datetime.datetime(2025, 7, 16, 16, 6, 18, 312000),\n",
      " 'name': 'Bob',\n",
      " 'premium_exp_date': datetime.datetime(2025, 7, 23, 16, 6, 18, 312000)}\n",
      "\n"
     ]
    }
   ],
   "source": [
    "print_cursor(expresion_cursor)"
   ]
  },
  {
   "cell_type": "markdown",
   "id": "f46023d4",
   "metadata": {},
   "source": [
    "### ifNull (operator)"
   ]
  },
  {
   "cell_type": "code",
   "execution_count": 319,
   "id": "ea89b41e",
   "metadata": {},
   "outputs": [],
   "source": [
    "### A user with no name was added, and Bob was given a 'premium_exp_date' in the compass app\n",
    "if_null_cursor = db.users.aggregate([\n",
    "#     {\"$project\": {\"_id\": 0, \"name\": 1, \"premium_exp_date\": 1}},\n",
    "    {\"$project\": {\"_id\": 0, \"name\": 1, \"has_premium_exp_date\": {\n",
    "        \"$ifNull\": [\"$premium_exp_date\", \"$name\", False]\n",
    "    }}},\n",
    "])"
   ]
  },
  {
   "cell_type": "code",
   "execution_count": 320,
   "id": "0e72e154",
   "metadata": {},
   "outputs": [
    {
     "name": "stdout",
     "output_type": "stream",
     "text": [
      "{'has_premium_exp_date': 'Sarah', 'name': 'Sarah'}\n",
      "\n",
      "{'has_premium_exp_date': 'Bob', 'name': 'Bob'}\n",
      "\n",
      "{'has_premium_exp_date': 'Jose', 'name': 'Jose'}\n",
      "\n",
      "{'has_premium_exp_date': 'Lisa', 'name': 'Lisa'}\n",
      "\n",
      "{'has_premium_exp_date': 'Jessica', 'name': 'Jessica'}\n",
      "\n",
      "{'has_premium_exp_date': 'Tina', 'name': 'Tina'}\n",
      "\n"
     ]
    }
   ],
   "source": [
    "print_cursor(if_null_cursor)"
   ]
  },
  {
   "cell_type": "markdown",
   "id": "a0d8b6f5",
   "metadata": {},
   "source": [
    "### type (operator)"
   ]
  },
  {
   "cell_type": "code",
   "execution_count": 321,
   "id": "95ba1775",
   "metadata": {},
   "outputs": [],
   "source": [
    "type_cursor = db.users.aggregate([\n",
    "    {\"$project\": {\"_id\": 0, \"name\": 1, \"name_type\": {\"$type\": \"$name\"}, \"premium_exp_date_type\": {\"$type\": \"$premium_exp_date\"},\n",
    "                 \"_id_type\": {\"$type\": \"$_id\"}\n",
    "                 }},\n",
    "])"
   ]
  },
  {
   "cell_type": "code",
   "execution_count": 322,
   "id": "4fa81cf2",
   "metadata": {},
   "outputs": [
    {
     "name": "stdout",
     "output_type": "stream",
     "text": [
      "{'_id_type': 'objectId',\n",
      " 'name': 'Sarah',\n",
      " 'name_type': 'string',\n",
      " 'premium_exp_date_type': 'missing'}\n",
      "\n",
      "{'_id_type': 'objectId',\n",
      " 'name': 'Bob',\n",
      " 'name_type': 'string',\n",
      " 'premium_exp_date_type': 'missing'}\n",
      "\n",
      "{'_id_type': 'objectId',\n",
      " 'name': 'Jose',\n",
      " 'name_type': 'string',\n",
      " 'premium_exp_date_type': 'missing'}\n",
      "\n",
      "{'_id_type': 'objectId',\n",
      " 'name': 'Lisa',\n",
      " 'name_type': 'string',\n",
      " 'premium_exp_date_type': 'missing'}\n",
      "\n",
      "{'_id_type': 'objectId',\n",
      " 'name': 'Jessica',\n",
      " 'name_type': 'string',\n",
      " 'premium_exp_date_type': 'missing'}\n",
      "\n",
      "{'_id_type': 'objectId',\n",
      " 'name': 'Tina',\n",
      " 'name_type': 'string',\n",
      " 'premium_exp_date_type': 'missing'}\n",
      "\n"
     ]
    }
   ],
   "source": [
    "print_cursor(type_cursor)"
   ]
  },
  {
   "cell_type": "markdown",
   "id": "c2dd1e66",
   "metadata": {},
   "source": [
    "### switch (operator)"
   ]
  },
  {
   "cell_type": "code",
   "execution_count": 323,
   "id": "07698a22",
   "metadata": {},
   "outputs": [],
   "source": [
    "def func_1():\n",
    "    print(\"This is Func 1\")\n",
    "    \n",
    "def func_2():\n",
    "    print(\"This is Func 2\")\n",
    "    \n",
    "def func_3():\n",
    "    print(\"This is Func 3\")"
   ]
  },
  {
   "cell_type": "code",
   "execution_count": 324,
   "id": "3e703220",
   "metadata": {},
   "outputs": [
    {
     "name": "stdout",
     "output_type": "stream",
     "text": [
      "This is Func 1\n"
     ]
    }
   ],
   "source": [
    "my_input_val = \"d\"\n",
    "\n",
    "if my_input_val == \"a\":\n",
    "    func_1()\n",
    "elif my_input_val == \"b\":\n",
    "    func_2()\n",
    "elif my_input_val == \"c\":\n",
    "    func_3()\n",
    "else:\n",
    "    func_1()"
   ]
  },
  {
   "cell_type": "code",
   "execution_count": 325,
   "id": "36be23fc",
   "metadata": {},
   "outputs": [],
   "source": [
    "### Sarah was given a 'premium_exp_date' that was earlier than today's date in the compass app\n",
    "switch_cursor = db.users.aggregate([\n",
    "    {\"$project\": {\"_id\": 0, \"name\": 1, \"user_account_error\": {\n",
    "        \"$switch\": {\n",
    "            \"branches\": [\n",
    "                {\"case\": {\"$eq\": [{\"$type\": \"$name\"}, 'missing']}, \"then\": \"Missing Name\"},\n",
    "                {\"case\": {\"$eq\": [{\"$type\": \"$premium_exp_date\"}, 'missing']}, \"then\": \"Missing Premium Expiration Date\"},\n",
    "                {\"case\": {\"$lt\": [\"$premium_exp_date\", \"$$NOW\"]}, \"then\": \"Premium Membership Expired\"}],\n",
    "            \"default\": \"No Errors Found\"\n",
    "        }\n",
    "    }}},\n",
    "])"
   ]
  },
  {
   "cell_type": "code",
   "execution_count": 326,
   "id": "0c4c36da",
   "metadata": {},
   "outputs": [
    {
     "name": "stdout",
     "output_type": "stream",
     "text": [
      "{'name': 'Sarah', 'user_account_error': 'Missing Premium Expiration Date'}\n",
      "\n",
      "{'name': 'Bob', 'user_account_error': 'Missing Premium Expiration Date'}\n",
      "\n",
      "{'name': 'Jose', 'user_account_error': 'Missing Premium Expiration Date'}\n",
      "\n",
      "{'name': 'Lisa', 'user_account_error': 'Missing Premium Expiration Date'}\n",
      "\n",
      "{'name': 'Jessica', 'user_account_error': 'Missing Premium Expiration Date'}\n",
      "\n",
      "{'name': 'Tina', 'user_account_error': 'Missing Premium Expiration Date'}\n",
      "\n"
     ]
    }
   ],
   "source": [
    "print_cursor(switch_cursor)"
   ]
  },
  {
   "cell_type": "code",
   "execution_count": null,
   "id": "87ea9da8",
   "metadata": {},
   "outputs": [
    {
     "data": {
      "text/plain": [
       "DeleteResult({'n': 0, 'ok': 1.0}, acknowledged=True)"
      ]
     },
     "execution_count": 327,
     "metadata": {},
     "output_type": "execute_result"
    },
    {
     "ename": "",
     "evalue": "",
     "output_type": "error",
     "traceback": [
      "\u001b[1;31mThe Kernel crashed while executing code in the current cell or a previous cell. \n",
      "\u001b[1;31mPlease review the code in the cell(s) to identify a possible cause of the failure. \n",
      "\u001b[1;31mClick <a href='https://aka.ms/vscodeJupyterKernelCrash'>here</a> for more info. \n",
      "\u001b[1;31mView Jupyter <a href='command:jupyter.viewOutput'>log</a> for further details."
     ]
    }
   ],
   "source": [
    "### Rolling back the changes we made to Bob, Sarah, and the user with no name.\n",
    "db.users.update_many({}, {\"$unset\": {\"premium_exp_date\": 1}})\n",
    "db.users.delete_many({\"name\": {\"$exists\": False}})"
   ]
  }
 ],
 "metadata": {
  "kernelspec": {
   "display_name": "venv",
   "language": "python",
   "name": "python3"
  },
  "language_info": {
   "codemirror_mode": {
    "name": "ipython",
    "version": 3
   },
   "file_extension": ".py",
   "mimetype": "text/x-python",
   "name": "python",
   "nbconvert_exporter": "python",
   "pygments_lexer": "ipython3",
   "version": "3.12.5"
  }
 },
 "nbformat": 4,
 "nbformat_minor": 5
}
