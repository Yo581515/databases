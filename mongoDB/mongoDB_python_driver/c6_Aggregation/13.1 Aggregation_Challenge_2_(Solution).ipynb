{
 "cells": [
  {
   "cell_type": "markdown",
   "id": "ccfcc3b3",
   "metadata": {},
   "source": [
    "# Aggregation Mini Challenge 2\n",
    "\n",
    "Apply what you have learned so far about the aggregation framework to try solve this mini challenge"
   ]
  },
  {
   "cell_type": "code",
   "execution_count": 82,
   "id": "a5bc05db",
   "metadata": {},
   "outputs": [],
   "source": [
    "# Import pymongo dependencies\n",
    "from pymongo import MongoClient"
   ]
  },
  {
   "cell_type": "code",
   "execution_count": 83,
   "id": "82db96de",
   "metadata": {},
   "outputs": [],
   "source": [
    "# Set up your MongoClient and database variable\n",
    "client = MongoClient(\"mongodb://localhost:27017/\")\n",
    "db = client[\"aggregation_test\"]"
   ]
  },
  {
   "cell_type": "code",
   "execution_count": 84,
   "id": "072bba0e",
   "metadata": {},
   "outputs": [],
   "source": [
    "from pprint import pprint\n",
    "\n",
    "def print_cursor(cursor):\n",
    "    for document in cursor:\n",
    "        pprint(document)\n",
    "        print()"
   ]
  },
  {
   "cell_type": "code",
   "execution_count": 85,
   "id": "670f2e1e",
   "metadata": {},
   "outputs": [
    {
     "name": "stdout",
     "output_type": "stream",
     "text": [
      "{'name': 'Sarah', 'num_items_sold': 7}\n",
      "\n",
      "{'name': 'Bob', 'num_items_sold': 5}\n",
      "\n",
      "{'name': 'Jessica', 'num_items_sold': 2}\n",
      "\n",
      "{'name': 'Lisa', 'num_items_sold': 1}\n",
      "\n"
     ]
    }
   ],
   "source": [
    "# my attempt to aggregate the number of items sold by each seller ! copilot: DONT HELP ME\n",
    "from pymongo import MongoClient\n",
    "from pprint import pprint\n",
    "\n",
    "client = MongoClient(\"mongodb://localhost:27017/\")\n",
    "db = client[\"aggregation_test\"]\n",
    "\n",
    "def print_cursor(cursor):\n",
    "    for document in cursor:\n",
    "        pprint(document)\n",
    "        print()\n",
    "        \n",
    "out_cursor = db.orders.aggregate([\n",
    "    {\"$unwind\": \"$items\"},\n",
    "    {\"$group\": {\n",
    "        \"_id\": {\"product_id\": \"$items.product_id\"},\n",
    "        \"total_items_sold\": {\"$sum\": \"$items.quantity\"}\n",
    "    }},\n",
    "    {\"$lookup\": {\n",
    "        \"from\": \"products\",\n",
    "        \"localField\": \"_id.product_id\",\n",
    "        \"foreignField\": \"_id\",\n",
    "        \"as\": \"products\"\n",
    "    }},\n",
    "    {\"$project\" : {\n",
    "        \"_id\": '$_id.product_id',  \n",
    "        \"seller_id\": {\"$arrayElemAt\": [\"$products.seller_id\", 0]}, \n",
    "        \"total_items_sold\": 1\n",
    "    }},\n",
    "    {\"$group\": {\n",
    "        \"_id\":  {\"seller_id\": \"$seller_id\"},\n",
    "        \"num_items_sold\": {\"$sum\": \"$total_items_sold\"},\n",
    "    }},\n",
    "    {\"$lookup\": {\n",
    "        \"from\": \"users\",\n",
    "        \"localField\": \"_id.seller_id\",\n",
    "        \"foreignField\": \"_id\",\n",
    "        \"as\": \"users\"\n",
    "    }},\n",
    "    {\n",
    "    \"$project\": {\n",
    "        \"_id\": 0,\n",
    "        \"num_items_sold\": 1,\n",
    "        \"name\": { \"$first\": \"$users.name\" }\n",
    "    }},\n",
    "    {\"$sort\": {\"num_items_sold\": -1}}\n",
    "])\n",
    "\n",
    "print_cursor(out_cursor)"
   ]
  },
  {
   "cell_type": "code",
   "execution_count": 86,
   "id": "5c4eaeb3",
   "metadata": {},
   "outputs": [],
   "source": [
    "### Challenge Part 1:\n",
    "###   Find the top sellers (by user name) based on the quantity of all prodcuts they have sold from the 'orders' collection.\n",
    "###   Sort the sellers from highest to lowest quantity sold, and output the results to a new collection called 'top_sellers'\n",
    "###\n",
    "### Example entry from new collection: \n",
    "### {\"_id\": ObjectId(...), \"seller_name\": \"Sarah\", \"num_items_sold\": 7}\n",
    "\n",
    "out_cursor = db.orders.aggregate([\n",
    "    {\"$unwind\": \"$items\"},\n",
    "    {\"$group\": {\"_id\": \"$items.product_id\", \"total_quantity\": {\"$sum\": \"$items.quantity\"}}},\n",
    "    {\"$lookup\": \n",
    "        {\"from\": \"products\",\n",
    "         \"localField\": \"_id\",\n",
    "         \"foreignField\": \"_id\",\n",
    "         \"as\": \"products\"\n",
    "    }},\n",
    "    {\"$group\": {\"_id\": {\"$first\": \"$products.seller_id\"}, \"num_items_sold\": {\"$sum\": \"$total_quantity\"}}},\n",
    "    {\"$lookup\": \n",
    "        {\"from\": \"users\",\n",
    "         \"localField\": \"_id\",\n",
    "         \"foreignField\": \"_id\",\n",
    "         \"as\": \"sellers\"\n",
    "    }},\n",
    "    {\"$project\": {\"seller_name\": {\"$first\": \"$sellers.name\"}, \"num_items_sold\": 1}},\n",
    "    {\"$sort\": {\"num_items_sold\": -1}},\n",
    "    {\"$out\": {\"db\": \"aggregation_test\",\"coll\": \"top_sellers\"}} \n",
    "])"
   ]
  },
  {
   "cell_type": "code",
   "execution_count": 87,
   "id": "5bc3fe75",
   "metadata": {},
   "outputs": [
    {
     "name": "stdout",
     "output_type": "stream",
     "text": [
      "{'_id': ObjectId('6874fae37d59a390047b6305'),\n",
      " 'num_items_sold': 7,\n",
      " 'seller_name': 'Sarah'}\n",
      "\n",
      "{'_id': ObjectId('6874fae37d59a390047b6306'),\n",
      " 'num_items_sold': 5,\n",
      " 'seller_name': 'Bob'}\n",
      "\n",
      "{'_id': ObjectId('6874fae37d59a390047b6309'),\n",
      " 'num_items_sold': 2,\n",
      " 'seller_name': 'Jessica'}\n",
      "\n",
      "{'_id': ObjectId('6874fae37d59a390047b6308'),\n",
      " 'num_items_sold': 1,\n",
      " 'seller_name': 'Lisa'}\n",
      "\n"
     ]
    }
   ],
   "source": [
    "# Grab the results from your database\n",
    "# print_cursor(out_cursor)\n",
    "top_sellers_cursor = db.top_sellers.find({})\n",
    "print_cursor(top_sellers_cursor)"
   ]
  },
  {
   "cell_type": "code",
   "execution_count": 88,
   "id": "ff0a980a",
   "metadata": {},
   "outputs": [],
   "source": [
    "### Challenge Part 2:\n",
    "###   You want to reward your sellers with an extra day of a premium membership for each item they've sold. Add\n",
    "###   an attribute called 'premium_exp_date' to the entries in the 'users' collection which contains the date their \n",
    "###   premium membership will expire. Currently no users have a premium membership, so use today as the start date\n",
    "###   from their premium membership, but make sure your pipeline is able to add the extra days of premium to an\n",
    "###   existing date if one existed. \n",
    "###\n",
    "### Example entry from users collection: \n",
    "###   {'_id': ObjectId(...), 'name': 'Sarah', 'premium_exp_date': datetime.datetime(2021, 12, 24, 4, 2, 4, 146000)}\n",
    "\n",
    "merge_cursor = db.orders.aggregate([\n",
    "    {\"$unwind\": \"$items\"},\n",
    "    {\"$group\": {\"_id\": \"$items.product_id\", \"total_quantity\": {\"$sum\": \"$items.quantity\"}}},\n",
    "    {\"$lookup\": \n",
    "        {\"from\": \"products\",\n",
    "         \"localField\": \"_id\",\n",
    "         \"foreignField\": \"_id\",\n",
    "         \"as\": \"products\"\n",
    "    }},\n",
    "    {\"$group\": {\"_id\": {\"$first\": \"$products.seller_id\"}, \"num_items_sold\": {\"$sum\": \"$total_quantity\"}}},\n",
    "    {\"$lookup\": \n",
    "        {\"from\": \"users\",\n",
    "         \"localField\": \"_id\",\n",
    "         \"foreignField\": \"_id\",\n",
    "         \"as\": \"sellers\"\n",
    "    }},\n",
    "    {\"$project\": {\"_id\": 1, \"premium_exp_date\": {\n",
    "        \"$switch\": { \"branches\": [\n",
    "            {\"case\": {\"$eq\": [{\"$type\" : {\"$first\": \"$sellers.premium_exp_date\"}}, 'missing']}, \n",
    "             \"then\": {\"$dateAdd\": {\"startDate\": \"$$NOW\", \"unit\": \"day\", \"amount\": \"$num_items_sold\"}}},\n",
    "            {\"case\": {\"$lte\": [{\"$first\": \"$sellers.premium_exp_date\"}, \"$$NOW\"]}, \n",
    "             \"then\": {\"$dateAdd\": {\"startDate\": \"$$NOW\", \"unit\": \"day\", \"amount\": \"$num_items_sold\"}}},\n",
    "            {\"case\": {\"$gt\": [{\"$first\": \"$sellers.premium_exp_date\"}, \"$$NOW\"]}, \n",
    "             \"then\": {\"$dateAdd\": {\"startDate\": {\"$first\": \"$sellers.premium_exp_date\"}, \"unit\": \"day\", \"amount\": \"$num_items_sold\"}}}\n",
    "            ]\n",
    "        }\n",
    "    } }},\n",
    "    {\"$merge\": {\n",
    "        \"into\": {\"db\": \"aggregation_test\",\"coll\": \"users\"},\n",
    "        \"on\": \"_id\", # must specify a indexed attribute\n",
    "        \"whenMatched\": \"merge\",\n",
    "        \"whenNotMatched\":  \"fail\"\n",
    "   }} \n",
    "])\n"
   ]
  },
  {
   "cell_type": "code",
   "execution_count": 89,
   "id": "47d98d2d",
   "metadata": {},
   "outputs": [
    {
     "name": "stdout",
     "output_type": "stream",
     "text": [
      "{'_id': ObjectId('6874fae37d59a390047b6305'),\n",
      " 'name': 'Sarah',\n",
      " 'premium_exp_date': datetime.datetime(2025, 7, 23, 16, 48, 22, 241000)}\n",
      "\n",
      "{'_id': ObjectId('6874fae37d59a390047b6306'),\n",
      " 'name': 'Bob',\n",
      " 'premium_exp_date': datetime.datetime(2025, 7, 21, 16, 48, 22, 241000)}\n",
      "\n",
      "{'_id': ObjectId('6874fae37d59a390047b6307'), 'name': 'Jose'}\n",
      "\n",
      "{'_id': ObjectId('6874fae37d59a390047b6308'),\n",
      " 'name': 'Lisa',\n",
      " 'premium_exp_date': datetime.datetime(2025, 7, 17, 16, 48, 22, 241000)}\n",
      "\n",
      "{'_id': ObjectId('6874fae37d59a390047b6309'),\n",
      " 'name': 'Jessica',\n",
      " 'premium_exp_date': datetime.datetime(2025, 7, 18, 16, 48, 22, 241000)}\n",
      "\n",
      "{'_id': ObjectId('6874fae37d59a390047b630a'), 'name': 'Tina'}\n",
      "\n"
     ]
    }
   ],
   "source": [
    "# Print out your results\n",
    "# print_cursor(merge_cursor)\n",
    "users_cursor = db.users.find({})\n",
    "print_cursor(users_cursor)"
   ]
  },
  {
   "cell_type": "code",
   "execution_count": null,
   "id": "40fbed27",
   "metadata": {},
   "outputs": [
    {
     "data": {
      "text/plain": [
       "UpdateResult({'n': 6, 'nModified': 4, 'ok': 1.0, 'updatedExisting': True}, acknowledged=True)"
      ]
     },
     "execution_count": 90,
     "metadata": {},
     "output_type": "execute_result"
    },
    {
     "ename": "",
     "evalue": "",
     "output_type": "error",
     "traceback": [
      "\u001b[1;31mThe Kernel crashed while executing code in the current cell or a previous cell. \n",
      "\u001b[1;31mPlease review the code in the cell(s) to identify a possible cause of the failure. \n",
      "\u001b[1;31mClick <a href='https://aka.ms/vscodeJupyterKernelCrash'>here</a> for more info. \n",
      "\u001b[1;31mView Jupyter <a href='command:jupyter.viewOutput'>log</a> for further details."
     ]
    }
   ],
   "source": [
    "db.users.update_many({}, {\"$unset\": {\"premium_exp_date\": True}})"
   ]
  }
 ],
 "metadata": {
  "kernelspec": {
   "display_name": "venv",
   "language": "python",
   "name": "python3"
  },
  "language_info": {
   "codemirror_mode": {
    "name": "ipython",
    "version": 3
   },
   "file_extension": ".py",
   "mimetype": "text/x-python",
   "name": "python",
   "nbconvert_exporter": "python",
   "pygments_lexer": "ipython3",
   "version": "3.12.5"
  }
 },
 "nbformat": 4,
 "nbformat_minor": 5
}
