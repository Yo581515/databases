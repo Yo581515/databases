{
 "cells": [
  {
   "cell_type": "markdown",
   "id": "347527e2",
   "metadata": {},
   "source": [
    "## Timeseries Data\n",
    "\n",
    "Go over using Time Series MongoDB collections by scraping stock market data over the internet"
   ]
  },
  {
   "cell_type": "markdown",
   "id": "aa1bd302",
   "metadata": {},
   "source": [
    "##### Install Dependencies In Terminal (if you do not already have it)\n",
    "```bash\n",
    "pip install --user yfinance\n",
    "pip install --user matplotlib\n",
    "```"
   ]
  },
  {
   "cell_type": "code",
   "execution_count": 6,
   "id": "9ebe4ca7",
   "metadata": {},
   "outputs": [],
   "source": [
    "from pymongo import MongoClient\n",
    "\n",
    "import pandas\n",
    "import yfinance as yf\n",
    "from datetime import datetime, timedelta\n",
    "from dateutil.relativedelta import relativedelta"
   ]
  },
  {
   "cell_type": "markdown",
   "id": "d0a37460",
   "metadata": {},
   "source": [
    "### Intro to yfinance"
   ]
  },
  {
   "cell_type": "code",
   "execution_count": 7,
   "id": "aa9f4459",
   "metadata": {},
   "outputs": [
    {
     "name": "stderr",
     "output_type": "stream",
     "text": [
      "C:\\Users\\yfess\\AppData\\Local\\Temp\\ipykernel_11360\\883567138.py:2: FutureWarning: YF.download() has changed argument auto_adjust default to True\n",
      "  data = yf.download(tickers=tickers, period=\"1y\", interval=\"1d\")\n",
      "[*********************100%***********************]  2 of 2 completed\n"
     ]
    }
   ],
   "source": [
    "tickers = [\"AMZN\", \"GOOGL\"]\n",
    "data = yf.download(tickers=tickers, period=\"1y\", interval=\"1d\")"
   ]
  },
  {
   "cell_type": "code",
   "execution_count": 8,
   "id": "2f9afb6b",
   "metadata": {},
   "outputs": [
    {
     "name": "stdout",
     "output_type": "stream",
     "text": [
      "<class 'pandas.core.frame.DataFrame'>\n"
     ]
    },
    {
     "data": {
      "text/html": [
       "<div>\n",
       "<style scoped>\n",
       "    .dataframe tbody tr th:only-of-type {\n",
       "        vertical-align: middle;\n",
       "    }\n",
       "\n",
       "    .dataframe tbody tr th {\n",
       "        vertical-align: top;\n",
       "    }\n",
       "\n",
       "    .dataframe thead tr th {\n",
       "        text-align: left;\n",
       "    }\n",
       "\n",
       "    .dataframe thead tr:last-of-type th {\n",
       "        text-align: right;\n",
       "    }\n",
       "</style>\n",
       "<table border=\"1\" class=\"dataframe\">\n",
       "  <thead>\n",
       "    <tr>\n",
       "      <th>Price</th>\n",
       "      <th colspan=\"2\" halign=\"left\">Close</th>\n",
       "      <th colspan=\"2\" halign=\"left\">High</th>\n",
       "      <th colspan=\"2\" halign=\"left\">Low</th>\n",
       "      <th colspan=\"2\" halign=\"left\">Open</th>\n",
       "      <th colspan=\"2\" halign=\"left\">Volume</th>\n",
       "    </tr>\n",
       "    <tr>\n",
       "      <th>Ticker</th>\n",
       "      <th>AMZN</th>\n",
       "      <th>GOOGL</th>\n",
       "      <th>AMZN</th>\n",
       "      <th>GOOGL</th>\n",
       "      <th>AMZN</th>\n",
       "      <th>GOOGL</th>\n",
       "      <th>AMZN</th>\n",
       "      <th>GOOGL</th>\n",
       "      <th>AMZN</th>\n",
       "      <th>GOOGL</th>\n",
       "    </tr>\n",
       "    <tr>\n",
       "      <th>Date</th>\n",
       "      <th></th>\n",
       "      <th></th>\n",
       "      <th></th>\n",
       "      <th></th>\n",
       "      <th></th>\n",
       "      <th></th>\n",
       "      <th></th>\n",
       "      <th></th>\n",
       "      <th></th>\n",
       "      <th></th>\n",
       "    </tr>\n",
       "  </thead>\n",
       "  <tbody>\n",
       "    <tr>\n",
       "      <th>2024-07-18</th>\n",
       "      <td>183.750000</td>\n",
       "      <td>176.833405</td>\n",
       "      <td>189.679993</td>\n",
       "      <td>181.620214</td>\n",
       "      <td>181.449997</td>\n",
       "      <td>175.619285</td>\n",
       "      <td>189.589996</td>\n",
       "      <td>181.052955</td>\n",
       "      <td>51043600</td>\n",
       "      <td>25315700</td>\n",
       "    </tr>\n",
       "    <tr>\n",
       "      <th>2024-07-19</th>\n",
       "      <td>183.130005</td>\n",
       "      <td>176.803558</td>\n",
       "      <td>184.929993</td>\n",
       "      <td>179.420870</td>\n",
       "      <td>180.110001</td>\n",
       "      <td>176.276115</td>\n",
       "      <td>181.139999</td>\n",
       "      <td>178.017678</td>\n",
       "      <td>43081800</td>\n",
       "      <td>18881900</td>\n",
       "    </tr>\n",
       "    <tr>\n",
       "      <th>2024-07-22</th>\n",
       "      <td>182.550003</td>\n",
       "      <td>180.794205</td>\n",
       "      <td>185.059998</td>\n",
       "      <td>181.819238</td>\n",
       "      <td>182.479996</td>\n",
       "      <td>179.361144</td>\n",
       "      <td>185.000000</td>\n",
       "      <td>179.719409</td>\n",
       "      <td>39931900</td>\n",
       "      <td>24100300</td>\n",
       "    </tr>\n",
       "  </tbody>\n",
       "</table>\n",
       "</div>"
      ],
      "text/plain": [
       "Price            Close                    High                     Low  \\\n",
       "Ticker            AMZN       GOOGL        AMZN       GOOGL        AMZN   \n",
       "Date                                                                     \n",
       "2024-07-18  183.750000  176.833405  189.679993  181.620214  181.449997   \n",
       "2024-07-19  183.130005  176.803558  184.929993  179.420870  180.110001   \n",
       "2024-07-22  182.550003  180.794205  185.059998  181.819238  182.479996   \n",
       "\n",
       "Price                         Open                Volume            \n",
       "Ticker           GOOGL        AMZN       GOOGL      AMZN     GOOGL  \n",
       "Date                                                                \n",
       "2024-07-18  175.619285  189.589996  181.052955  51043600  25315700  \n",
       "2024-07-19  176.276115  181.139999  178.017678  43081800  18881900  \n",
       "2024-07-22  179.361144  185.000000  179.719409  39931900  24100300  "
      ]
     },
     "execution_count": 8,
     "metadata": {},
     "output_type": "execute_result"
    }
   ],
   "source": [
    "print(type(data))\n",
    "data[0:3]"
   ]
  },
  {
   "cell_type": "code",
   "execution_count": 9,
   "id": "3a3e205f",
   "metadata": {},
   "outputs": [
    {
     "data": {
      "image/png": "[encoded data removed]",
      "text/plain": [
       "<Figure size 1500x500 with 1 Axes>"
      ]
     },
     "metadata": {},
     "output_type": "display_data"
    }
   ],
   "source": [
    "import matplotlib.pyplot as plt\n",
    "\n",
    "plt.figure(figsize=(15, 5))\n",
    "for ticker in tickers:\n",
    "    plt.plot(data.index, data[(\"Close\", ticker)], label=ticker)\n",
    "plt.title(str(tickers) + \" Stock Price Close Data\")\n",
    "plt.ylabel(\"Close Price ($)\")\n",
    "plt.legend()\n",
    "plt.show()"
   ]
  },
  {
   "cell_type": "markdown",
   "id": "0944bc89",
   "metadata": {},
   "source": [
    "### Converting yfinance dataframe to dict format for insertion"
   ]
  },
  {
   "cell_type": "markdown",
   "id": "062c673c",
   "metadata": {},
   "source": [
    "##### Swap the columns so the ticker names are the highest level column"
   ]
  },
  {
   "cell_type": "code",
   "execution_count": 10,
   "id": "ba48e391",
   "metadata": {},
   "outputs": [
    {
     "data": {
      "text/html": [
       "<div>\n",
       "<style scoped>\n",
       "    .dataframe tbody tr th:only-of-type {\n",
       "        vertical-align: middle;\n",
       "    }\n",
       "\n",
       "    .dataframe tbody tr th {\n",
       "        vertical-align: top;\n",
       "    }\n",
       "\n",
       "    .dataframe thead tr th {\n",
       "        text-align: left;\n",
       "    }\n",
       "\n",
       "    .dataframe thead tr:last-of-type th {\n",
       "        text-align: right;\n",
       "    }\n",
       "</style>\n",
       "<table border=\"1\" class=\"dataframe\">\n",
       "  <thead>\n",
       "    <tr>\n",
       "      <th>Ticker</th>\n",
       "      <th>AMZN</th>\n",
       "      <th>GOOGL</th>\n",
       "      <th>AMZN</th>\n",
       "      <th>GOOGL</th>\n",
       "      <th>AMZN</th>\n",
       "      <th>GOOGL</th>\n",
       "      <th>AMZN</th>\n",
       "      <th>GOOGL</th>\n",
       "      <th>AMZN</th>\n",
       "      <th>GOOGL</th>\n",
       "    </tr>\n",
       "    <tr>\n",
       "      <th>Price</th>\n",
       "      <th>Close</th>\n",
       "      <th>Close</th>\n",
       "      <th>High</th>\n",
       "      <th>High</th>\n",
       "      <th>Low</th>\n",
       "      <th>Low</th>\n",
       "      <th>Open</th>\n",
       "      <th>Open</th>\n",
       "      <th>Volume</th>\n",
       "      <th>Volume</th>\n",
       "    </tr>\n",
       "    <tr>\n",
       "      <th>Date</th>\n",
       "      <th></th>\n",
       "      <th></th>\n",
       "      <th></th>\n",
       "      <th></th>\n",
       "      <th></th>\n",
       "      <th></th>\n",
       "      <th></th>\n",
       "      <th></th>\n",
       "      <th></th>\n",
       "      <th></th>\n",
       "    </tr>\n",
       "  </thead>\n",
       "  <tbody>\n",
       "    <tr>\n",
       "      <th>2024-07-18</th>\n",
       "      <td>183.750000</td>\n",
       "      <td>176.833405</td>\n",
       "      <td>189.679993</td>\n",
       "      <td>181.620214</td>\n",
       "      <td>181.449997</td>\n",
       "      <td>175.619285</td>\n",
       "      <td>189.589996</td>\n",
       "      <td>181.052955</td>\n",
       "      <td>51043600</td>\n",
       "      <td>25315700</td>\n",
       "    </tr>\n",
       "    <tr>\n",
       "      <th>2024-07-19</th>\n",
       "      <td>183.130005</td>\n",
       "      <td>176.803558</td>\n",
       "      <td>184.929993</td>\n",
       "      <td>179.420870</td>\n",
       "      <td>180.110001</td>\n",
       "      <td>176.276115</td>\n",
       "      <td>181.139999</td>\n",
       "      <td>178.017678</td>\n",
       "      <td>43081800</td>\n",
       "      <td>18881900</td>\n",
       "    </tr>\n",
       "    <tr>\n",
       "      <th>2024-07-22</th>\n",
       "      <td>182.550003</td>\n",
       "      <td>180.794205</td>\n",
       "      <td>185.059998</td>\n",
       "      <td>181.819238</td>\n",
       "      <td>182.479996</td>\n",
       "      <td>179.361144</td>\n",
       "      <td>185.000000</td>\n",
       "      <td>179.719409</td>\n",
       "      <td>39931900</td>\n",
       "      <td>24100300</td>\n",
       "    </tr>\n",
       "  </tbody>\n",
       "</table>\n",
       "</div>"
      ],
      "text/plain": [
       "Ticker            AMZN       GOOGL        AMZN       GOOGL        AMZN  \\\n",
       "Price            Close       Close        High        High         Low   \n",
       "Date                                                                     \n",
       "2024-07-18  183.750000  176.833405  189.679993  181.620214  181.449997   \n",
       "2024-07-19  183.130005  176.803558  184.929993  179.420870  180.110001   \n",
       "2024-07-22  182.550003  180.794205  185.059998  181.819238  182.479996   \n",
       "\n",
       "Ticker           GOOGL        AMZN       GOOGL      AMZN     GOOGL  \n",
       "Price              Low        Open        Open    Volume    Volume  \n",
       "Date                                                                \n",
       "2024-07-18  175.619285  189.589996  181.052955  51043600  25315700  \n",
       "2024-07-19  176.276115  181.139999  178.017678  43081800  18881900  \n",
       "2024-07-22  179.361144  185.000000  179.719409  39931900  24100300  "
      ]
     },
     "execution_count": 10,
     "metadata": {},
     "output_type": "execute_result"
    }
   ],
   "source": [
    "data.columns = data.columns.swaplevel(0,1)\n",
    "data[0:3]"
   ]
  },
  {
   "cell_type": "code",
   "execution_count": 11,
   "id": "ce655fe4",
   "metadata": {},
   "outputs": [
    {
     "data": {
      "text/html": [
       "<div>\n",
       "<style scoped>\n",
       "    .dataframe tbody tr th:only-of-type {\n",
       "        vertical-align: middle;\n",
       "    }\n",
       "\n",
       "    .dataframe tbody tr th {\n",
       "        vertical-align: top;\n",
       "    }\n",
       "\n",
       "    .dataframe thead th {\n",
       "        text-align: right;\n",
       "    }\n",
       "</style>\n",
       "<table border=\"1\" class=\"dataframe\">\n",
       "  <thead>\n",
       "    <tr style=\"text-align: right;\">\n",
       "      <th>Price</th>\n",
       "      <th>Close</th>\n",
       "      <th>High</th>\n",
       "      <th>Low</th>\n",
       "      <th>Open</th>\n",
       "      <th>Volume</th>\n",
       "    </tr>\n",
       "    <tr>\n",
       "      <th>Date</th>\n",
       "      <th></th>\n",
       "      <th></th>\n",
       "      <th></th>\n",
       "      <th></th>\n",
       "      <th></th>\n",
       "    </tr>\n",
       "  </thead>\n",
       "  <tbody>\n",
       "    <tr>\n",
       "      <th>2024-07-18</th>\n",
       "      <td>183.750000</td>\n",
       "      <td>189.679993</td>\n",
       "      <td>181.449997</td>\n",
       "      <td>189.589996</td>\n",
       "      <td>51043600</td>\n",
       "    </tr>\n",
       "    <tr>\n",
       "      <th>2024-07-19</th>\n",
       "      <td>183.130005</td>\n",
       "      <td>184.929993</td>\n",
       "      <td>180.110001</td>\n",
       "      <td>181.139999</td>\n",
       "      <td>43081800</td>\n",
       "    </tr>\n",
       "    <tr>\n",
       "      <th>2024-07-22</th>\n",
       "      <td>182.550003</td>\n",
       "      <td>185.059998</td>\n",
       "      <td>182.479996</td>\n",
       "      <td>185.000000</td>\n",
       "      <td>39931900</td>\n",
       "    </tr>\n",
       "  </tbody>\n",
       "</table>\n",
       "</div>"
      ],
      "text/plain": [
       "Price            Close        High         Low        Open    Volume\n",
       "Date                                                                \n",
       "2024-07-18  183.750000  189.679993  181.449997  189.589996  51043600\n",
       "2024-07-19  183.130005  184.929993  180.110001  181.139999  43081800\n",
       "2024-07-22  182.550003  185.059998  182.479996  185.000000  39931900"
      ]
     },
     "execution_count": 11,
     "metadata": {},
     "output_type": "execute_result"
    }
   ],
   "source": [
    "data[\"AMZN\"][0:3]"
   ]
  },
  {
   "cell_type": "markdown",
   "id": "b2519622",
   "metadata": {},
   "source": [
    "##### Create an attribute an each entry that has the name of the ticker"
   ]
  },
  {
   "cell_type": "code",
   "execution_count": 12,
   "id": "2ac1e294",
   "metadata": {},
   "outputs": [],
   "source": [
    "for ticker in tickers:\n",
    "    data.loc[: , (ticker, \"Ticker\")] = ticker"
   ]
  },
  {
   "cell_type": "code",
   "execution_count": 13,
   "id": "17cb1a50",
   "metadata": {},
   "outputs": [
    {
     "data": {
      "text/html": [
       "<div>\n",
       "<style scoped>\n",
       "    .dataframe tbody tr th:only-of-type {\n",
       "        vertical-align: middle;\n",
       "    }\n",
       "\n",
       "    .dataframe tbody tr th {\n",
       "        vertical-align: top;\n",
       "    }\n",
       "\n",
       "    .dataframe thead th {\n",
       "        text-align: right;\n",
       "    }\n",
       "</style>\n",
       "<table border=\"1\" class=\"dataframe\">\n",
       "  <thead>\n",
       "    <tr style=\"text-align: right;\">\n",
       "      <th>Price</th>\n",
       "      <th>Close</th>\n",
       "      <th>High</th>\n",
       "      <th>Low</th>\n",
       "      <th>Open</th>\n",
       "      <th>Volume</th>\n",
       "      <th>Ticker</th>\n",
       "    </tr>\n",
       "    <tr>\n",
       "      <th>Date</th>\n",
       "      <th></th>\n",
       "      <th></th>\n",
       "      <th></th>\n",
       "      <th></th>\n",
       "      <th></th>\n",
       "      <th></th>\n",
       "    </tr>\n",
       "  </thead>\n",
       "  <tbody>\n",
       "    <tr>\n",
       "      <th>2024-07-18</th>\n",
       "      <td>176.833405</td>\n",
       "      <td>181.620214</td>\n",
       "      <td>175.619285</td>\n",
       "      <td>181.052955</td>\n",
       "      <td>25315700</td>\n",
       "      <td>GOOGL</td>\n",
       "    </tr>\n",
       "    <tr>\n",
       "      <th>2024-07-19</th>\n",
       "      <td>176.803558</td>\n",
       "      <td>179.420870</td>\n",
       "      <td>176.276115</td>\n",
       "      <td>178.017678</td>\n",
       "      <td>18881900</td>\n",
       "      <td>GOOGL</td>\n",
       "    </tr>\n",
       "    <tr>\n",
       "      <th>2024-07-22</th>\n",
       "      <td>180.794205</td>\n",
       "      <td>181.819238</td>\n",
       "      <td>179.361144</td>\n",
       "      <td>179.719409</td>\n",
       "      <td>24100300</td>\n",
       "      <td>GOOGL</td>\n",
       "    </tr>\n",
       "  </tbody>\n",
       "</table>\n",
       "</div>"
      ],
      "text/plain": [
       "Price            Close        High         Low        Open    Volume Ticker\n",
       "Date                                                                       \n",
       "2024-07-18  176.833405  181.620214  175.619285  181.052955  25315700  GOOGL\n",
       "2024-07-19  176.803558  179.420870  176.276115  178.017678  18881900  GOOGL\n",
       "2024-07-22  180.794205  181.819238  179.361144  179.719409  24100300  GOOGL"
      ]
     },
     "execution_count": 13,
     "metadata": {},
     "output_type": "execute_result"
    }
   ],
   "source": [
    "data[\"GOOGL\"][0:3]"
   ]
  },
  {
   "cell_type": "markdown",
   "id": "55594023",
   "metadata": {},
   "source": [
    "##### Set date index to a column "
   ]
  },
  {
   "cell_type": "code",
   "execution_count": 14,
   "id": "f47004c2",
   "metadata": {},
   "outputs": [
    {
     "data": {
      "text/html": [
       "<div>\n",
       "<style scoped>\n",
       "    .dataframe tbody tr th:only-of-type {\n",
       "        vertical-align: middle;\n",
       "    }\n",
       "\n",
       "    .dataframe tbody tr th {\n",
       "        vertical-align: top;\n",
       "    }\n",
       "\n",
       "    .dataframe thead th {\n",
       "        text-align: right;\n",
       "    }\n",
       "</style>\n",
       "<table border=\"1\" class=\"dataframe\">\n",
       "  <thead>\n",
       "    <tr style=\"text-align: right;\">\n",
       "      <th>Price</th>\n",
       "      <th>Date</th>\n",
       "      <th>Close</th>\n",
       "      <th>High</th>\n",
       "      <th>Low</th>\n",
       "      <th>Open</th>\n",
       "      <th>Volume</th>\n",
       "      <th>Ticker</th>\n",
       "    </tr>\n",
       "  </thead>\n",
       "  <tbody>\n",
       "    <tr>\n",
       "      <th>0</th>\n",
       "      <td>2024-07-18</td>\n",
       "      <td>183.750000</td>\n",
       "      <td>189.679993</td>\n",
       "      <td>181.449997</td>\n",
       "      <td>189.589996</td>\n",
       "      <td>51043600</td>\n",
       "      <td>AMZN</td>\n",
       "    </tr>\n",
       "    <tr>\n",
       "      <th>1</th>\n",
       "      <td>2024-07-19</td>\n",
       "      <td>183.130005</td>\n",
       "      <td>184.929993</td>\n",
       "      <td>180.110001</td>\n",
       "      <td>181.139999</td>\n",
       "      <td>43081800</td>\n",
       "      <td>AMZN</td>\n",
       "    </tr>\n",
       "    <tr>\n",
       "      <th>2</th>\n",
       "      <td>2024-07-22</td>\n",
       "      <td>182.550003</td>\n",
       "      <td>185.059998</td>\n",
       "      <td>182.479996</td>\n",
       "      <td>185.000000</td>\n",
       "      <td>39931900</td>\n",
       "      <td>AMZN</td>\n",
       "    </tr>\n",
       "  </tbody>\n",
       "</table>\n",
       "</div>"
      ],
      "text/plain": [
       "Price       Date       Close        High         Low        Open    Volume  \\\n",
       "0     2024-07-18  183.750000  189.679993  181.449997  189.589996  51043600   \n",
       "1     2024-07-19  183.130005  184.929993  180.110001  181.139999  43081800   \n",
       "2     2024-07-22  182.550003  185.059998  182.479996  185.000000  39931900   \n",
       "\n",
       "Price Ticker  \n",
       "0       AMZN  \n",
       "1       AMZN  \n",
       "2       AMZN  "
      ]
     },
     "execution_count": 14,
     "metadata": {},
     "output_type": "execute_result"
    }
   ],
   "source": [
    "data[\"AMZN\"].reset_index(level=0)[0:3]"
   ]
  },
  {
   "cell_type": "markdown",
   "id": "485c95d8",
   "metadata": {},
   "source": [
    "##### Convert the dataframe to an array of dictionaries "
   ]
  },
  {
   "cell_type": "code",
   "execution_count": 15,
   "id": "84f2c9b0",
   "metadata": {},
   "outputs": [
    {
     "data": {
      "text/plain": [
       "[{'Date': Timestamp('2024-07-18 00:00:00'),\n",
       "  'Close': 183.75,\n",
       "  'High': 189.67999267578125,\n",
       "  'Low': 181.4499969482422,\n",
       "  'Open': 189.58999633789062,\n",
       "  'Volume': 51043600,\n",
       "  'Ticker': 'AMZN'},\n",
       " {'Date': Timestamp('2024-07-19 00:00:00'),\n",
       "  'Close': 183.1300048828125,\n",
       "  'High': 184.92999267578125,\n",
       "  'Low': 180.11000061035156,\n",
       "  'Open': 181.13999938964844,\n",
       "  'Volume': 43081800,\n",
       "  'Ticker': 'AMZN'}]"
      ]
     },
     "execution_count": 15,
     "metadata": {},
     "output_type": "execute_result"
    }
   ],
   "source": [
    "data[\"AMZN\"].reset_index(level=0).to_dict('records')[0:2]"
   ]
  },
  {
   "cell_type": "markdown",
   "id": "f7e37292",
   "metadata": {},
   "source": [
    "### Connect To MongoDB instance"
   ]
  },
  {
   "cell_type": "code",
   "execution_count": 16,
   "id": "7aaae524",
   "metadata": {},
   "outputs": [],
   "source": [
    "mongodb_uri = \"mongodb://localhost:27017/\"\n",
    "db_name = \"advanced_features\""
   ]
  },
  {
   "cell_type": "code",
   "execution_count": 17,
   "id": "cbb879e9",
   "metadata": {},
   "outputs": [],
   "source": [
    "client = MongoClient(mongodb_uri)\n",
    "db = client[db_name]"
   ]
  },
  {
   "cell_type": "markdown",
   "id": "42842740",
   "metadata": {},
   "source": [
    "### Creating  A Time-Series Collection\n",
    "\n",
    "You could also use the compass app or mongoshell"
   ]
  },
  {
   "cell_type": "code",
   "execution_count": 18,
   "id": "fae693ac",
   "metadata": {},
   "outputs": [
    {
     "name": "stdout",
     "output_type": "stream",
     "text": [
      "Collection creation failed: collection historical_stock_data already exists\n"
     ]
    }
   ],
   "source": [
    "try:\n",
    "        db.create_collection(\"historical_stock_data\", timeseries= {\n",
    "        \"timeField\": \"Date\",\n",
    "        \"metaField\": \"Ticker\",\n",
    "        \"granularity\": \"hours\"\n",
    "        }, expireAfterSeconds= 60 * 60 * 24 * 365 ### 1 year \n",
    "        )\n",
    "except Exception as e:\n",
    "        print(f\"Collection creation failed: {e}\")"
   ]
  },
  {
   "cell_type": "markdown",
   "id": "a3b680b8",
   "metadata": {},
   "source": [
    "### Inserting The Time-Series Stock Data"
   ]
  },
  {
   "cell_type": "markdown",
   "id": "c422f747",
   "metadata": {},
   "source": [
    "##### Download the data"
   ]
  },
  {
   "cell_type": "code",
   "execution_count": 19,
   "id": "673293f6",
   "metadata": {},
   "outputs": [
    {
     "name": "stderr",
     "output_type": "stream",
     "text": [
      "C:\\Users\\yfess\\AppData\\Local\\Temp\\ipykernel_11360\\2770221848.py:2: FutureWarning: YF.download() has changed argument auto_adjust default to True\n",
      "  data = yf.download(tickers=tickers, period=\"2y\", interval=\"1d\")\n",
      "[*********************100%***********************]  5 of 5 completed\n"
     ]
    }
   ],
   "source": [
    "tickers = [\"AMZN\", \"FB\", \"GOOGL\", \"MSFT\", \"UDMY\"]\n",
    "data = yf.download(tickers=tickers, period=\"2y\", interval=\"1d\")"
   ]
  },
  {
   "cell_type": "code",
   "execution_count": 27,
   "id": "4fb616f0",
   "metadata": {},
   "outputs": [
    {
     "data": {
      "text/html": [
       "<div>\n",
       "<style scoped>\n",
       "    .dataframe tbody tr th:only-of-type {\n",
       "        vertical-align: middle;\n",
       "    }\n",
       "\n",
       "    .dataframe tbody tr th {\n",
       "        vertical-align: top;\n",
       "    }\n",
       "\n",
       "    .dataframe thead tr th {\n",
       "        text-align: left;\n",
       "    }\n",
       "\n",
       "    .dataframe thead tr:last-of-type th {\n",
       "        text-align: right;\n",
       "    }\n",
       "</style>\n",
       "<table border=\"1\" class=\"dataframe\">\n",
       "  <thead>\n",
       "    <tr>\n",
       "      <th>Ticker</th>\n",
       "      <th>AMZN</th>\n",
       "      <th>FB</th>\n",
       "      <th>GOOGL</th>\n",
       "      <th>MSFT</th>\n",
       "      <th>UDMY</th>\n",
       "      <th>AMZN</th>\n",
       "      <th>FB</th>\n",
       "      <th>GOOGL</th>\n",
       "      <th>MSFT</th>\n",
       "      <th>UDMY</th>\n",
       "      <th>...</th>\n",
       "      <th>AMZN</th>\n",
       "      <th>FB</th>\n",
       "      <th>GOOGL</th>\n",
       "      <th>MSFT</th>\n",
       "      <th>UDMY</th>\n",
       "      <th>AMZN</th>\n",
       "      <th>FB</th>\n",
       "      <th>GOOGL</th>\n",
       "      <th>MSFT</th>\n",
       "      <th>UDMY</th>\n",
       "    </tr>\n",
       "    <tr>\n",
       "      <th>Price</th>\n",
       "      <th>Close</th>\n",
       "      <th>Close</th>\n",
       "      <th>Close</th>\n",
       "      <th>Close</th>\n",
       "      <th>Close</th>\n",
       "      <th>High</th>\n",
       "      <th>High</th>\n",
       "      <th>High</th>\n",
       "      <th>High</th>\n",
       "      <th>High</th>\n",
       "      <th>...</th>\n",
       "      <th>Volume</th>\n",
       "      <th>Volume</th>\n",
       "      <th>Volume</th>\n",
       "      <th>Volume</th>\n",
       "      <th>Volume</th>\n",
       "      <th>Ticker</th>\n",
       "      <th>Ticker</th>\n",
       "      <th>Ticker</th>\n",
       "      <th>Ticker</th>\n",
       "      <th>Ticker</th>\n",
       "    </tr>\n",
       "    <tr>\n",
       "      <th>Date</th>\n",
       "      <th></th>\n",
       "      <th></th>\n",
       "      <th></th>\n",
       "      <th></th>\n",
       "      <th></th>\n",
       "      <th></th>\n",
       "      <th></th>\n",
       "      <th></th>\n",
       "      <th></th>\n",
       "      <th></th>\n",
       "      <th></th>\n",
       "      <th></th>\n",
       "      <th></th>\n",
       "      <th></th>\n",
       "      <th></th>\n",
       "      <th></th>\n",
       "      <th></th>\n",
       "      <th></th>\n",
       "      <th></th>\n",
       "      <th></th>\n",
       "      <th></th>\n",
       "    </tr>\n",
       "  </thead>\n",
       "  <tbody>\n",
       "    <tr>\n",
       "      <th>2023-07-18</th>\n",
       "      <td>132.830002</td>\n",
       "      <td>NaN</td>\n",
       "      <td>123.022186</td>\n",
       "      <td>353.985657</td>\n",
       "      <td>11.52</td>\n",
       "      <td>133.860001</td>\n",
       "      <td>NaN</td>\n",
       "      <td>123.9367</td>\n",
       "      <td>361.164044</td>\n",
       "      <td>11.665</td>\n",
       "      <td>...</td>\n",
       "      <td>54882900</td>\n",
       "      <td>NaN</td>\n",
       "      <td>26193600</td>\n",
       "      <td>64738600</td>\n",
       "      <td>428500</td>\n",
       "      <td>AMZN</td>\n",
       "      <td>FB</td>\n",
       "      <td>GOOGL</td>\n",
       "      <td>MSFT</td>\n",
       "      <td>UDMY</td>\n",
       "    </tr>\n",
       "  </tbody>\n",
       "</table>\n",
       "<p>1 rows × 30 columns</p>\n",
       "</div>"
      ],
      "text/plain": [
       "Ticker            AMZN    FB       GOOGL        MSFT   UDMY        AMZN   FB  \\\n",
       "Price            Close Close       Close       Close  Close        High High   \n",
       "Date                                                                           \n",
       "2023-07-18  132.830002   NaN  123.022186  353.985657  11.52  133.860001  NaN   \n",
       "\n",
       "Ticker         GOOGL        MSFT    UDMY  ...      AMZN     FB     GOOGL  \\\n",
       "Price           High        High    High  ...    Volume Volume    Volume   \n",
       "Date                                      ...                              \n",
       "2023-07-18  123.9367  361.164044  11.665  ...  54882900    NaN  26193600   \n",
       "\n",
       "Ticker          MSFT    UDMY   AMZN     FB  GOOGL   MSFT   UDMY  \n",
       "Price         Volume  Volume Ticker Ticker Ticker Ticker Ticker  \n",
       "Date                                                             \n",
       "2023-07-18  64738600  428500   AMZN     FB  GOOGL   MSFT   UDMY  \n",
       "\n",
       "[1 rows x 30 columns]"
      ]
     },
     "execution_count": 27,
     "metadata": {},
     "output_type": "execute_result"
    }
   ],
   "source": [
    "data.head(1)"
   ]
  },
  {
   "cell_type": "markdown",
   "id": "f529e511",
   "metadata": {},
   "source": [
    "##### Process dataframe into list of dictionaries"
   ]
  },
  {
   "cell_type": "code",
   "execution_count": 20,
   "id": "44f0e47a",
   "metadata": {},
   "outputs": [],
   "source": [
    "stock_data_to_insert = []\n",
    "\n",
    "data.columns = data.columns.swaplevel(0,1)\n",
    "\n",
    "for ticker in tickers:\n",
    "    data.loc[: , (ticker, \"Ticker\")] = ticker\n",
    "    stock_data_to_insert.extend(data[ticker].reset_index(level=0).to_dict('records'))"
   ]
  },
  {
   "cell_type": "code",
   "execution_count": 21,
   "id": "0e7a2b4e",
   "metadata": {},
   "outputs": [
    {
     "data": {
      "text/plain": [
       "[{'Date': Timestamp('2023-07-18 00:00:00'),\n",
       "  'Close': 132.8300018310547,\n",
       "  'High': 133.86000061035156,\n",
       "  'Low': 131.35000610351562,\n",
       "  'Open': 132.7100067138672,\n",
       "  'Volume': 54882900,\n",
       "  'Ticker': 'AMZN'},\n",
       " {'Date': Timestamp('2023-07-19 00:00:00'),\n",
       "  'Close': 135.36000061035156,\n",
       "  'High': 135.99000549316406,\n",
       "  'Low': 132.52999877929688,\n",
       "  'Open': 133.38999938964844,\n",
       "  'Volume': 54531000,\n",
       "  'Ticker': 'AMZN'}]"
      ]
     },
     "execution_count": 21,
     "metadata": {},
     "output_type": "execute_result"
    }
   ],
   "source": [
    "stock_data_to_insert[0:2]"
   ]
  },
  {
   "cell_type": "markdown",
   "id": "89e28caa",
   "metadata": {},
   "source": [
    "##### Call insert_many() on time series collection"
   ]
  },
  {
   "cell_type": "code",
   "execution_count": 22,
   "id": "a1048c0f",
   "metadata": {},
   "outputs": [
    {
     "data": {
      "text/plain": [
       "InsertManyResult([ObjectId('687a5db2d20ee8a0fe576e7c'), ObjectId('687a5db2d20ee8a0fe576e7d'), ObjectId('687a5db2d20ee8a0fe576e7e'), ObjectId('687a5db2d20ee8a0fe576e7f'), ObjectId('687a5db2d20ee8a0fe576e80'), ObjectId('687a5db2d20ee8a0fe576e81'), ObjectId('687a5db2d20ee8a0fe576e82'), ObjectId('687a5db2d20ee8a0fe576e83'), ObjectId('687a5db2d20ee8a0fe576e84'), ObjectId('687a5db2d20ee8a0fe576e85'), ObjectId('687a5db2d20ee8a0fe576e86'), ObjectId('687a5db2d20ee8a0fe576e87'), ObjectId('687a5db2d20ee8a0fe576e88'), ObjectId('687a5db2d20ee8a0fe576e89'), ObjectId('687a5db2d20ee8a0fe576e8a'), ObjectId('687a5db2d20ee8a0fe576e8b'), ObjectId('687a5db2d20ee8a0fe576e8c'), ObjectId('687a5db2d20ee8a0fe576e8d'), ObjectId('687a5db2d20ee8a0fe576e8e'), ObjectId('687a5db2d20ee8a0fe576e8f'), ObjectId('687a5db2d20ee8a0fe576e90'), ObjectId('687a5db2d20ee8a0fe576e91'), ObjectId('687a5db2d20ee8a0fe576e92'), ObjectId('687a5db2d20ee8a0fe576e93'), ObjectId('687a5db2d20ee8a0fe576e94'), ObjectId('687a5db2d20ee8a0fe576e95'), ObjectId('687a5db2d20ee8a0fe576e96'), ObjectId('687a5db2d20ee8a0fe576e97'), ObjectId('687a5db2d20ee8a0fe576e98'), ObjectId('687a5db2d20ee8a0fe576e99'), ObjectId('687a5db2d20ee8a0fe576e9a'), ObjectId('687a5db2d20ee8a0fe576e9b'), ObjectId('687a5db2d20ee8a0fe576e9c'), ObjectId('687a5db2d20ee8a0fe576e9d'), ObjectId('687a5db2d20ee8a0fe576e9e'), ObjectId('687a5db2d20ee8a0fe576e9f'), ObjectId('687a5db2d20ee8a0fe576ea0'), ObjectId('687a5db2d20ee8a0fe576ea1'), ObjectId('687a5db2d20ee8a0fe576ea2'), ObjectId('687a5db2d20ee8a0fe576ea3'), ObjectId('687a5db2d20ee8a0fe576ea4'), ObjectId('687a5db2d20ee8a0fe576ea5'), ObjectId('687a5db2d20ee8a0fe576ea6'), ObjectId('687a5db2d20ee8a0fe576ea7'), ObjectId('687a5db2d20ee8a0fe576ea8'), ObjectId('687a5db2d20ee8a0fe576ea9'), ObjectId('687a5db2d20ee8a0fe576eaa'), ObjectId('687a5db2d20ee8a0fe576eab'), ObjectId('687a5db2d20ee8a0fe576eac'), ObjectId('687a5db2d20ee8a0fe576ead'), ObjectId('687a5db2d20ee8a0fe576eae'), ObjectId('687a5db2d20ee8a0fe576eaf'), ObjectId('687a5db2d20ee8a0fe576eb0'), ObjectId('687a5db2d20ee8a0fe576eb1'), ObjectId('687a5db2d20ee8a0fe576eb2'), ObjectId('687a5db2d20ee8a0fe576eb3'), ObjectId('687a5db2d20ee8a0fe576eb4'), ObjectId('687a5db2d20ee8a0fe576eb5'), ObjectId('687a5db2d20ee8a0fe576eb6'), ObjectId('687a5db2d20ee8a0fe576eb7'), ObjectId('687a5db2d20ee8a0fe576eb8'), ObjectId('687a5db2d20ee8a0fe576eb9'), ObjectId('687a5db2d20ee8a0fe576eba'), ObjectId('687a5db2d20ee8a0fe576ebb'), ObjectId('687a5db2d20ee8a0fe576ebc'), ObjectId('687a5db2d20ee8a0fe576ebd'), ObjectId('687a5db2d20ee8a0fe576ebe'), ObjectId('687a5db2d20ee8a0fe576ebf'), ObjectId('687a5db2d20ee8a0fe576ec0'), ObjectId('687a5db2d20ee8a0fe576ec1'), ObjectId('687a5db2d20ee8a0fe576ec2'), ObjectId('687a5db2d20ee8a0fe576ec3'), ObjectId('687a5db2d20ee8a0fe576ec4'), ObjectId('687a5db2d20ee8a0fe576ec5'), ObjectId('687a5db2d20ee8a0fe576ec6'), ObjectId('687a5db2d20ee8a0fe576ec7'), ObjectId('687a5db2d20ee8a0fe576ec8'), ObjectId('687a5db2d20ee8a0fe576ec9'), ObjectId('687a5db2d20ee8a0fe576eca'), ObjectId('687a5db2d20ee8a0fe576ecb'), ObjectId('687a5db2d20ee8a0fe576ecc'), ObjectId('687a5db2d20ee8a0fe576ecd'), ObjectId('687a5db2d20ee8a0fe576ece'), ObjectId('687a5db2d20ee8a0fe576ecf'), ObjectId('687a5db2d20ee8a0fe576ed0'), ObjectId('687a5db2d20ee8a0fe576ed1'), ObjectId('687a5db2d20ee8a0fe576ed2'), ObjectId('687a5db2d20ee8a0fe576ed3'), ObjectId('687a5db2d20ee8a0fe576ed4'), ObjectId('687a5db2d20ee8a0fe576ed5'), ObjectId('687a5db2d20ee8a0fe576ed6'), ObjectId('687a5db2d20ee8a0fe576ed7'), ObjectId('687a5db2d20ee8a0fe576ed8'), ObjectId('687a5db2d20ee8a0fe576ed9'), ObjectId('687a5db2d20ee8a0fe576eda'), ObjectId('687a5db2d20ee8a0fe576edb'), ObjectId('687a5db2d20ee8a0fe576edc'), ObjectId('687a5db2d20ee8a0fe576edd'), ObjectId('687a5db2d20ee8a0fe576ede'), ObjectId('687a5db2d20ee8a0fe576edf'), ObjectId('687a5db2d20ee8a0fe576ee0'), ObjectId('687a5db2d20ee8a0fe576ee1'), ObjectId('687a5db2d20ee8a0fe576ee2'), ObjectId('687a5db2d20ee8a0fe576ee3'), ObjectId('687a5db2d20ee8a0fe576ee4'), ObjectId('687a5db2d20ee8a0fe576ee5'), ObjectId('687a5db2d20ee8a0fe576ee6'), ObjectId('687a5db2d20ee8a0fe576ee7'), ObjectId('687a5db2d20ee8a0fe576ee8'), ObjectId('687a5db2d20ee8a0fe576ee9'), ObjectId('687a5db2d20ee8a0fe576eea'), ObjectId('687a5db2d20ee8a0fe576eeb'), ObjectId('687a5db2d20ee8a0fe576eec'), ObjectId('687a5db2d20ee8a0fe576eed'), ObjectId('687a5db2d20ee8a0fe576eee'), ObjectId('687a5db2d20ee8a0fe576eef'), ObjectId('687a5db2d20ee8a0fe576ef0'), ObjectId('687a5db2d20ee8a0fe576ef1'), ObjectId('687a5db2d20ee8a0fe576ef2'), ObjectId('687a5db2d20ee8a0fe576ef3'), ObjectId('687a5db2d20ee8a0fe576ef4'), ObjectId('687a5db2d20ee8a0fe576ef5'), ObjectId('687a5db2d20ee8a0fe576ef6'), ObjectId('687a5db2d20ee8a0fe576ef7'), ObjectId('687a5db2d20ee8a0fe576ef8'), ObjectId('687a5db2d20ee8a0fe576ef9'), ObjectId('687a5db2d20ee8a0fe576efa'), ObjectId('687a5db2d20ee8a0fe576efb'), ObjectId('687a5db2d20ee8a0fe576efc'), ObjectId('687a5db2d20ee8a0fe576efd'), ObjectId('687a5db2d20ee8a0fe576efe'), ObjectId('687a5db2d20ee8a0fe576eff'), ObjectId('687a5db2d20ee8a0fe576f00'), ObjectId('687a5db2d20ee8a0fe576f01'), ObjectId('687a5db2d20ee8a0fe576f02'), ObjectId('687a5db2d20ee8a0fe576f03'), ObjectId('687a5db2d20ee8a0fe576f04'), ObjectId('687a5db2d20ee8a0fe576f05'), ObjectId('687a5db2d20ee8a0fe576f06'), ObjectId('687a5db2d20ee8a0fe576f07'), ObjectId('687a5db2d20ee8a0fe576f08'), ObjectId('687a5db2d20ee8a0fe576f09'), ObjectId('687a5db2d20ee8a0fe576f0a'), ObjectId('687a5db2d20ee8a0fe576f0b'), ObjectId('687a5db2d20ee8a0fe576f0c'), ObjectId('687a5db2d20ee8a0fe576f0d'), ObjectId('687a5db2d20ee8a0fe576f0e'), ObjectId('687a5db2d20ee8a0fe576f0f'), ObjectId('687a5db2d20ee8a0fe576f10'), ObjectId('687a5db2d20ee8a0fe576f11'), ObjectId('687a5db2d20ee8a0fe576f12'), ObjectId('687a5db2d20ee8a0fe576f13'), ObjectId('687a5db2d20ee8a0fe576f14'), ObjectId('687a5db2d20ee8a0fe576f15'), ObjectId('687a5db2d20ee8a0fe576f16'), ObjectId('687a5db2d20ee8a0fe576f17'), ObjectId('687a5db2d20ee8a0fe576f18'), ObjectId('687a5db2d20ee8a0fe576f19'), ObjectId('687a5db2d20ee8a0fe576f1a'), ObjectId('687a5db2d20ee8a0fe576f1b'), ObjectId('687a5db2d20ee8a0fe576f1c'), ObjectId('687a5db2d20ee8a0fe576f1d'), ObjectId('687a5db2d20ee8a0fe576f1e'), ObjectId('687a5db2d20ee8a0fe576f1f'), ObjectId('687a5db2d20ee8a0fe576f20'), ObjectId('687a5db2d20ee8a0fe576f21'), ObjectId('687a5db2d20ee8a0fe576f22'), ObjectId('687a5db2d20ee8a0fe576f23'), ObjectId('687a5db2d20ee8a0fe576f24'), ObjectId('687a5db2d20ee8a0fe576f25'), ObjectId('687a5db2d20ee8a0fe576f26'), ObjectId('687a5db2d20ee8a0fe576f27'), ObjectId('687a5db2d20ee8a0fe576f28'), ObjectId('687a5db2d20ee8a0fe576f29'), ObjectId('687a5db2d20ee8a0fe576f2a'), ObjectId('687a5db2d20ee8a0fe576f2b'), ObjectId('687a5db2d20ee8a0fe576f2c'), ObjectId('687a5db2d20ee8a0fe576f2d'), ObjectId('687a5db2d20ee8a0fe576f2e'), ObjectId('687a5db2d20ee8a0fe576f2f'), ObjectId('687a5db2d20ee8a0fe576f30'), ObjectId('687a5db2d20ee8a0fe576f31'), ObjectId('687a5db2d20ee8a0fe576f32'), ObjectId('687a5db2d20ee8a0fe576f33'), ObjectId('687a5db2d20ee8a0fe576f34'), ObjectId('687a5db2d20ee8a0fe576f35'), ObjectId('687a5db2d20ee8a0fe576f36'), ObjectId('687a5db2d20ee8a0fe576f37'), ObjectId('687a5db2d20ee8a0fe576f38'), ObjectId('687a5db2d20ee8a0fe576f39'), ObjectId('687a5db2d20ee8a0fe576f3a'), ObjectId('687a5db2d20ee8a0fe576f3b'), ObjectId('687a5db2d20ee8a0fe576f3c'), ObjectId('687a5db2d20ee8a0fe576f3d'), ObjectId('687a5db2d20ee8a0fe576f3e'), ObjectId('687a5db2d20ee8a0fe576f3f'), ObjectId('687a5db2d20ee8a0fe576f40'), ObjectId('687a5db2d20ee8a0fe576f41'), ObjectId('687a5db2d20ee8a0fe576f42'), ObjectId('687a5db2d20ee8a0fe576f43'), ObjectId('687a5db2d20ee8a0fe576f44'), ObjectId('687a5db2d20ee8a0fe576f45'), ObjectId('687a5db2d20ee8a0fe576f46'), ObjectId('687a5db2d20ee8a0fe576f47'), ObjectId('687a5db2d20ee8a0fe576f48'), ObjectId('687a5db2d20ee8a0fe576f49'), ObjectId('687a5db2d20ee8a0fe576f4a'), ObjectId('687a5db2d20ee8a0fe576f4b'), ObjectId('687a5db2d20ee8a0fe576f4c'), ObjectId('687a5db2d20ee8a0fe576f4d'), ObjectId('687a5db2d20ee8a0fe576f4e'), ObjectId('687a5db2d20ee8a0fe576f4f'), ObjectId('687a5db2d20ee8a0fe576f50'), ObjectId('687a5db2d20ee8a0fe576f51'), ObjectId('687a5db2d20ee8a0fe576f52'), ObjectId('687a5db2d20ee8a0fe576f53'), ObjectId('687a5db2d20ee8a0fe576f54'), ObjectId('687a5db2d20ee8a0fe576f55'), ObjectId('687a5db2d20ee8a0fe576f56'), ObjectId('687a5db2d20ee8a0fe576f57'), ObjectId('687a5db2d20ee8a0fe576f58'), ObjectId('687a5db2d20ee8a0fe576f59'), ObjectId('687a5db2d20ee8a0fe576f5a'), ObjectId('687a5db2d20ee8a0fe576f5b'), ObjectId('687a5db2d20ee8a0fe576f5c'), ObjectId('687a5db2d20ee8a0fe576f5d'), ObjectId('687a5db2d20ee8a0fe576f5e'), ObjectId('687a5db2d20ee8a0fe576f5f'), ObjectId('687a5db2d20ee8a0fe576f60'), ObjectId('687a5db2d20ee8a0fe576f61'), ObjectId('687a5db2d20ee8a0fe576f62'), ObjectId('687a5db2d20ee8a0fe576f63'), ObjectId('687a5db2d20ee8a0fe576f64'), ObjectId('687a5db2d20ee8a0fe576f65'), ObjectId('687a5db2d20ee8a0fe576f66'), ObjectId('687a5db2d20ee8a0fe576f67'), ObjectId('687a5db2d20ee8a0fe576f68'), ObjectId('687a5db2d20ee8a0fe576f69'), ObjectId('687a5db2d20ee8a0fe576f6a'), ObjectId('687a5db2d20ee8a0fe576f6b'), ObjectId('687a5db2d20ee8a0fe576f6c'), ObjectId('687a5db2d20ee8a0fe576f6d'), ObjectId('687a5db2d20ee8a0fe576f6e'), ObjectId('687a5db2d20ee8a0fe576f6f'), ObjectId('687a5db2d20ee8a0fe576f70'), ObjectId('687a5db2d20ee8a0fe576f71'), ObjectId('687a5db2d20ee8a0fe576f72'), ObjectId('687a5db2d20ee8a0fe576f73'), ObjectId('687a5db2d20ee8a0fe576f74'), ObjectId('687a5db2d20ee8a0fe576f75'), ObjectId('687a5db2d20ee8a0fe576f76'), ObjectId('687a5db2d20ee8a0fe576f77'), ObjectId('687a5db2d20ee8a0fe576f78'), ObjectId('687a5db2d20ee8a0fe576f79'), ObjectId('687a5db2d20ee8a0fe576f7a'), ObjectId('687a5db2d20ee8a0fe576f7b'), ObjectId('687a5db2d20ee8a0fe576f7c'), ObjectId('687a5db2d20ee8a0fe576f7d'), ObjectId('687a5db2d20ee8a0fe576f7e'), ObjectId('687a5db2d20ee8a0fe576f7f'), ObjectId('687a5db2d20ee8a0fe576f80'), ObjectId('687a5db2d20ee8a0fe576f81'), ObjectId('687a5db2d20ee8a0fe576f82'), ObjectId('687a5db2d20ee8a0fe576f83'), ObjectId('687a5db2d20ee8a0fe576f84'), ObjectId('687a5db2d20ee8a0fe576f85'), ObjectId('687a5db2d20ee8a0fe576f86'), ObjectId('687a5db2d20ee8a0fe576f87'), ObjectId('687a5db2d20ee8a0fe576f88'), ObjectId('687a5db2d20ee8a0fe576f89'), ObjectId('687a5db2d20ee8a0fe576f8a'), ObjectId('687a5db2d20ee8a0fe576f8b'), ObjectId('687a5db2d20ee8a0fe576f8c'), ObjectId('687a5db2d20ee8a0fe576f8d'), ObjectId('687a5db2d20ee8a0fe576f8e'), ObjectId('687a5db2d20ee8a0fe576f8f'), ObjectId('687a5db2d20ee8a0fe576f90'), ObjectId('687a5db2d20ee8a0fe576f91'), ObjectId('687a5db2d20ee8a0fe576f92'), ObjectId('687a5db2d20ee8a0fe576f93'), ObjectId('687a5db2d20ee8a0fe576f94'), ObjectId('687a5db2d20ee8a0fe576f95'), ObjectId('687a5db2d20ee8a0fe576f96'), ObjectId('687a5db2d20ee8a0fe576f97'), ObjectId('687a5db2d20ee8a0fe576f98'), ObjectId('687a5db2d20ee8a0fe576f99'), ObjectId('687a5db2d20ee8a0fe576f9a'), ObjectId('687a5db2d20ee8a0fe576f9b'), ObjectId('687a5db2d20ee8a0fe576f9c'), ObjectId('687a5db2d20ee8a0fe576f9d'), ObjectId('687a5db2d20ee8a0fe576f9e'), ObjectId('687a5db2d20ee8a0fe576f9f'), ObjectId('687a5db2d20ee8a0fe576fa0'), ObjectId('687a5db2d20ee8a0fe576fa1'), ObjectId('687a5db2d20ee8a0fe576fa2'), ObjectId('687a5db2d20ee8a0fe576fa3'), ObjectId('687a5db2d20ee8a0fe576fa4'), ObjectId('687a5db2d20ee8a0fe576fa5'), ObjectId('687a5db2d20ee8a0fe576fa6'), ObjectId('687a5db2d20ee8a0fe576fa7'), ObjectId('687a5db2d20ee8a0fe576fa8'), ObjectId('687a5db2d20ee8a0fe576fa9'), ObjectId('687a5db2d20ee8a0fe576faa'), ObjectId('687a5db2d20ee8a0fe576fab'), ObjectId('687a5db2d20ee8a0fe576fac'), ObjectId('687a5db2d20ee8a0fe576fad'), ObjectId('687a5db2d20ee8a0fe576fae'), ObjectId('687a5db2d20ee8a0fe576faf'), ObjectId('687a5db2d20ee8a0fe576fb0'), ObjectId('687a5db2d20ee8a0fe576fb1'), ObjectId('687a5db2d20ee8a0fe576fb2'), ObjectId('687a5db2d20ee8a0fe576fb3'), ObjectId('687a5db2d20ee8a0fe576fb4'), ObjectId('687a5db2d20ee8a0fe576fb5'), ObjectId('687a5db2d20ee8a0fe576fb6'), ObjectId('687a5db2d20ee8a0fe576fb7'), ObjectId('687a5db2d20ee8a0fe576fb8'), ObjectId('687a5db2d20ee8a0fe576fb9'), ObjectId('687a5db2d20ee8a0fe576fba'), ObjectId('687a5db2d20ee8a0fe576fbb'), ObjectId('687a5db2d20ee8a0fe576fbc'), ObjectId('687a5db2d20ee8a0fe576fbd'), ObjectId('687a5db2d20ee8a0fe576fbe'), ObjectId('687a5db2d20ee8a0fe576fbf'), ObjectId('687a5db2d20ee8a0fe576fc0'), ObjectId('687a5db2d20ee8a0fe576fc1'), ObjectId('687a5db2d20ee8a0fe576fc2'), ObjectId('687a5db2d20ee8a0fe576fc3'), ObjectId('687a5db2d20ee8a0fe576fc4'), ObjectId('687a5db2d20ee8a0fe576fc5'), ObjectId('687a5db2d20ee8a0fe576fc6'), ObjectId('687a5db2d20ee8a0fe576fc7'), ObjectId('687a5db2d20ee8a0fe576fc8'), ObjectId('687a5db2d20ee8a0fe576fc9'), ObjectId('687a5db2d20ee8a0fe576fca'), ObjectId('687a5db2d20ee8a0fe576fcb'), ObjectId('687a5db2d20ee8a0fe576fcc'), ObjectId('687a5db2d20ee8a0fe576fcd'), ObjectId('687a5db2d20ee8a0fe576fce'), ObjectId('687a5db2d20ee8a0fe576fcf'), ObjectId('687a5db2d20ee8a0fe576fd0'), ObjectId('687a5db2d20ee8a0fe576fd1'), ObjectId('687a5db2d20ee8a0fe576fd2'), ObjectId('687a5db2d20ee8a0fe576fd3'), ObjectId('687a5db2d20ee8a0fe576fd4'), ObjectId('687a5db2d20ee8a0fe576fd5'), ObjectId('687a5db2d20ee8a0fe576fd6'), ObjectId('687a5db2d20ee8a0fe576fd7'), ObjectId('687a5db2d20ee8a0fe576fd8'), ObjectId('687a5db2d20ee8a0fe576fd9'), ObjectId('687a5db2d20ee8a0fe576fda'), ObjectId('687a5db2d20ee8a0fe576fdb'), ObjectId('687a5db2d20ee8a0fe576fdc'), ObjectId('687a5db2d20ee8a0fe576fdd'), ObjectId('687a5db2d20ee8a0fe576fde'), ObjectId('687a5db2d20ee8a0fe576fdf'), ObjectId('687a5db2d20ee8a0fe576fe0'), ObjectId('687a5db2d20ee8a0fe576fe1'), ObjectId('687a5db2d20ee8a0fe576fe2'), ObjectId('687a5db2d20ee8a0fe576fe3'), ObjectId('687a5db2d20ee8a0fe576fe4'), ObjectId('687a5db2d20ee8a0fe576fe5'), ObjectId('687a5db2d20ee8a0fe576fe6'), ObjectId('687a5db2d20ee8a0fe576fe7'), ObjectId('687a5db2d20ee8a0fe576fe8'), ObjectId('687a5db2d20ee8a0fe576fe9'), ObjectId('687a5db2d20ee8a0fe576fea'), ObjectId('687a5db2d20ee8a0fe576feb'), ObjectId('687a5db2d20ee8a0fe576fec'), ObjectId('687a5db2d20ee8a0fe576fed'), ObjectId('687a5db2d20ee8a0fe576fee'), ObjectId('687a5db2d20ee8a0fe576fef'), ObjectId('687a5db2d20ee8a0fe576ff0'), ObjectId('687a5db2d20ee8a0fe576ff1'), ObjectId('687a5db2d20ee8a0fe576ff2'), ObjectId('687a5db2d20ee8a0fe576ff3'), ObjectId('687a5db2d20ee8a0fe576ff4'), ObjectId('687a5db2d20ee8a0fe576ff5'), ObjectId('687a5db2d20ee8a0fe576ff6'), ObjectId('687a5db2d20ee8a0fe576ff7'), ObjectId('687a5db2d20ee8a0fe576ff8'), ObjectId('687a5db2d20ee8a0fe576ff9'), ObjectId('687a5db2d20ee8a0fe576ffa'), ObjectId('687a5db2d20ee8a0fe576ffb'), ObjectId('687a5db2d20ee8a0fe576ffc'), ObjectId('687a5db2d20ee8a0fe576ffd'), ObjectId('687a5db2d20ee8a0fe576ffe'), ObjectId('687a5db2d20ee8a0fe576fff'), ObjectId('687a5db2d20ee8a0fe577000'), ObjectId('687a5db2d20ee8a0fe577001'), ObjectId('687a5db2d20ee8a0fe577002'), ObjectId('687a5db2d20ee8a0fe577003'), ObjectId('687a5db2d20ee8a0fe577004'), ObjectId('687a5db2d20ee8a0fe577005'), ObjectId('687a5db2d20ee8a0fe577006'), ObjectId('687a5db2d20ee8a0fe577007'), ObjectId('687a5db2d20ee8a0fe577008'), ObjectId('687a5db2d20ee8a0fe577009'), ObjectId('687a5db2d20ee8a0fe57700a'), ObjectId('687a5db2d20ee8a0fe57700b'), ObjectId('687a5db2d20ee8a0fe57700c'), ObjectId('687a5db2d20ee8a0fe57700d'), ObjectId('687a5db2d20ee8a0fe57700e'), ObjectId('687a5db2d20ee8a0fe57700f'), ObjectId('687a5db2d20ee8a0fe577010'), ObjectId('687a5db2d20ee8a0fe577011'), ObjectId('687a5db2d20ee8a0fe577012'), ObjectId('687a5db2d20ee8a0fe577013'), ObjectId('687a5db2d20ee8a0fe577014'), ObjectId('687a5db2d20ee8a0fe577015'), ObjectId('687a5db2d20ee8a0fe577016'), ObjectId('687a5db2d20ee8a0fe577017'), ObjectId('687a5db2d20ee8a0fe577018'), ObjectId('687a5db2d20ee8a0fe577019'), ObjectId('687a5db2d20ee8a0fe57701a'), ObjectId('687a5db2d20ee8a0fe57701b'), ObjectId('687a5db2d20ee8a0fe57701c'), ObjectId('687a5db2d20ee8a0fe57701d'), ObjectId('687a5db2d20ee8a0fe57701e'), ObjectId('687a5db2d20ee8a0fe57701f'), ObjectId('687a5db2d20ee8a0fe577020'), ObjectId('687a5db2d20ee8a0fe577021'), ObjectId('687a5db2d20ee8a0fe577022'), ObjectId('687a5db2d20ee8a0fe577023'), ObjectId('687a5db2d20ee8a0fe577024'), ObjectId('687a5db2d20ee8a0fe577025'), ObjectId('687a5db2d20ee8a0fe577026'), ObjectId('687a5db2d20ee8a0fe577027'), ObjectId('687a5db2d20ee8a0fe577028'), ObjectId('687a5db2d20ee8a0fe577029'), ObjectId('687a5db2d20ee8a0fe57702a'), ObjectId('687a5db2d20ee8a0fe57702b'), ObjectId('687a5db2d20ee8a0fe57702c'), ObjectId('687a5db2d20ee8a0fe57702d'), ObjectId('687a5db2d20ee8a0fe57702e'), ObjectId('687a5db2d20ee8a0fe57702f'), ObjectId('687a5db2d20ee8a0fe577030'), ObjectId('687a5db2d20ee8a0fe577031'), ObjectId('687a5db2d20ee8a0fe577032'), ObjectId('687a5db2d20ee8a0fe577033'), ObjectId('687a5db2d20ee8a0fe577034'), ObjectId('687a5db2d20ee8a0fe577035'), ObjectId('687a5db2d20ee8a0fe577036'), ObjectId('687a5db2d20ee8a0fe577037'), ObjectId('687a5db2d20ee8a0fe577038'), ObjectId('687a5db2d20ee8a0fe577039'), ObjectId('687a5db2d20ee8a0fe57703a'), ObjectId('687a5db2d20ee8a0fe57703b'), ObjectId('687a5db2d20ee8a0fe57703c'), ObjectId('687a5db2d20ee8a0fe57703d'), ObjectId('687a5db2d20ee8a0fe57703e'), ObjectId('687a5db2d20ee8a0fe57703f'), ObjectId('687a5db2d20ee8a0fe577040'), ObjectId('687a5db2d20ee8a0fe577041'), ObjectId('687a5db2d20ee8a0fe577042'), ObjectId('687a5db2d20ee8a0fe577043'), ObjectId('687a5db2d20ee8a0fe577044'), ObjectId('687a5db2d20ee8a0fe577045'), ObjectId('687a5db2d20ee8a0fe577046'), ObjectId('687a5db2d20ee8a0fe577047'), ObjectId('687a5db2d20ee8a0fe577048'), ObjectId('687a5db2d20ee8a0fe577049'), ObjectId('687a5db2d20ee8a0fe57704a'), ObjectId('687a5db2d20ee8a0fe57704b'), ObjectId('687a5db2d20ee8a0fe57704c'), ObjectId('687a5db2d20ee8a0fe57704d'), ObjectId('687a5db2d20ee8a0fe57704e'), ObjectId('687a5db2d20ee8a0fe57704f'), ObjectId('687a5db2d20ee8a0fe577050'), ObjectId('687a5db2d20ee8a0fe577051'), ObjectId('687a5db2d20ee8a0fe577052'), ObjectId('687a5db2d20ee8a0fe577053'), ObjectId('687a5db2d20ee8a0fe577054'), ObjectId('687a5db2d20ee8a0fe577055'), ObjectId('687a5db2d20ee8a0fe577056'), ObjectId('687a5db2d20ee8a0fe577057'), ObjectId('687a5db2d20ee8a0fe577058'), ObjectId('687a5db2d20ee8a0fe577059'), ObjectId('687a5db2d20ee8a0fe57705a'), ObjectId('687a5db2d20ee8a0fe57705b'), ObjectId('687a5db2d20ee8a0fe57705c'), ObjectId('687a5db2d20ee8a0fe57705d'), ObjectId('687a5db2d20ee8a0fe57705e'), ObjectId('687a5db2d20ee8a0fe57705f'), ObjectId('687a5db2d20ee8a0fe577060'), ObjectId('687a5db2d20ee8a0fe577061'), ObjectId('687a5db2d20ee8a0fe577062'), ObjectId('687a5db2d20ee8a0fe577063'), ObjectId('687a5db2d20ee8a0fe577064'), ObjectId('687a5db2d20ee8a0fe577065'), ObjectId('687a5db2d20ee8a0fe577066'), ObjectId('687a5db2d20ee8a0fe577067'), ObjectId('687a5db2d20ee8a0fe577068'), ObjectId('687a5db2d20ee8a0fe577069'), ObjectId('687a5db2d20ee8a0fe57706a'), ObjectId('687a5db2d20ee8a0fe57706b'), ObjectId('687a5db2d20ee8a0fe57706c'), ObjectId('687a5db2d20ee8a0fe57706d'), ObjectId('687a5db2d20ee8a0fe57706e'), ObjectId('687a5db2d20ee8a0fe57706f'), ObjectId('687a5db2d20ee8a0fe577070'), ObjectId('687a5db2d20ee8a0fe577071'), ObjectId('687a5db2d20ee8a0fe577072'), ObjectId('687a5db2d20ee8a0fe577073'), ObjectId('687a5db2d20ee8a0fe577074'), ObjectId('687a5db2d20ee8a0fe577075'), ObjectId('687a5db2d20ee8a0fe577076'), ObjectId('687a5db2d20ee8a0fe577077'), ObjectId('687a5db2d20ee8a0fe577078'), ObjectId('687a5db2d20ee8a0fe577079'), ObjectId('687a5db2d20ee8a0fe57707a'), ObjectId('687a5db2d20ee8a0fe57707b'), ObjectId('687a5db2d20ee8a0fe57707c'), ObjectId('687a5db2d20ee8a0fe57707d'), ObjectId('687a5db2d20ee8a0fe57707e'), ObjectId('687a5db2d20ee8a0fe57707f'), ObjectId('687a5db2d20ee8a0fe577080'), ObjectId('687a5db2d20ee8a0fe577081'), ObjectId('687a5db2d20ee8a0fe577082'), ObjectId('687a5db2d20ee8a0fe577083'), ObjectId('687a5db2d20ee8a0fe577084'), ObjectId('687a5db2d20ee8a0fe577085'), ObjectId('687a5db2d20ee8a0fe577086'), ObjectId('687a5db2d20ee8a0fe577087'), ObjectId('687a5db2d20ee8a0fe577088'), ObjectId('687a5db2d20ee8a0fe577089'), ObjectId('687a5db2d20ee8a0fe57708a'), ObjectId('687a5db2d20ee8a0fe57708b'), ObjectId('687a5db2d20ee8a0fe57708c'), ObjectId('687a5db2d20ee8a0fe57708d'), ObjectId('687a5db2d20ee8a0fe57708e'), ObjectId('687a5db2d20ee8a0fe57708f'), ObjectId('687a5db2d20ee8a0fe577090'), ObjectId('687a5db2d20ee8a0fe577091'), ObjectId('687a5db2d20ee8a0fe577092'), ObjectId('687a5db2d20ee8a0fe577093'), ObjectId('687a5db2d20ee8a0fe577094'), ObjectId('687a5db2d20ee8a0fe577095'), ObjectId('687a5db2d20ee8a0fe577096'), ObjectId('687a5db2d20ee8a0fe577097'), ObjectId('687a5db2d20ee8a0fe577098'), ObjectId('687a5db2d20ee8a0fe577099'), ObjectId('687a5db2d20ee8a0fe57709a'), ObjectId('687a5db2d20ee8a0fe57709b'), ObjectId('687a5db2d20ee8a0fe57709c'), ObjectId('687a5db2d20ee8a0fe57709d'), ObjectId('687a5db2d20ee8a0fe57709e'), ObjectId('687a5db2d20ee8a0fe57709f'), ObjectId('687a5db2d20ee8a0fe5770a0'), ObjectId('687a5db2d20ee8a0fe5770a1'), ObjectId('687a5db2d20ee8a0fe5770a2'), ObjectId('687a5db2d20ee8a0fe5770a3'), ObjectId('687a5db2d20ee8a0fe5770a4'), ObjectId('687a5db2d20ee8a0fe5770a5'), ObjectId('687a5db2d20ee8a0fe5770a6'), ObjectId('687a5db2d20ee8a0fe5770a7'), ObjectId('687a5db2d20ee8a0fe5770a8'), ObjectId('687a5db2d20ee8a0fe5770a9'), ObjectId('687a5db2d20ee8a0fe5770aa'), ObjectId('687a5db2d20ee8a0fe5770ab'), ObjectId('687a5db2d20ee8a0fe5770ac'), ObjectId('687a5db2d20ee8a0fe5770ad'), ObjectId('687a5db2d20ee8a0fe5770ae'), ObjectId('687a5db2d20ee8a0fe5770af'), ObjectId('687a5db2d20ee8a0fe5770b0'), ObjectId('687a5db2d20ee8a0fe5770b1'), ObjectId('687a5db2d20ee8a0fe5770b2'), ObjectId('687a5db2d20ee8a0fe5770b3'), ObjectId('687a5db2d20ee8a0fe5770b4'), ObjectId('687a5db2d20ee8a0fe5770b5'), ObjectId('687a5db2d20ee8a0fe5770b6'), ObjectId('687a5db2d20ee8a0fe5770b7'), ObjectId('687a5db2d20ee8a0fe5770b8'), ObjectId('687a5db2d20ee8a0fe5770b9'), ObjectId('687a5db2d20ee8a0fe5770ba'), ObjectId('687a5db2d20ee8a0fe5770bb'), ObjectId('687a5db2d20ee8a0fe5770bc'), ObjectId('687a5db2d20ee8a0fe5770bd'), ObjectId('687a5db2d20ee8a0fe5770be'), ObjectId('687a5db2d20ee8a0fe5770bf'), ObjectId('687a5db2d20ee8a0fe5770c0'), ObjectId('687a5db2d20ee8a0fe5770c1'), ObjectId('687a5db2d20ee8a0fe5770c2'), ObjectId('687a5db2d20ee8a0fe5770c3'), ObjectId('687a5db2d20ee8a0fe5770c4'), ObjectId('687a5db2d20ee8a0fe5770c5'), ObjectId('687a5db2d20ee8a0fe5770c6'), ObjectId('687a5db2d20ee8a0fe5770c7'), ObjectId('687a5db2d20ee8a0fe5770c8'), ObjectId('687a5db2d20ee8a0fe5770c9'), ObjectId('687a5db2d20ee8a0fe5770ca'), ObjectId('687a5db2d20ee8a0fe5770cb'), ObjectId('687a5db2d20ee8a0fe5770cc'), ObjectId('687a5db2d20ee8a0fe5770cd'), ObjectId('687a5db2d20ee8a0fe5770ce'), ObjectId('687a5db2d20ee8a0fe5770cf'), ObjectId('687a5db2d20ee8a0fe5770d0'), ObjectId('687a5db2d20ee8a0fe5770d1'), ObjectId('687a5db2d20ee8a0fe5770d2'), ObjectId('687a5db2d20ee8a0fe5770d3'), ObjectId('687a5db2d20ee8a0fe5770d4'), ObjectId('687a5db2d20ee8a0fe5770d5'), ObjectId('687a5db2d20ee8a0fe5770d6'), ObjectId('687a5db2d20ee8a0fe5770d7'), ObjectId('687a5db2d20ee8a0fe5770d8'), ObjectId('687a5db2d20ee8a0fe5770d9'), ObjectId('687a5db2d20ee8a0fe5770da'), ObjectId('687a5db2d20ee8a0fe5770db'), ObjectId('687a5db2d20ee8a0fe5770dc'), ObjectId('687a5db2d20ee8a0fe5770dd'), ObjectId('687a5db2d20ee8a0fe5770de'), ObjectId('687a5db2d20ee8a0fe5770df'), ObjectId('687a5db2d20ee8a0fe5770e0'), ObjectId('687a5db2d20ee8a0fe5770e1'), ObjectId('687a5db2d20ee8a0fe5770e2'), ObjectId('687a5db2d20ee8a0fe5770e3'), ObjectId('687a5db2d20ee8a0fe5770e4'), ObjectId('687a5db2d20ee8a0fe5770e5'), ObjectId('687a5db2d20ee8a0fe5770e6'), ObjectId('687a5db2d20ee8a0fe5770e7'), ObjectId('687a5db2d20ee8a0fe5770e8'), ObjectId('687a5db2d20ee8a0fe5770e9'), ObjectId('687a5db2d20ee8a0fe5770ea'), ObjectId('687a5db2d20ee8a0fe5770eb'), ObjectId('687a5db2d20ee8a0fe5770ec'), ObjectId('687a5db2d20ee8a0fe5770ed'), ObjectId('687a5db2d20ee8a0fe5770ee'), ObjectId('687a5db2d20ee8a0fe5770ef'), ObjectId('687a5db2d20ee8a0fe5770f0'), ObjectId('687a5db2d20ee8a0fe5770f1'), ObjectId('687a5db2d20ee8a0fe5770f2'), ObjectId('687a5db2d20ee8a0fe5770f3'), ObjectId('687a5db2d20ee8a0fe5770f4'), ObjectId('687a5db2d20ee8a0fe5770f5'), ObjectId('687a5db2d20ee8a0fe5770f6'), ObjectId('687a5db2d20ee8a0fe5770f7'), ObjectId('687a5db2d20ee8a0fe5770f8'), ObjectId('687a5db2d20ee8a0fe5770f9'), ObjectId('687a5db2d20ee8a0fe5770fa'), ObjectId('687a5db2d20ee8a0fe5770fb'), ObjectId('687a5db2d20ee8a0fe5770fc'), ObjectId('687a5db2d20ee8a0fe5770fd'), ObjectId('687a5db2d20ee8a0fe5770fe'), ObjectId('687a5db2d20ee8a0fe5770ff'), ObjectId('687a5db2d20ee8a0fe577100'), ObjectId('687a5db2d20ee8a0fe577101'), ObjectId('687a5db2d20ee8a0fe577102'), ObjectId('687a5db2d20ee8a0fe577103'), ObjectId('687a5db2d20ee8a0fe577104'), ObjectId('687a5db2d20ee8a0fe577105'), ObjectId('687a5db2d20ee8a0fe577106'), ObjectId('687a5db2d20ee8a0fe577107'), ObjectId('687a5db2d20ee8a0fe577108'), ObjectId('687a5db2d20ee8a0fe577109'), ObjectId('687a5db2d20ee8a0fe57710a'), ObjectId('687a5db2d20ee8a0fe57710b'), ObjectId('687a5db2d20ee8a0fe57710c'), ObjectId('687a5db2d20ee8a0fe57710d'), ObjectId('687a5db2d20ee8a0fe57710e'), ObjectId('687a5db2d20ee8a0fe57710f'), ObjectId('687a5db2d20ee8a0fe577110'), ObjectId('687a5db2d20ee8a0fe577111'), ObjectId('687a5db2d20ee8a0fe577112'), ObjectId('687a5db2d20ee8a0fe577113'), ObjectId('687a5db2d20ee8a0fe577114'), ObjectId('687a5db2d20ee8a0fe577115'), ObjectId('687a5db2d20ee8a0fe577116'), ObjectId('687a5db2d20ee8a0fe577117'), ObjectId('687a5db2d20ee8a0fe577118'), ObjectId('687a5db2d20ee8a0fe577119'), ObjectId('687a5db2d20ee8a0fe57711a'), ObjectId('687a5db2d20ee8a0fe57711b'), ObjectId('687a5db2d20ee8a0fe57711c'), ObjectId('687a5db2d20ee8a0fe57711d'), ObjectId('687a5db2d20ee8a0fe57711e'), ObjectId('687a5db2d20ee8a0fe57711f'), ObjectId('687a5db2d20ee8a0fe577120'), ObjectId('687a5db2d20ee8a0fe577121'), ObjectId('687a5db2d20ee8a0fe577122'), ObjectId('687a5db2d20ee8a0fe577123'), ObjectId('687a5db2d20ee8a0fe577124'), ObjectId('687a5db2d20ee8a0fe577125'), ObjectId('687a5db2d20ee8a0fe577126'), ObjectId('687a5db2d20ee8a0fe577127'), ObjectId('687a5db2d20ee8a0fe577128'), ObjectId('687a5db2d20ee8a0fe577129'), ObjectId('687a5db2d20ee8a0fe57712a'), ObjectId('687a5db2d20ee8a0fe57712b'), ObjectId('687a5db2d20ee8a0fe57712c'), ObjectId('687a5db2d20ee8a0fe57712d'), ObjectId('687a5db2d20ee8a0fe57712e'), ObjectId('687a5db2d20ee8a0fe57712f'), ObjectId('687a5db2d20ee8a0fe577130'), ObjectId('687a5db2d20ee8a0fe577131'), ObjectId('687a5db2d20ee8a0fe577132'), ObjectId('687a5db2d20ee8a0fe577133'), ObjectId('687a5db2d20ee8a0fe577134'), ObjectId('687a5db2d20ee8a0fe577135'), ObjectId('687a5db2d20ee8a0fe577136'), ObjectId('687a5db2d20ee8a0fe577137'), ObjectId('687a5db2d20ee8a0fe577138'), ObjectId('687a5db2d20ee8a0fe577139'), ObjectId('687a5db2d20ee8a0fe57713a'), ObjectId('687a5db2d20ee8a0fe57713b'), ObjectId('687a5db2d20ee8a0fe57713c'), ObjectId('687a5db2d20ee8a0fe57713d'), ObjectId('687a5db2d20ee8a0fe57713e'), ObjectId('687a5db2d20ee8a0fe57713f'), ObjectId('687a5db2d20ee8a0fe577140'), ObjectId('687a5db2d20ee8a0fe577141'), ObjectId('687a5db2d20ee8a0fe577142'), ObjectId('687a5db2d20ee8a0fe577143'), ObjectId('687a5db2d20ee8a0fe577144'), ObjectId('687a5db2d20ee8a0fe577145'), ObjectId('687a5db2d20ee8a0fe577146'), ObjectId('687a5db2d20ee8a0fe577147'), ObjectId('687a5db2d20ee8a0fe577148'), ObjectId('687a5db2d20ee8a0fe577149'), ObjectId('687a5db2d20ee8a0fe57714a'), ObjectId('687a5db2d20ee8a0fe57714b'), ObjectId('687a5db2d20ee8a0fe57714c'), ObjectId('687a5db2d20ee8a0fe57714d'), ObjectId('687a5db2d20ee8a0fe57714e'), ObjectId('687a5db2d20ee8a0fe57714f'), ObjectId('687a5db2d20ee8a0fe577150'), ObjectId('687a5db2d20ee8a0fe577151'), ObjectId('687a5db2d20ee8a0fe577152'), ObjectId('687a5db2d20ee8a0fe577153'), ObjectId('687a5db2d20ee8a0fe577154'), ObjectId('687a5db2d20ee8a0fe577155'), ObjectId('687a5db2d20ee8a0fe577156'), ObjectId('687a5db2d20ee8a0fe577157'), ObjectId('687a5db2d20ee8a0fe577158'), ObjectId('687a5db2d20ee8a0fe577159'), ObjectId('687a5db2d20ee8a0fe57715a'), ObjectId('687a5db2d20ee8a0fe57715b'), ObjectId('687a5db2d20ee8a0fe57715c'), ObjectId('687a5db2d20ee8a0fe57715d'), ObjectId('687a5db2d20ee8a0fe57715e'), ObjectId('687a5db2d20ee8a0fe57715f'), ObjectId('687a5db2d20ee8a0fe577160'), ObjectId('687a5db2d20ee8a0fe577161'), ObjectId('687a5db2d20ee8a0fe577162'), ObjectId('687a5db2d20ee8a0fe577163'), ObjectId('687a5db2d20ee8a0fe577164'), ObjectId('687a5db2d20ee8a0fe577165'), ObjectId('687a5db2d20ee8a0fe577166'), ObjectId('687a5db2d20ee8a0fe577167'), ObjectId('687a5db2d20ee8a0fe577168'), ObjectId('687a5db2d20ee8a0fe577169'), ObjectId('687a5db2d20ee8a0fe57716a'), ObjectId('687a5db2d20ee8a0fe57716b'), ObjectId('687a5db2d20ee8a0fe57716c'), ObjectId('687a5db2d20ee8a0fe57716d'), ObjectId('687a5db2d20ee8a0fe57716e'), ObjectId('687a5db2d20ee8a0fe57716f'), ObjectId('687a5db2d20ee8a0fe577170'), ObjectId('687a5db2d20ee8a0fe577171'), ObjectId('687a5db2d20ee8a0fe577172'), ObjectId('687a5db2d20ee8a0fe577173'), ObjectId('687a5db2d20ee8a0fe577174'), ObjectId('687a5db2d20ee8a0fe577175'), ObjectId('687a5db2d20ee8a0fe577176'), ObjectId('687a5db2d20ee8a0fe577177'), ObjectId('687a5db2d20ee8a0fe577178'), ObjectId('687a5db2d20ee8a0fe577179'), ObjectId('687a5db2d20ee8a0fe57717a'), ObjectId('687a5db2d20ee8a0fe57717b'), ObjectId('687a5db2d20ee8a0fe57717c'), ObjectId('687a5db2d20ee8a0fe57717d'), ObjectId('687a5db2d20ee8a0fe57717e'), ObjectId('687a5db2d20ee8a0fe57717f'), ObjectId('687a5db2d20ee8a0fe577180'), ObjectId('687a5db2d20ee8a0fe577181'), ObjectId('687a5db2d20ee8a0fe577182'), ObjectId('687a5db2d20ee8a0fe577183'), ObjectId('687a5db2d20ee8a0fe577184'), ObjectId('687a5db2d20ee8a0fe577185'), ObjectId('687a5db2d20ee8a0fe577186'), ObjectId('687a5db2d20ee8a0fe577187'), ObjectId('687a5db2d20ee8a0fe577188'), ObjectId('687a5db2d20ee8a0fe577189'), ObjectId('687a5db2d20ee8a0fe57718a'), ObjectId('687a5db2d20ee8a0fe57718b'), ObjectId('687a5db2d20ee8a0fe57718c'), ObjectId('687a5db2d20ee8a0fe57718d'), ObjectId('687a5db2d20ee8a0fe57718e'), ObjectId('687a5db2d20ee8a0fe57718f'), ObjectId('687a5db2d20ee8a0fe577190'), ObjectId('687a5db2d20ee8a0fe577191'), ObjectId('687a5db2d20ee8a0fe577192'), ObjectId('687a5db2d20ee8a0fe577193'), ObjectId('687a5db2d20ee8a0fe577194'), ObjectId('687a5db2d20ee8a0fe577195'), ObjectId('687a5db2d20ee8a0fe577196'), ObjectId('687a5db2d20ee8a0fe577197'), ObjectId('687a5db2d20ee8a0fe577198'), ObjectId('687a5db2d20ee8a0fe577199'), ObjectId('687a5db2d20ee8a0fe57719a'), ObjectId('687a5db2d20ee8a0fe57719b'), ObjectId('687a5db2d20ee8a0fe57719c'), ObjectId('687a5db2d20ee8a0fe57719d'), ObjectId('687a5db2d20ee8a0fe57719e'), ObjectId('687a5db2d20ee8a0fe57719f'), ObjectId('687a5db2d20ee8a0fe5771a0'), ObjectId('687a5db2d20ee8a0fe5771a1'), ObjectId('687a5db2d20ee8a0fe5771a2'), ObjectId('687a5db2d20ee8a0fe5771a3'), ObjectId('687a5db2d20ee8a0fe5771a4'), ObjectId('687a5db2d20ee8a0fe5771a5'), ObjectId('687a5db2d20ee8a0fe5771a6'), ObjectId('687a5db2d20ee8a0fe5771a7'), ObjectId('687a5db2d20ee8a0fe5771a8'), ObjectId('687a5db2d20ee8a0fe5771a9'), ObjectId('687a5db2d20ee8a0fe5771aa'), ObjectId('687a5db2d20ee8a0fe5771ab'), ObjectId('687a5db2d20ee8a0fe5771ac'), ObjectId('687a5db2d20ee8a0fe5771ad'), ObjectId('687a5db2d20ee8a0fe5771ae'), ObjectId('687a5db2d20ee8a0fe5771af'), ObjectId('687a5db2d20ee8a0fe5771b0'), ObjectId('687a5db2d20ee8a0fe5771b1'), ObjectId('687a5db2d20ee8a0fe5771b2'), ObjectId('687a5db2d20ee8a0fe5771b3'), ObjectId('687a5db2d20ee8a0fe5771b4'), ObjectId('687a5db2d20ee8a0fe5771b5'), ObjectId('687a5db2d20ee8a0fe5771b6'), ObjectId('687a5db2d20ee8a0fe5771b7'), ObjectId('687a5db2d20ee8a0fe5771b8'), ObjectId('687a5db2d20ee8a0fe5771b9'), ObjectId('687a5db2d20ee8a0fe5771ba'), ObjectId('687a5db2d20ee8a0fe5771bb'), ObjectId('687a5db2d20ee8a0fe5771bc'), ObjectId('687a5db2d20ee8a0fe5771bd'), ObjectId('687a5db2d20ee8a0fe5771be'), ObjectId('687a5db2d20ee8a0fe5771bf'), ObjectId('687a5db2d20ee8a0fe5771c0'), ObjectId('687a5db2d20ee8a0fe5771c1'), ObjectId('687a5db2d20ee8a0fe5771c2'), ObjectId('687a5db2d20ee8a0fe5771c3'), ObjectId('687a5db2d20ee8a0fe5771c4'), ObjectId('687a5db2d20ee8a0fe5771c5'), ObjectId('687a5db2d20ee8a0fe5771c6'), ObjectId('687a5db2d20ee8a0fe5771c7'), ObjectId('687a5db2d20ee8a0fe5771c8'), ObjectId('687a5db2d20ee8a0fe5771c9'), ObjectId('687a5db2d20ee8a0fe5771ca'), ObjectId('687a5db2d20ee8a0fe5771cb'), ObjectId('687a5db2d20ee8a0fe5771cc'), ObjectId('687a5db2d20ee8a0fe5771cd'), ObjectId('687a5db2d20ee8a0fe5771ce'), ObjectId('687a5db2d20ee8a0fe5771cf'), ObjectId('687a5db2d20ee8a0fe5771d0'), ObjectId('687a5db2d20ee8a0fe5771d1'), ObjectId('687a5db2d20ee8a0fe5771d2'), ObjectId('687a5db2d20ee8a0fe5771d3'), ObjectId('687a5db2d20ee8a0fe5771d4'), ObjectId('687a5db2d20ee8a0fe5771d5'), ObjectId('687a5db2d20ee8a0fe5771d6'), ObjectId('687a5db2d20ee8a0fe5771d7'), ObjectId('687a5db2d20ee8a0fe5771d8'), ObjectId('687a5db2d20ee8a0fe5771d9'), ObjectId('687a5db2d20ee8a0fe5771da'), ObjectId('687a5db2d20ee8a0fe5771db'), ObjectId('687a5db2d20ee8a0fe5771dc'), ObjectId('687a5db2d20ee8a0fe5771dd'), ObjectId('687a5db2d20ee8a0fe5771de'), ObjectId('687a5db2d20ee8a0fe5771df'), ObjectId('687a5db2d20ee8a0fe5771e0'), ObjectId('687a5db2d20ee8a0fe5771e1'), ObjectId('687a5db2d20ee8a0fe5771e2'), ObjectId('687a5db2d20ee8a0fe5771e3'), ObjectId('687a5db2d20ee8a0fe5771e4'), ObjectId('687a5db2d20ee8a0fe5771e5'), ObjectId('687a5db2d20ee8a0fe5771e6'), ObjectId('687a5db2d20ee8a0fe5771e7'), ObjectId('687a5db2d20ee8a0fe5771e8'), ObjectId('687a5db2d20ee8a0fe5771e9'), ObjectId('687a5db2d20ee8a0fe5771ea'), ObjectId('687a5db2d20ee8a0fe5771eb'), ObjectId('687a5db2d20ee8a0fe5771ec'), ObjectId('687a5db2d20ee8a0fe5771ed'), ObjectId('687a5db2d20ee8a0fe5771ee'), ObjectId('687a5db2d20ee8a0fe5771ef'), ObjectId('687a5db2d20ee8a0fe5771f0'), ObjectId('687a5db2d20ee8a0fe5771f1'), ObjectId('687a5db2d20ee8a0fe5771f2'), ObjectId('687a5db2d20ee8a0fe5771f3'), ObjectId('687a5db2d20ee8a0fe5771f4'), ObjectId('687a5db2d20ee8a0fe5771f5'), ObjectId('687a5db2d20ee8a0fe5771f6'), ObjectId('687a5db2d20ee8a0fe5771f7'), ObjectId('687a5db2d20ee8a0fe5771f8'), ObjectId('687a5db2d20ee8a0fe5771f9'), ObjectId('687a5db2d20ee8a0fe5771fa'), ObjectId('687a5db2d20ee8a0fe5771fb'), ObjectId('687a5db2d20ee8a0fe5771fc'), ObjectId('687a5db2d20ee8a0fe5771fd'), ObjectId('687a5db2d20ee8a0fe5771fe'), ObjectId('687a5db2d20ee8a0fe5771ff'), ObjectId('687a5db2d20ee8a0fe577200'), ObjectId('687a5db2d20ee8a0fe577201'), ObjectId('687a5db2d20ee8a0fe577202'), ObjectId('687a5db2d20ee8a0fe577203'), ObjectId('687a5db2d20ee8a0fe577204'), ObjectId('687a5db2d20ee8a0fe577205'), ObjectId('687a5db2d20ee8a0fe577206'), ObjectId('687a5db2d20ee8a0fe577207'), ObjectId('687a5db2d20ee8a0fe577208'), ObjectId('687a5db2d20ee8a0fe577209'), ObjectId('687a5db2d20ee8a0fe57720a'), ObjectId('687a5db2d20ee8a0fe57720b'), ObjectId('687a5db2d20ee8a0fe57720c'), ObjectId('687a5db2d20ee8a0fe57720d'), ObjectId('687a5db2d20ee8a0fe57720e'), ObjectId('687a5db2d20ee8a0fe57720f'), ObjectId('687a5db2d20ee8a0fe577210'), ObjectId('687a5db2d20ee8a0fe577211'), ObjectId('687a5db2d20ee8a0fe577212'), ObjectId('687a5db2d20ee8a0fe577213'), ObjectId('687a5db2d20ee8a0fe577214'), ObjectId('687a5db2d20ee8a0fe577215'), ObjectId('687a5db2d20ee8a0fe577216'), ObjectId('687a5db2d20ee8a0fe577217'), ObjectId('687a5db2d20ee8a0fe577218'), ObjectId('687a5db2d20ee8a0fe577219'), ObjectId('687a5db2d20ee8a0fe57721a'), ObjectId('687a5db2d20ee8a0fe57721b'), ObjectId('687a5db2d20ee8a0fe57721c'), ObjectId('687a5db2d20ee8a0fe57721d'), ObjectId('687a5db2d20ee8a0fe57721e'), ObjectId('687a5db2d20ee8a0fe57721f'), ObjectId('687a5db2d20ee8a0fe577220'), ObjectId('687a5db2d20ee8a0fe577221'), ObjectId('687a5db2d20ee8a0fe577222'), ObjectId('687a5db2d20ee8a0fe577223'), ObjectId('687a5db2d20ee8a0fe577224'), ObjectId('687a5db2d20ee8a0fe577225'), ObjectId('687a5db2d20ee8a0fe577226'), ObjectId('687a5db2d20ee8a0fe577227'), ObjectId('687a5db2d20ee8a0fe577228'), ObjectId('687a5db2d20ee8a0fe577229'), ObjectId('687a5db2d20ee8a0fe57722a'), ObjectId('687a5db2d20ee8a0fe57722b'), ObjectId('687a5db2d20ee8a0fe57722c'), ObjectId('687a5db2d20ee8a0fe57722d'), ObjectId('687a5db2d20ee8a0fe57722e'), ObjectId('687a5db2d20ee8a0fe57722f'), ObjectId('687a5db2d20ee8a0fe577230'), ObjectId('687a5db2d20ee8a0fe577231'), ObjectId('687a5db2d20ee8a0fe577232'), ObjectId('687a5db2d20ee8a0fe577233'), ObjectId('687a5db2d20ee8a0fe577234'), ObjectId('687a5db2d20ee8a0fe577235'), ObjectId('687a5db2d20ee8a0fe577236'), ObjectId('687a5db2d20ee8a0fe577237'), ObjectId('687a5db2d20ee8a0fe577238'), ObjectId('687a5db2d20ee8a0fe577239'), ObjectId('687a5db2d20ee8a0fe57723a'), ObjectId('687a5db2d20ee8a0fe57723b'), ObjectId('687a5db2d20ee8a0fe57723c'), ObjectId('687a5db2d20ee8a0fe57723d'), ObjectId('687a5db2d20ee8a0fe57723e'), ObjectId('687a5db2d20ee8a0fe57723f'), ObjectId('687a5db2d20ee8a0fe577240'), ObjectId('687a5db2d20ee8a0fe577241'), ObjectId('687a5db2d20ee8a0fe577242'), ObjectId('687a5db2d20ee8a0fe577243'), ObjectId('687a5db2d20ee8a0fe577244'), ObjectId('687a5db2d20ee8a0fe577245'), ObjectId('687a5db2d20ee8a0fe577246'), ObjectId('687a5db2d20ee8a0fe577247'), ObjectId('687a5db2d20ee8a0fe577248'), ObjectId('687a5db2d20ee8a0fe577249'), ObjectId('687a5db2d20ee8a0fe57724a'), ObjectId('687a5db2d20ee8a0fe57724b'), ObjectId('687a5db2d20ee8a0fe57724c'), ObjectId('687a5db2d20ee8a0fe57724d'), ObjectId('687a5db2d20ee8a0fe57724e'), ObjectId('687a5db2d20ee8a0fe57724f'), ObjectId('687a5db2d20ee8a0fe577250'), ObjectId('687a5db2d20ee8a0fe577251'), ObjectId('687a5db2d20ee8a0fe577252'), ObjectId('687a5db2d20ee8a0fe577253'), ObjectId('687a5db2d20ee8a0fe577254'), ObjectId('687a5db2d20ee8a0fe577255'), ObjectId('687a5db2d20ee8a0fe577256'), ObjectId('687a5db2d20ee8a0fe577257'), ObjectId('687a5db2d20ee8a0fe577258'), ObjectId('687a5db2d20ee8a0fe577259'), ObjectId('687a5db2d20ee8a0fe57725a'), ObjectId('687a5db2d20ee8a0fe57725b'), ObjectId('687a5db2d20ee8a0fe57725c'), ObjectId('687a5db2d20ee8a0fe57725d'), ObjectId('687a5db2d20ee8a0fe57725e'), ObjectId('687a5db2d20ee8a0fe57725f'), ObjectId('687a5db2d20ee8a0fe577260'), ObjectId('687a5db2d20ee8a0fe577261'), ObjectId('687a5db2d20ee8a0fe577262'), ObjectId('687a5db2d20ee8a0fe577263'), ObjectId('687a5db2d20ee8a0fe577264'), ObjectId('687a5db2d20ee8a0fe577265'), ObjectId('687a5db2d20ee8a0fe577266'), ObjectId('687a5db2d20ee8a0fe577267'), ObjectId('687a5db2d20ee8a0fe577268'), ObjectId('687a5db2d20ee8a0fe577269'), ObjectId('687a5db2d20ee8a0fe57726a'), ObjectId('687a5db2d20ee8a0fe57726b'), ObjectId('687a5db2d20ee8a0fe57726c'), ObjectId('687a5db2d20ee8a0fe57726d'), ObjectId('687a5db2d20ee8a0fe57726e'), ObjectId('687a5db2d20ee8a0fe57726f'), ObjectId('687a5db2d20ee8a0fe577270'), ObjectId('687a5db2d20ee8a0fe577271'), ObjectId('687a5db2d20ee8a0fe577272'), ObjectId('687a5db2d20ee8a0fe577273'), ObjectId('687a5db2d20ee8a0fe577274'), ObjectId('687a5db2d20ee8a0fe577275'), ObjectId('687a5db2d20ee8a0fe577276'), ObjectId('687a5db2d20ee8a0fe577277'), ObjectId('687a5db2d20ee8a0fe577278'), ObjectId('687a5db2d20ee8a0fe577279'), ObjectId('687a5db2d20ee8a0fe57727a'), ObjectId('687a5db2d20ee8a0fe57727b'), ObjectId('687a5db2d20ee8a0fe57727c'), ObjectId('687a5db2d20ee8a0fe57727d'), ObjectId('687a5db2d20ee8a0fe57727e'), ObjectId('687a5db2d20ee8a0fe57727f'), ObjectId('687a5db2d20ee8a0fe577280'), ObjectId('687a5db2d20ee8a0fe577281'), ObjectId('687a5db2d20ee8a0fe577282'), ObjectId('687a5db2d20ee8a0fe577283'), ObjectId('687a5db2d20ee8a0fe577284'), ObjectId('687a5db2d20ee8a0fe577285'), ObjectId('687a5db2d20ee8a0fe577286'), ObjectId('687a5db2d20ee8a0fe577287'), ObjectId('687a5db2d20ee8a0fe577288'), ObjectId('687a5db2d20ee8a0fe577289'), ObjectId('687a5db2d20ee8a0fe57728a'), ObjectId('687a5db2d20ee8a0fe57728b'), ObjectId('687a5db2d20ee8a0fe57728c'), ObjectId('687a5db2d20ee8a0fe57728d'), ObjectId('687a5db2d20ee8a0fe57728e'), ObjectId('687a5db2d20ee8a0fe57728f'), ObjectId('687a5db2d20ee8a0fe577290'), ObjectId('687a5db2d20ee8a0fe577291'), ObjectId('687a5db2d20ee8a0fe577292'), ObjectId('687a5db2d20ee8a0fe577293'), ObjectId('687a5db2d20ee8a0fe577294'), ObjectId('687a5db2d20ee8a0fe577295'), ObjectId('687a5db2d20ee8a0fe577296'), ObjectId('687a5db2d20ee8a0fe577297'), ObjectId('687a5db2d20ee8a0fe577298'), ObjectId('687a5db2d20ee8a0fe577299'), ObjectId('687a5db2d20ee8a0fe57729a'), ObjectId('687a5db2d20ee8a0fe57729b'), ObjectId('687a5db2d20ee8a0fe57729c'), ObjectId('687a5db2d20ee8a0fe57729d'), ObjectId('687a5db2d20ee8a0fe57729e'), ObjectId('687a5db2d20ee8a0fe57729f'), ObjectId('687a5db2d20ee8a0fe5772a0'), ObjectId('687a5db2d20ee8a0fe5772a1'), ObjectId('687a5db2d20ee8a0fe5772a2'), ObjectId('687a5db2d20ee8a0fe5772a3'), ObjectId('687a5db2d20ee8a0fe5772a4'), ObjectId('687a5db2d20ee8a0fe5772a5'), ObjectId('687a5db2d20ee8a0fe5772a6'), ObjectId('687a5db2d20ee8a0fe5772a7'), ObjectId('687a5db2d20ee8a0fe5772a8'), ObjectId('687a5db2d20ee8a0fe5772a9'), ObjectId('687a5db2d20ee8a0fe5772aa'), ObjectId('687a5db2d20ee8a0fe5772ab'), ObjectId('687a5db2d20ee8a0fe5772ac'), ObjectId('687a5db2d20ee8a0fe5772ad'), ObjectId('687a5db2d20ee8a0fe5772ae'), ObjectId('687a5db2d20ee8a0fe5772af'), ObjectId('687a5db2d20ee8a0fe5772b0'), ObjectId('687a5db2d20ee8a0fe5772b1'), ObjectId('687a5db2d20ee8a0fe5772b2'), ObjectId('687a5db2d20ee8a0fe5772b3'), ObjectId('687a5db2d20ee8a0fe5772b4'), ObjectId('687a5db2d20ee8a0fe5772b5'), ObjectId('687a5db2d20ee8a0fe5772b6'), ObjectId('687a5db2d20ee8a0fe5772b7'), ObjectId('687a5db2d20ee8a0fe5772b8'), ObjectId('687a5db2d20ee8a0fe5772b9'), ObjectId('687a5db2d20ee8a0fe5772ba'), ObjectId('687a5db2d20ee8a0fe5772bb'), ObjectId('687a5db2d20ee8a0fe5772bc'), ObjectId('687a5db2d20ee8a0fe5772bd'), ObjectId('687a5db2d20ee8a0fe5772be'), ObjectId('687a5db2d20ee8a0fe5772bf'), ObjectId('687a5db2d20ee8a0fe5772c0'), ObjectId('687a5db2d20ee8a0fe5772c1'), ObjectId('687a5db2d20ee8a0fe5772c2'), ObjectId('687a5db2d20ee8a0fe5772c3'), ObjectId('687a5db2d20ee8a0fe5772c4'), ObjectId('687a5db2d20ee8a0fe5772c5'), ObjectId('687a5db2d20ee8a0fe5772c6'), ObjectId('687a5db2d20ee8a0fe5772c7'), ObjectId('687a5db2d20ee8a0fe5772c8'), ObjectId('687a5db2d20ee8a0fe5772c9'), ObjectId('687a5db2d20ee8a0fe5772ca'), ObjectId('687a5db2d20ee8a0fe5772cb'), ObjectId('687a5db2d20ee8a0fe5772cc'), ObjectId('687a5db2d20ee8a0fe5772cd'), ObjectId('687a5db2d20ee8a0fe5772ce'), ObjectId('687a5db2d20ee8a0fe5772cf'), ObjectId('687a5db2d20ee8a0fe5772d0'), ObjectId('687a5db2d20ee8a0fe5772d1'), ObjectId('687a5db2d20ee8a0fe5772d2'), ObjectId('687a5db2d20ee8a0fe5772d3'), ObjectId('687a5db2d20ee8a0fe5772d4'), ObjectId('687a5db2d20ee8a0fe5772d5'), ObjectId('687a5db2d20ee8a0fe5772d6'), ObjectId('687a5db2d20ee8a0fe5772d7'), ObjectId('687a5db2d20ee8a0fe5772d8'), ObjectId('687a5db2d20ee8a0fe5772d9'), ObjectId('687a5db2d20ee8a0fe5772da'), ObjectId('687a5db2d20ee8a0fe5772db'), ObjectId('687a5db2d20ee8a0fe5772dc'), ObjectId('687a5db2d20ee8a0fe5772dd'), ObjectId('687a5db2d20ee8a0fe5772de'), ObjectId('687a5db2d20ee8a0fe5772df'), ObjectId('687a5db2d20ee8a0fe5772e0'), ObjectId('687a5db2d20ee8a0fe5772e1'), ObjectId('687a5db2d20ee8a0fe5772e2'), ObjectId('687a5db2d20ee8a0fe5772e3'), ObjectId('687a5db2d20ee8a0fe5772e4'), ObjectId('687a5db2d20ee8a0fe5772e5'), ObjectId('687a5db2d20ee8a0fe5772e6'), ObjectId('687a5db2d20ee8a0fe5772e7'), ObjectId('687a5db2d20ee8a0fe5772e8'), ObjectId('687a5db2d20ee8a0fe5772e9'), ObjectId('687a5db2d20ee8a0fe5772ea'), ObjectId('687a5db2d20ee8a0fe5772eb'), ObjectId('687a5db2d20ee8a0fe5772ec'), ObjectId('687a5db2d20ee8a0fe5772ed'), ObjectId('687a5db2d20ee8a0fe5772ee'), ObjectId('687a5db2d20ee8a0fe5772ef'), ObjectId('687a5db2d20ee8a0fe5772f0'), ObjectId('687a5db2d20ee8a0fe5772f1'), ObjectId('687a5db2d20ee8a0fe5772f2'), ObjectId('687a5db2d20ee8a0fe5772f3'), ObjectId('687a5db2d20ee8a0fe5772f4'), ObjectId('687a5db2d20ee8a0fe5772f5'), ObjectId('687a5db2d20ee8a0fe5772f6'), ObjectId('687a5db2d20ee8a0fe5772f7'), ObjectId('687a5db2d20ee8a0fe5772f8'), ObjectId('687a5db2d20ee8a0fe5772f9'), ObjectId('687a5db2d20ee8a0fe5772fa'), ObjectId('687a5db2d20ee8a0fe5772fb'), ObjectId('687a5db2d20ee8a0fe5772fc'), ObjectId('687a5db2d20ee8a0fe5772fd'), ObjectId('687a5db2d20ee8a0fe5772fe'), ObjectId('687a5db2d20ee8a0fe5772ff'), ObjectId('687a5db2d20ee8a0fe577300'), ObjectId('687a5db2d20ee8a0fe577301'), ObjectId('687a5db2d20ee8a0fe577302'), ObjectId('687a5db2d20ee8a0fe577303'), ObjectId('687a5db2d20ee8a0fe577304'), ObjectId('687a5db2d20ee8a0fe577305'), ObjectId('687a5db2d20ee8a0fe577306'), ObjectId('687a5db2d20ee8a0fe577307'), ObjectId('687a5db2d20ee8a0fe577308'), ObjectId('687a5db2d20ee8a0fe577309'), ObjectId('687a5db2d20ee8a0fe57730a'), ObjectId('687a5db2d20ee8a0fe57730b'), ObjectId('687a5db2d20ee8a0fe57730c'), ObjectId('687a5db2d20ee8a0fe57730d'), ObjectId('687a5db2d20ee8a0fe57730e'), ObjectId('687a5db2d20ee8a0fe57730f'), ObjectId('687a5db2d20ee8a0fe577310'), ObjectId('687a5db2d20ee8a0fe577311'), ObjectId('687a5db2d20ee8a0fe577312'), ObjectId('687a5db2d20ee8a0fe577313'), ObjectId('687a5db2d20ee8a0fe577314'), ObjectId('687a5db2d20ee8a0fe577315'), ObjectId('687a5db2d20ee8a0fe577316'), ObjectId('687a5db2d20ee8a0fe577317'), ObjectId('687a5db2d20ee8a0fe577318'), ObjectId('687a5db2d20ee8a0fe577319'), ObjectId('687a5db2d20ee8a0fe57731a'), ObjectId('687a5db2d20ee8a0fe57731b'), ObjectId('687a5db2d20ee8a0fe57731c'), ObjectId('687a5db2d20ee8a0fe57731d'), ObjectId('687a5db2d20ee8a0fe57731e'), ObjectId('687a5db2d20ee8a0fe57731f'), ObjectId('687a5db2d20ee8a0fe577320'), ObjectId('687a5db2d20ee8a0fe577321'), ObjectId('687a5db2d20ee8a0fe577322'), ObjectId('687a5db2d20ee8a0fe577323'), ObjectId('687a5db2d20ee8a0fe577324'), ObjectId('687a5db2d20ee8a0fe577325'), ObjectId('687a5db2d20ee8a0fe577326'), ObjectId('687a5db2d20ee8a0fe577327'), ObjectId('687a5db2d20ee8a0fe577328'), ObjectId('687a5db2d20ee8a0fe577329'), ObjectId('687a5db2d20ee8a0fe57732a'), ObjectId('687a5db2d20ee8a0fe57732b'), ObjectId('687a5db2d20ee8a0fe57732c'), ObjectId('687a5db2d20ee8a0fe57732d'), ObjectId('687a5db2d20ee8a0fe57732e'), ObjectId('687a5db2d20ee8a0fe57732f'), ObjectId('687a5db2d20ee8a0fe577330'), ObjectId('687a5db2d20ee8a0fe577331'), ObjectId('687a5db2d20ee8a0fe577332'), ObjectId('687a5db2d20ee8a0fe577333'), ObjectId('687a5db2d20ee8a0fe577334'), ObjectId('687a5db2d20ee8a0fe577335'), ObjectId('687a5db2d20ee8a0fe577336'), ObjectId('687a5db2d20ee8a0fe577337'), ObjectId('687a5db2d20ee8a0fe577338'), ObjectId('687a5db2d20ee8a0fe577339'), ObjectId('687a5db2d20ee8a0fe57733a'), ObjectId('687a5db2d20ee8a0fe57733b'), ObjectId('687a5db2d20ee8a0fe57733c'), ObjectId('687a5db2d20ee8a0fe57733d'), ObjectId('687a5db2d20ee8a0fe57733e'), ObjectId('687a5db2d20ee8a0fe57733f'), ObjectId('687a5db2d20ee8a0fe577340'), ObjectId('687a5db2d20ee8a0fe577341'), ObjectId('687a5db2d20ee8a0fe577342'), ObjectId('687a5db2d20ee8a0fe577343'), ObjectId('687a5db2d20ee8a0fe577344'), ObjectId('687a5db2d20ee8a0fe577345'), ObjectId('687a5db2d20ee8a0fe577346'), ObjectId('687a5db2d20ee8a0fe577347'), ObjectId('687a5db2d20ee8a0fe577348'), ObjectId('687a5db2d20ee8a0fe577349'), ObjectId('687a5db2d20ee8a0fe57734a'), ObjectId('687a5db2d20ee8a0fe57734b'), ObjectId('687a5db2d20ee8a0fe57734c'), ObjectId('687a5db2d20ee8a0fe57734d'), ObjectId('687a5db2d20ee8a0fe57734e'), ObjectId('687a5db2d20ee8a0fe57734f'), ObjectId('687a5db2d20ee8a0fe577350'), ObjectId('687a5db2d20ee8a0fe577351'), ObjectId('687a5db2d20ee8a0fe577352'), ObjectId('687a5db2d20ee8a0fe577353'), ObjectId('687a5db2d20ee8a0fe577354'), ObjectId('687a5db2d20ee8a0fe577355'), ObjectId('687a5db2d20ee8a0fe577356'), ObjectId('687a5db2d20ee8a0fe577357'), ObjectId('687a5db2d20ee8a0fe577358'), ObjectId('687a5db2d20ee8a0fe577359'), ObjectId('687a5db2d20ee8a0fe57735a'), ObjectId('687a5db2d20ee8a0fe57735b'), ObjectId('687a5db2d20ee8a0fe57735c'), ObjectId('687a5db2d20ee8a0fe57735d'), ObjectId('687a5db2d20ee8a0fe57735e'), ObjectId('687a5db2d20ee8a0fe57735f'), ObjectId('687a5db2d20ee8a0fe577360'), ObjectId('687a5db2d20ee8a0fe577361'), ObjectId('687a5db2d20ee8a0fe577362'), ObjectId('687a5db2d20ee8a0fe577363'), ObjectId('687a5db2d20ee8a0fe577364'), ObjectId('687a5db2d20ee8a0fe577365'), ObjectId('687a5db2d20ee8a0fe577366'), ObjectId('687a5db2d20ee8a0fe577367'), ObjectId('687a5db2d20ee8a0fe577368'), ObjectId('687a5db2d20ee8a0fe577369'), ObjectId('687a5db2d20ee8a0fe57736a'), ObjectId('687a5db2d20ee8a0fe57736b'), ObjectId('687a5db2d20ee8a0fe57736c'), ObjectId('687a5db2d20ee8a0fe57736d'), ObjectId('687a5db2d20ee8a0fe57736e'), ObjectId('687a5db2d20ee8a0fe57736f'), ObjectId('687a5db2d20ee8a0fe577370'), ObjectId('687a5db2d20ee8a0fe577371'), ObjectId('687a5db2d20ee8a0fe577372'), ObjectId('687a5db2d20ee8a0fe577373'), ObjectId('687a5db2d20ee8a0fe577374'), ObjectId('687a5db2d20ee8a0fe577375'), ObjectId('687a5db2d20ee8a0fe577376'), ObjectId('687a5db2d20ee8a0fe577377'), ObjectId('687a5db2d20ee8a0fe577378'), ObjectId('687a5db2d20ee8a0fe577379'), ObjectId('687a5db2d20ee8a0fe57737a'), ObjectId('687a5db2d20ee8a0fe57737b'), ObjectId('687a5db2d20ee8a0fe57737c'), ObjectId('687a5db2d20ee8a0fe57737d'), ObjectId('687a5db2d20ee8a0fe57737e'), ObjectId('687a5db2d20ee8a0fe57737f'), ObjectId('687a5db2d20ee8a0fe577380'), ObjectId('687a5db2d20ee8a0fe577381'), ObjectId('687a5db2d20ee8a0fe577382'), ObjectId('687a5db2d20ee8a0fe577383'), ObjectId('687a5db2d20ee8a0fe577384'), ObjectId('687a5db2d20ee8a0fe577385'), ObjectId('687a5db2d20ee8a0fe577386'), ObjectId('687a5db2d20ee8a0fe577387'), ObjectId('687a5db2d20ee8a0fe577388'), ObjectId('687a5db2d20ee8a0fe577389'), ObjectId('687a5db2d20ee8a0fe57738a'), ObjectId('687a5db2d20ee8a0fe57738b'), ObjectId('687a5db2d20ee8a0fe57738c'), ObjectId('687a5db2d20ee8a0fe57738d'), ObjectId('687a5db2d20ee8a0fe57738e'), ObjectId('687a5db2d20ee8a0fe57738f'), ObjectId('687a5db2d20ee8a0fe577390'), ObjectId('687a5db2d20ee8a0fe577391'), ObjectId('687a5db2d20ee8a0fe577392'), ObjectId('687a5db2d20ee8a0fe577393'), ObjectId('687a5db2d20ee8a0fe577394'), ObjectId('687a5db2d20ee8a0fe577395'), ObjectId('687a5db2d20ee8a0fe577396'), ObjectId('687a5db2d20ee8a0fe577397'), ObjectId('687a5db2d20ee8a0fe577398'), ObjectId('687a5db2d20ee8a0fe577399'), ObjectId('687a5db2d20ee8a0fe57739a'), ObjectId('687a5db2d20ee8a0fe57739b'), ObjectId('687a5db2d20ee8a0fe57739c'), ObjectId('687a5db2d20ee8a0fe57739d'), ObjectId('687a5db2d20ee8a0fe57739e'), ObjectId('687a5db2d20ee8a0fe57739f'), ObjectId('687a5db2d20ee8a0fe5773a0'), ObjectId('687a5db2d20ee8a0fe5773a1'), ObjectId('687a5db2d20ee8a0fe5773a2'), ObjectId('687a5db2d20ee8a0fe5773a3'), ObjectId('687a5db2d20ee8a0fe5773a4'), ObjectId('687a5db2d20ee8a0fe5773a5'), ObjectId('687a5db2d20ee8a0fe5773a6'), ObjectId('687a5db2d20ee8a0fe5773a7'), ObjectId('687a5db2d20ee8a0fe5773a8'), ObjectId('687a5db2d20ee8a0fe5773a9'), ObjectId('687a5db2d20ee8a0fe5773aa'), ObjectId('687a5db2d20ee8a0fe5773ab'), ObjectId('687a5db2d20ee8a0fe5773ac'), ObjectId('687a5db2d20ee8a0fe5773ad'), ObjectId('687a5db2d20ee8a0fe5773ae'), ObjectId('687a5db2d20ee8a0fe5773af'), ObjectId('687a5db2d20ee8a0fe5773b0'), ObjectId('687a5db2d20ee8a0fe5773b1'), ObjectId('687a5db2d20ee8a0fe5773b2'), ObjectId('687a5db2d20ee8a0fe5773b3'), ObjectId('687a5db2d20ee8a0fe5773b4'), ObjectId('687a5db2d20ee8a0fe5773b5'), ObjectId('687a5db2d20ee8a0fe5773b6'), ObjectId('687a5db2d20ee8a0fe5773b7'), ObjectId('687a5db2d20ee8a0fe5773b8'), ObjectId('687a5db2d20ee8a0fe5773b9'), ObjectId('687a5db2d20ee8a0fe5773ba'), ObjectId('687a5db2d20ee8a0fe5773bb'), ObjectId('687a5db2d20ee8a0fe5773bc'), ObjectId('687a5db2d20ee8a0fe5773bd'), ObjectId('687a5db2d20ee8a0fe5773be'), ObjectId('687a5db2d20ee8a0fe5773bf'), ObjectId('687a5db2d20ee8a0fe5773c0'), ObjectId('687a5db2d20ee8a0fe5773c1'), ObjectId('687a5db2d20ee8a0fe5773c2'), ObjectId('687a5db2d20ee8a0fe5773c3'), ObjectId('687a5db2d20ee8a0fe5773c4'), ObjectId('687a5db2d20ee8a0fe5773c5'), ObjectId('687a5db2d20ee8a0fe5773c6'), ObjectId('687a5db2d20ee8a0fe5773c7'), ObjectId('687a5db2d20ee8a0fe5773c8'), ObjectId('687a5db2d20ee8a0fe5773c9'), ObjectId('687a5db2d20ee8a0fe5773ca'), ObjectId('687a5db2d20ee8a0fe5773cb'), ObjectId('687a5db2d20ee8a0fe5773cc'), ObjectId('687a5db2d20ee8a0fe5773cd'), ObjectId('687a5db2d20ee8a0fe5773ce'), ObjectId('687a5db2d20ee8a0fe5773cf'), ObjectId('687a5db2d20ee8a0fe5773d0'), ObjectId('687a5db2d20ee8a0fe5773d1'), ObjectId('687a5db2d20ee8a0fe5773d2'), ObjectId('687a5db2d20ee8a0fe5773d3'), ObjectId('687a5db2d20ee8a0fe5773d4'), ObjectId('687a5db2d20ee8a0fe5773d5'), ObjectId('687a5db2d20ee8a0fe5773d6'), ObjectId('687a5db2d20ee8a0fe5773d7'), ObjectId('687a5db2d20ee8a0fe5773d8'), ObjectId('687a5db2d20ee8a0fe5773d9'), ObjectId('687a5db2d20ee8a0fe5773da'), ObjectId('687a5db2d20ee8a0fe5773db'), ObjectId('687a5db2d20ee8a0fe5773dc'), ObjectId('687a5db2d20ee8a0fe5773dd'), ObjectId('687a5db2d20ee8a0fe5773de'), ObjectId('687a5db2d20ee8a0fe5773df'), ObjectId('687a5db2d20ee8a0fe5773e0'), ObjectId('687a5db2d20ee8a0fe5773e1'), ObjectId('687a5db2d20ee8a0fe5773e2'), ObjectId('687a5db2d20ee8a0fe5773e3'), ObjectId('687a5db2d20ee8a0fe5773e4'), ObjectId('687a5db2d20ee8a0fe5773e5'), ObjectId('687a5db2d20ee8a0fe5773e6'), ObjectId('687a5db2d20ee8a0fe5773e7'), ObjectId('687a5db2d20ee8a0fe5773e8'), ObjectId('687a5db2d20ee8a0fe5773e9'), ObjectId('687a5db2d20ee8a0fe5773ea'), ObjectId('687a5db2d20ee8a0fe5773eb'), ObjectId('687a5db2d20ee8a0fe5773ec'), ObjectId('687a5db2d20ee8a0fe5773ed'), ObjectId('687a5db2d20ee8a0fe5773ee'), ObjectId('687a5db2d20ee8a0fe5773ef'), ObjectId('687a5db2d20ee8a0fe5773f0'), ObjectId('687a5db2d20ee8a0fe5773f1'), ObjectId('687a5db2d20ee8a0fe5773f2'), ObjectId('687a5db2d20ee8a0fe5773f3'), ObjectId('687a5db2d20ee8a0fe5773f4'), ObjectId('687a5db2d20ee8a0fe5773f5'), ObjectId('687a5db2d20ee8a0fe5773f6'), ObjectId('687a5db2d20ee8a0fe5773f7'), ObjectId('687a5db2d20ee8a0fe5773f8'), ObjectId('687a5db2d20ee8a0fe5773f9'), ObjectId('687a5db2d20ee8a0fe5773fa'), ObjectId('687a5db2d20ee8a0fe5773fb'), ObjectId('687a5db2d20ee8a0fe5773fc'), ObjectId('687a5db2d20ee8a0fe5773fd'), ObjectId('687a5db2d20ee8a0fe5773fe'), ObjectId('687a5db2d20ee8a0fe5773ff'), ObjectId('687a5db2d20ee8a0fe577400'), ObjectId('687a5db2d20ee8a0fe577401'), ObjectId('687a5db2d20ee8a0fe577402'), ObjectId('687a5db2d20ee8a0fe577403'), ObjectId('687a5db2d20ee8a0fe577404'), ObjectId('687a5db2d20ee8a0fe577405'), ObjectId('687a5db2d20ee8a0fe577406'), ObjectId('687a5db2d20ee8a0fe577407'), ObjectId('687a5db2d20ee8a0fe577408'), ObjectId('687a5db2d20ee8a0fe577409'), ObjectId('687a5db2d20ee8a0fe57740a'), ObjectId('687a5db2d20ee8a0fe57740b'), ObjectId('687a5db2d20ee8a0fe57740c'), ObjectId('687a5db2d20ee8a0fe57740d'), ObjectId('687a5db2d20ee8a0fe57740e'), ObjectId('687a5db2d20ee8a0fe57740f'), ObjectId('687a5db2d20ee8a0fe577410'), ObjectId('687a5db2d20ee8a0fe577411'), ObjectId('687a5db2d20ee8a0fe577412'), ObjectId('687a5db2d20ee8a0fe577413'), ObjectId('687a5db2d20ee8a0fe577414'), ObjectId('687a5db2d20ee8a0fe577415'), ObjectId('687a5db2d20ee8a0fe577416'), ObjectId('687a5db2d20ee8a0fe577417'), ObjectId('687a5db2d20ee8a0fe577418'), ObjectId('687a5db2d20ee8a0fe577419'), ObjectId('687a5db2d20ee8a0fe57741a'), ObjectId('687a5db2d20ee8a0fe57741b'), ObjectId('687a5db2d20ee8a0fe57741c'), ObjectId('687a5db2d20ee8a0fe57741d'), ObjectId('687a5db2d20ee8a0fe57741e'), ObjectId('687a5db2d20ee8a0fe57741f'), ObjectId('687a5db2d20ee8a0fe577420'), ObjectId('687a5db2d20ee8a0fe577421'), ObjectId('687a5db2d20ee8a0fe577422'), ObjectId('687a5db2d20ee8a0fe577423'), ObjectId('687a5db2d20ee8a0fe577424'), ObjectId('687a5db2d20ee8a0fe577425'), ObjectId('687a5db2d20ee8a0fe577426'), ObjectId('687a5db2d20ee8a0fe577427'), ObjectId('687a5db2d20ee8a0fe577428'), ObjectId('687a5db2d20ee8a0fe577429'), ObjectId('687a5db2d20ee8a0fe57742a'), ObjectId('687a5db2d20ee8a0fe57742b'), ObjectId('687a5db2d20ee8a0fe57742c'), ObjectId('687a5db2d20ee8a0fe57742d'), ObjectId('687a5db2d20ee8a0fe57742e'), ObjectId('687a5db2d20ee8a0fe57742f'), ObjectId('687a5db2d20ee8a0fe577430'), ObjectId('687a5db2d20ee8a0fe577431'), ObjectId('687a5db2d20ee8a0fe577432'), ObjectId('687a5db2d20ee8a0fe577433'), ObjectId('687a5db2d20ee8a0fe577434'), ObjectId('687a5db2d20ee8a0fe577435'), ObjectId('687a5db2d20ee8a0fe577436'), ObjectId('687a5db2d20ee8a0fe577437'), ObjectId('687a5db2d20ee8a0fe577438'), ObjectId('687a5db2d20ee8a0fe577439'), ObjectId('687a5db2d20ee8a0fe57743a'), ObjectId('687a5db2d20ee8a0fe57743b'), ObjectId('687a5db2d20ee8a0fe57743c'), ObjectId('687a5db2d20ee8a0fe57743d'), ObjectId('687a5db2d20ee8a0fe57743e'), ObjectId('687a5db2d20ee8a0fe57743f'), ObjectId('687a5db2d20ee8a0fe577440'), ObjectId('687a5db2d20ee8a0fe577441'), ObjectId('687a5db2d20ee8a0fe577442'), ObjectId('687a5db2d20ee8a0fe577443'), ObjectId('687a5db2d20ee8a0fe577444'), ObjectId('687a5db2d20ee8a0fe577445'), ObjectId('687a5db2d20ee8a0fe577446'), ObjectId('687a5db2d20ee8a0fe577447'), ObjectId('687a5db2d20ee8a0fe577448'), ObjectId('687a5db2d20ee8a0fe577449'), ObjectId('687a5db2d20ee8a0fe57744a'), ObjectId('687a5db2d20ee8a0fe57744b'), ObjectId('687a5db2d20ee8a0fe57744c'), ObjectId('687a5db2d20ee8a0fe57744d'), ObjectId('687a5db2d20ee8a0fe57744e'), ObjectId('687a5db2d20ee8a0fe57744f'), ObjectId('687a5db2d20ee8a0fe577450'), ObjectId('687a5db2d20ee8a0fe577451'), ObjectId('687a5db2d20ee8a0fe577452'), ObjectId('687a5db2d20ee8a0fe577453'), ObjectId('687a5db2d20ee8a0fe577454'), ObjectId('687a5db2d20ee8a0fe577455'), ObjectId('687a5db2d20ee8a0fe577456'), ObjectId('687a5db2d20ee8a0fe577457'), ObjectId('687a5db2d20ee8a0fe577458'), ObjectId('687a5db2d20ee8a0fe577459'), ObjectId('687a5db2d20ee8a0fe57745a'), ObjectId('687a5db2d20ee8a0fe57745b'), ObjectId('687a5db2d20ee8a0fe57745c'), ObjectId('687a5db2d20ee8a0fe57745d'), ObjectId('687a5db2d20ee8a0fe57745e'), ObjectId('687a5db2d20ee8a0fe57745f'), ObjectId('687a5db2d20ee8a0fe577460'), ObjectId('687a5db2d20ee8a0fe577461'), ObjectId('687a5db2d20ee8a0fe577462'), ObjectId('687a5db2d20ee8a0fe577463'), ObjectId('687a5db2d20ee8a0fe577464'), ObjectId('687a5db2d20ee8a0fe577465'), ObjectId('687a5db2d20ee8a0fe577466'), ObjectId('687a5db2d20ee8a0fe577467'), ObjectId('687a5db2d20ee8a0fe577468'), ObjectId('687a5db2d20ee8a0fe577469'), ObjectId('687a5db2d20ee8a0fe57746a'), ObjectId('687a5db2d20ee8a0fe57746b'), ObjectId('687a5db2d20ee8a0fe57746c'), ObjectId('687a5db2d20ee8a0fe57746d'), ObjectId('687a5db2d20ee8a0fe57746e'), ObjectId('687a5db2d20ee8a0fe57746f'), ObjectId('687a5db2d20ee8a0fe577470'), ObjectId('687a5db2d20ee8a0fe577471'), ObjectId('687a5db2d20ee8a0fe577472'), ObjectId('687a5db2d20ee8a0fe577473'), ObjectId('687a5db2d20ee8a0fe577474'), ObjectId('687a5db2d20ee8a0fe577475'), ObjectId('687a5db2d20ee8a0fe577476'), ObjectId('687a5db2d20ee8a0fe577477'), ObjectId('687a5db2d20ee8a0fe577478'), ObjectId('687a5db2d20ee8a0fe577479'), ObjectId('687a5db2d20ee8a0fe57747a'), ObjectId('687a5db2d20ee8a0fe57747b'), ObjectId('687a5db2d20ee8a0fe57747c'), ObjectId('687a5db2d20ee8a0fe57747d'), ObjectId('687a5db2d20ee8a0fe57747e'), ObjectId('687a5db2d20ee8a0fe57747f'), ObjectId('687a5db2d20ee8a0fe577480'), ObjectId('687a5db2d20ee8a0fe577481'), ObjectId('687a5db2d20ee8a0fe577482'), ObjectId('687a5db2d20ee8a0fe577483'), ObjectId('687a5db2d20ee8a0fe577484'), ObjectId('687a5db2d20ee8a0fe577485'), ObjectId('687a5db2d20ee8a0fe577486'), ObjectId('687a5db2d20ee8a0fe577487'), ObjectId('687a5db2d20ee8a0fe577488'), ObjectId('687a5db2d20ee8a0fe577489'), ObjectId('687a5db2d20ee8a0fe57748a'), ObjectId('687a5db2d20ee8a0fe57748b'), ObjectId('687a5db2d20ee8a0fe57748c'), ObjectId('687a5db2d20ee8a0fe57748d'), ObjectId('687a5db2d20ee8a0fe57748e'), ObjectId('687a5db2d20ee8a0fe57748f'), ObjectId('687a5db2d20ee8a0fe577490'), ObjectId('687a5db2d20ee8a0fe577491'), ObjectId('687a5db2d20ee8a0fe577492'), ObjectId('687a5db2d20ee8a0fe577493'), ObjectId('687a5db2d20ee8a0fe577494'), ObjectId('687a5db2d20ee8a0fe577495'), ObjectId('687a5db2d20ee8a0fe577496'), ObjectId('687a5db2d20ee8a0fe577497'), ObjectId('687a5db2d20ee8a0fe577498'), ObjectId('687a5db2d20ee8a0fe577499'), ObjectId('687a5db2d20ee8a0fe57749a'), ObjectId('687a5db2d20ee8a0fe57749b'), ObjectId('687a5db2d20ee8a0fe57749c'), ObjectId('687a5db2d20ee8a0fe57749d'), ObjectId('687a5db2d20ee8a0fe57749e'), ObjectId('687a5db2d20ee8a0fe57749f'), ObjectId('687a5db2d20ee8a0fe5774a0'), ObjectId('687a5db2d20ee8a0fe5774a1'), ObjectId('687a5db2d20ee8a0fe5774a2'), ObjectId('687a5db2d20ee8a0fe5774a3'), ObjectId('687a5db2d20ee8a0fe5774a4'), ObjectId('687a5db2d20ee8a0fe5774a5'), ObjectId('687a5db2d20ee8a0fe5774a6'), ObjectId('687a5db2d20ee8a0fe5774a7'), ObjectId('687a5db2d20ee8a0fe5774a8'), ObjectId('687a5db2d20ee8a0fe5774a9'), ObjectId('687a5db2d20ee8a0fe5774aa'), ObjectId('687a5db2d20ee8a0fe5774ab'), ObjectId('687a5db2d20ee8a0fe5774ac'), ObjectId('687a5db2d20ee8a0fe5774ad'), ObjectId('687a5db2d20ee8a0fe5774ae'), ObjectId('687a5db2d20ee8a0fe5774af'), ObjectId('687a5db2d20ee8a0fe5774b0'), ObjectId('687a5db2d20ee8a0fe5774b1'), ObjectId('687a5db2d20ee8a0fe5774b2'), ObjectId('687a5db2d20ee8a0fe5774b3'), ObjectId('687a5db2d20ee8a0fe5774b4'), ObjectId('687a5db2d20ee8a0fe5774b5'), ObjectId('687a5db2d20ee8a0fe5774b6'), ObjectId('687a5db2d20ee8a0fe5774b7'), ObjectId('687a5db2d20ee8a0fe5774b8'), ObjectId('687a5db2d20ee8a0fe5774b9'), ObjectId('687a5db2d20ee8a0fe5774ba'), ObjectId('687a5db2d20ee8a0fe5774bb'), ObjectId('687a5db2d20ee8a0fe5774bc'), ObjectId('687a5db2d20ee8a0fe5774bd'), ObjectId('687a5db2d20ee8a0fe5774be'), ObjectId('687a5db2d20ee8a0fe5774bf'), ObjectId('687a5db2d20ee8a0fe5774c0'), ObjectId('687a5db2d20ee8a0fe5774c1'), ObjectId('687a5db2d20ee8a0fe5774c2'), ObjectId('687a5db2d20ee8a0fe5774c3'), ObjectId('687a5db2d20ee8a0fe5774c4'), ObjectId('687a5db2d20ee8a0fe5774c5'), ObjectId('687a5db2d20ee8a0fe5774c6'), ObjectId('687a5db2d20ee8a0fe5774c7'), ObjectId('687a5db2d20ee8a0fe5774c8'), ObjectId('687a5db2d20ee8a0fe5774c9'), ObjectId('687a5db2d20ee8a0fe5774ca'), ObjectId('687a5db2d20ee8a0fe5774cb'), ObjectId('687a5db2d20ee8a0fe5774cc'), ObjectId('687a5db2d20ee8a0fe5774cd'), ObjectId('687a5db2d20ee8a0fe5774ce'), ObjectId('687a5db2d20ee8a0fe5774cf'), ObjectId('687a5db2d20ee8a0fe5774d0'), ObjectId('687a5db2d20ee8a0fe5774d1'), ObjectId('687a5db2d20ee8a0fe5774d2'), ObjectId('687a5db2d20ee8a0fe5774d3'), ObjectId('687a5db2d20ee8a0fe5774d4'), ObjectId('687a5db2d20ee8a0fe5774d5'), ObjectId('687a5db2d20ee8a0fe5774d6'), ObjectId('687a5db2d20ee8a0fe5774d7'), ObjectId('687a5db2d20ee8a0fe5774d8'), ObjectId('687a5db2d20ee8a0fe5774d9'), ObjectId('687a5db2d20ee8a0fe5774da'), ObjectId('687a5db2d20ee8a0fe5774db'), ObjectId('687a5db2d20ee8a0fe5774dc'), ObjectId('687a5db2d20ee8a0fe5774dd'), ObjectId('687a5db2d20ee8a0fe5774de'), ObjectId('687a5db2d20ee8a0fe5774df'), ObjectId('687a5db2d20ee8a0fe5774e0'), ObjectId('687a5db2d20ee8a0fe5774e1'), ObjectId('687a5db2d20ee8a0fe5774e2'), ObjectId('687a5db2d20ee8a0fe5774e3'), ObjectId('687a5db2d20ee8a0fe5774e4'), ObjectId('687a5db2d20ee8a0fe5774e5'), ObjectId('687a5db2d20ee8a0fe5774e6'), ObjectId('687a5db2d20ee8a0fe5774e7'), ObjectId('687a5db2d20ee8a0fe5774e8'), ObjectId('687a5db2d20ee8a0fe5774e9'), ObjectId('687a5db2d20ee8a0fe5774ea'), ObjectId('687a5db2d20ee8a0fe5774eb'), ObjectId('687a5db2d20ee8a0fe5774ec'), ObjectId('687a5db2d20ee8a0fe5774ed'), ObjectId('687a5db2d20ee8a0fe5774ee'), ObjectId('687a5db2d20ee8a0fe5774ef'), ObjectId('687a5db2d20ee8a0fe5774f0'), ObjectId('687a5db2d20ee8a0fe5774f1'), ObjectId('687a5db2d20ee8a0fe5774f2'), ObjectId('687a5db2d20ee8a0fe5774f3'), ObjectId('687a5db2d20ee8a0fe5774f4'), ObjectId('687a5db2d20ee8a0fe5774f5'), ObjectId('687a5db2d20ee8a0fe5774f6'), ObjectId('687a5db2d20ee8a0fe5774f7'), ObjectId('687a5db2d20ee8a0fe5774f8'), ObjectId('687a5db2d20ee8a0fe5774f9'), ObjectId('687a5db2d20ee8a0fe5774fa'), ObjectId('687a5db2d20ee8a0fe5774fb'), ObjectId('687a5db2d20ee8a0fe5774fc'), ObjectId('687a5db2d20ee8a0fe5774fd'), ObjectId('687a5db2d20ee8a0fe5774fe'), ObjectId('687a5db2d20ee8a0fe5774ff'), ObjectId('687a5db2d20ee8a0fe577500'), ObjectId('687a5db2d20ee8a0fe577501'), ObjectId('687a5db2d20ee8a0fe577502'), ObjectId('687a5db2d20ee8a0fe577503'), ObjectId('687a5db2d20ee8a0fe577504'), ObjectId('687a5db2d20ee8a0fe577505'), ObjectId('687a5db2d20ee8a0fe577506'), ObjectId('687a5db2d20ee8a0fe577507'), ObjectId('687a5db2d20ee8a0fe577508'), ObjectId('687a5db2d20ee8a0fe577509'), ObjectId('687a5db2d20ee8a0fe57750a'), ObjectId('687a5db2d20ee8a0fe57750b'), ObjectId('687a5db2d20ee8a0fe57750c'), ObjectId('687a5db2d20ee8a0fe57750d'), ObjectId('687a5db2d20ee8a0fe57750e'), ObjectId('687a5db2d20ee8a0fe57750f'), ObjectId('687a5db2d20ee8a0fe577510'), ObjectId('687a5db2d20ee8a0fe577511'), ObjectId('687a5db2d20ee8a0fe577512'), ObjectId('687a5db2d20ee8a0fe577513'), ObjectId('687a5db2d20ee8a0fe577514'), ObjectId('687a5db2d20ee8a0fe577515'), ObjectId('687a5db2d20ee8a0fe577516'), ObjectId('687a5db2d20ee8a0fe577517'), ObjectId('687a5db2d20ee8a0fe577518'), ObjectId('687a5db2d20ee8a0fe577519'), ObjectId('687a5db2d20ee8a0fe57751a'), ObjectId('687a5db2d20ee8a0fe57751b'), ObjectId('687a5db2d20ee8a0fe57751c'), ObjectId('687a5db2d20ee8a0fe57751d'), ObjectId('687a5db2d20ee8a0fe57751e'), ObjectId('687a5db2d20ee8a0fe57751f'), ObjectId('687a5db2d20ee8a0fe577520'), ObjectId('687a5db2d20ee8a0fe577521'), ObjectId('687a5db2d20ee8a0fe577522'), ObjectId('687a5db2d20ee8a0fe577523'), ObjectId('687a5db2d20ee8a0fe577524'), ObjectId('687a5db2d20ee8a0fe577525'), ObjectId('687a5db2d20ee8a0fe577526'), ObjectId('687a5db2d20ee8a0fe577527'), ObjectId('687a5db2d20ee8a0fe577528'), ObjectId('687a5db2d20ee8a0fe577529'), ObjectId('687a5db2d20ee8a0fe57752a'), ObjectId('687a5db2d20ee8a0fe57752b'), ObjectId('687a5db2d20ee8a0fe57752c'), ObjectId('687a5db2d20ee8a0fe57752d'), ObjectId('687a5db2d20ee8a0fe57752e'), ObjectId('687a5db2d20ee8a0fe57752f'), ObjectId('687a5db2d20ee8a0fe577530'), ObjectId('687a5db2d20ee8a0fe577531'), ObjectId('687a5db2d20ee8a0fe577532'), ObjectId('687a5db2d20ee8a0fe577533'), ObjectId('687a5db2d20ee8a0fe577534'), ObjectId('687a5db2d20ee8a0fe577535'), ObjectId('687a5db2d20ee8a0fe577536'), ObjectId('687a5db2d20ee8a0fe577537'), ObjectId('687a5db2d20ee8a0fe577538'), ObjectId('687a5db2d20ee8a0fe577539'), ObjectId('687a5db2d20ee8a0fe57753a'), ObjectId('687a5db2d20ee8a0fe57753b'), ObjectId('687a5db2d20ee8a0fe57753c'), ObjectId('687a5db2d20ee8a0fe57753d'), ObjectId('687a5db2d20ee8a0fe57753e'), ObjectId('687a5db2d20ee8a0fe57753f'), ObjectId('687a5db2d20ee8a0fe577540'), ObjectId('687a5db2d20ee8a0fe577541'), ObjectId('687a5db2d20ee8a0fe577542'), ObjectId('687a5db2d20ee8a0fe577543'), ObjectId('687a5db2d20ee8a0fe577544'), ObjectId('687a5db2d20ee8a0fe577545'), ObjectId('687a5db2d20ee8a0fe577546'), ObjectId('687a5db2d20ee8a0fe577547'), ObjectId('687a5db2d20ee8a0fe577548'), ObjectId('687a5db2d20ee8a0fe577549'), ObjectId('687a5db2d20ee8a0fe57754a'), ObjectId('687a5db2d20ee8a0fe57754b'), ObjectId('687a5db2d20ee8a0fe57754c'), ObjectId('687a5db2d20ee8a0fe57754d'), ObjectId('687a5db2d20ee8a0fe57754e'), ObjectId('687a5db2d20ee8a0fe57754f'), ObjectId('687a5db2d20ee8a0fe577550'), ObjectId('687a5db2d20ee8a0fe577551'), ObjectId('687a5db2d20ee8a0fe577552'), ObjectId('687a5db2d20ee8a0fe577553'), ObjectId('687a5db2d20ee8a0fe577554'), ObjectId('687a5db2d20ee8a0fe577555'), ObjectId('687a5db2d20ee8a0fe577556'), ObjectId('687a5db2d20ee8a0fe577557'), ObjectId('687a5db2d20ee8a0fe577558'), ObjectId('687a5db2d20ee8a0fe577559'), ObjectId('687a5db2d20ee8a0fe57755a'), ObjectId('687a5db2d20ee8a0fe57755b'), ObjectId('687a5db2d20ee8a0fe57755c'), ObjectId('687a5db2d20ee8a0fe57755d'), ObjectId('687a5db2d20ee8a0fe57755e'), ObjectId('687a5db2d20ee8a0fe57755f'), ObjectId('687a5db2d20ee8a0fe577560'), ObjectId('687a5db2d20ee8a0fe577561'), ObjectId('687a5db2d20ee8a0fe577562'), ObjectId('687a5db2d20ee8a0fe577563'), ObjectId('687a5db2d20ee8a0fe577564'), ObjectId('687a5db2d20ee8a0fe577565'), ObjectId('687a5db2d20ee8a0fe577566'), ObjectId('687a5db2d20ee8a0fe577567'), ObjectId('687a5db2d20ee8a0fe577568'), ObjectId('687a5db2d20ee8a0fe577569'), ObjectId('687a5db2d20ee8a0fe57756a'), ObjectId('687a5db2d20ee8a0fe57756b'), ObjectId('687a5db2d20ee8a0fe57756c'), ObjectId('687a5db2d20ee8a0fe57756d'), ObjectId('687a5db2d20ee8a0fe57756e'), ObjectId('687a5db2d20ee8a0fe57756f'), ObjectId('687a5db2d20ee8a0fe577570'), ObjectId('687a5db2d20ee8a0fe577571'), ObjectId('687a5db2d20ee8a0fe577572'), ObjectId('687a5db2d20ee8a0fe577573'), ObjectId('687a5db2d20ee8a0fe577574'), ObjectId('687a5db2d20ee8a0fe577575'), ObjectId('687a5db2d20ee8a0fe577576'), ObjectId('687a5db2d20ee8a0fe577577'), ObjectId('687a5db2d20ee8a0fe577578'), ObjectId('687a5db2d20ee8a0fe577579'), ObjectId('687a5db2d20ee8a0fe57757a'), ObjectId('687a5db2d20ee8a0fe57757b'), ObjectId('687a5db2d20ee8a0fe57757c'), ObjectId('687a5db2d20ee8a0fe57757d'), ObjectId('687a5db2d20ee8a0fe57757e'), ObjectId('687a5db2d20ee8a0fe57757f'), ObjectId('687a5db2d20ee8a0fe577580'), ObjectId('687a5db2d20ee8a0fe577581'), ObjectId('687a5db2d20ee8a0fe577582'), ObjectId('687a5db2d20ee8a0fe577583'), ObjectId('687a5db2d20ee8a0fe577584'), ObjectId('687a5db2d20ee8a0fe577585'), ObjectId('687a5db2d20ee8a0fe577586'), ObjectId('687a5db2d20ee8a0fe577587'), ObjectId('687a5db2d20ee8a0fe577588'), ObjectId('687a5db2d20ee8a0fe577589'), ObjectId('687a5db2d20ee8a0fe57758a'), ObjectId('687a5db2d20ee8a0fe57758b'), ObjectId('687a5db2d20ee8a0fe57758c'), ObjectId('687a5db2d20ee8a0fe57758d'), ObjectId('687a5db2d20ee8a0fe57758e'), ObjectId('687a5db2d20ee8a0fe57758f'), ObjectId('687a5db2d20ee8a0fe577590'), ObjectId('687a5db2d20ee8a0fe577591'), ObjectId('687a5db2d20ee8a0fe577592'), ObjectId('687a5db2d20ee8a0fe577593'), ObjectId('687a5db2d20ee8a0fe577594'), ObjectId('687a5db2d20ee8a0fe577595'), ObjectId('687a5db2d20ee8a0fe577596'), ObjectId('687a5db2d20ee8a0fe577597'), ObjectId('687a5db2d20ee8a0fe577598'), ObjectId('687a5db2d20ee8a0fe577599'), ObjectId('687a5db2d20ee8a0fe57759a'), ObjectId('687a5db2d20ee8a0fe57759b'), ObjectId('687a5db2d20ee8a0fe57759c'), ObjectId('687a5db2d20ee8a0fe57759d'), ObjectId('687a5db2d20ee8a0fe57759e'), ObjectId('687a5db2d20ee8a0fe57759f'), ObjectId('687a5db2d20ee8a0fe5775a0'), ObjectId('687a5db2d20ee8a0fe5775a1'), ObjectId('687a5db2d20ee8a0fe5775a2'), ObjectId('687a5db2d20ee8a0fe5775a3'), ObjectId('687a5db2d20ee8a0fe5775a4'), ObjectId('687a5db2d20ee8a0fe5775a5'), ObjectId('687a5db2d20ee8a0fe5775a6'), ObjectId('687a5db2d20ee8a0fe5775a7'), ObjectId('687a5db2d20ee8a0fe5775a8'), ObjectId('687a5db2d20ee8a0fe5775a9'), ObjectId('687a5db2d20ee8a0fe5775aa'), ObjectId('687a5db2d20ee8a0fe5775ab'), ObjectId('687a5db2d20ee8a0fe5775ac'), ObjectId('687a5db2d20ee8a0fe5775ad'), ObjectId('687a5db2d20ee8a0fe5775ae'), ObjectId('687a5db2d20ee8a0fe5775af'), ObjectId('687a5db2d20ee8a0fe5775b0'), ObjectId('687a5db2d20ee8a0fe5775b1'), ObjectId('687a5db2d20ee8a0fe5775b2'), ObjectId('687a5db2d20ee8a0fe5775b3'), ObjectId('687a5db2d20ee8a0fe5775b4'), ObjectId('687a5db2d20ee8a0fe5775b5'), ObjectId('687a5db2d20ee8a0fe5775b6'), ObjectId('687a5db2d20ee8a0fe5775b7'), ObjectId('687a5db2d20ee8a0fe5775b8'), ObjectId('687a5db2d20ee8a0fe5775b9'), ObjectId('687a5db2d20ee8a0fe5775ba'), ObjectId('687a5db2d20ee8a0fe5775bb'), ObjectId('687a5db2d20ee8a0fe5775bc'), ObjectId('687a5db2d20ee8a0fe5775bd'), ObjectId('687a5db2d20ee8a0fe5775be'), ObjectId('687a5db2d20ee8a0fe5775bf'), ObjectId('687a5db2d20ee8a0fe5775c0'), ObjectId('687a5db2d20ee8a0fe5775c1'), ObjectId('687a5db2d20ee8a0fe5775c2'), ObjectId('687a5db2d20ee8a0fe5775c3'), ObjectId('687a5db2d20ee8a0fe5775c4'), ObjectId('687a5db2d20ee8a0fe5775c5'), ObjectId('687a5db2d20ee8a0fe5775c6'), ObjectId('687a5db2d20ee8a0fe5775c7'), ObjectId('687a5db2d20ee8a0fe5775c8'), ObjectId('687a5db2d20ee8a0fe5775c9'), ObjectId('687a5db2d20ee8a0fe5775ca'), ObjectId('687a5db2d20ee8a0fe5775cb'), ObjectId('687a5db2d20ee8a0fe5775cc'), ObjectId('687a5db2d20ee8a0fe5775cd'), ObjectId('687a5db2d20ee8a0fe5775ce'), ObjectId('687a5db2d20ee8a0fe5775cf'), ObjectId('687a5db2d20ee8a0fe5775d0'), ObjectId('687a5db2d20ee8a0fe5775d1'), ObjectId('687a5db2d20ee8a0fe5775d2'), ObjectId('687a5db2d20ee8a0fe5775d3'), ObjectId('687a5db2d20ee8a0fe5775d4'), ObjectId('687a5db2d20ee8a0fe5775d5'), ObjectId('687a5db2d20ee8a0fe5775d6'), ObjectId('687a5db2d20ee8a0fe5775d7'), ObjectId('687a5db2d20ee8a0fe5775d8'), ObjectId('687a5db2d20ee8a0fe5775d9'), ObjectId('687a5db2d20ee8a0fe5775da'), ObjectId('687a5db2d20ee8a0fe5775db'), ObjectId('687a5db2d20ee8a0fe5775dc'), ObjectId('687a5db2d20ee8a0fe5775dd'), ObjectId('687a5db2d20ee8a0fe5775de'), ObjectId('687a5db2d20ee8a0fe5775df'), ObjectId('687a5db2d20ee8a0fe5775e0'), ObjectId('687a5db2d20ee8a0fe5775e1'), ObjectId('687a5db2d20ee8a0fe5775e2'), ObjectId('687a5db2d20ee8a0fe5775e3'), ObjectId('687a5db2d20ee8a0fe5775e4'), ObjectId('687a5db2d20ee8a0fe5775e5'), ObjectId('687a5db2d20ee8a0fe5775e6'), ObjectId('687a5db2d20ee8a0fe5775e7'), ObjectId('687a5db2d20ee8a0fe5775e8'), ObjectId('687a5db2d20ee8a0fe5775e9'), ObjectId('687a5db2d20ee8a0fe5775ea'), ObjectId('687a5db2d20ee8a0fe5775eb'), ObjectId('687a5db2d20ee8a0fe5775ec'), ObjectId('687a5db2d20ee8a0fe5775ed'), ObjectId('687a5db2d20ee8a0fe5775ee'), ObjectId('687a5db2d20ee8a0fe5775ef'), ObjectId('687a5db2d20ee8a0fe5775f0'), ObjectId('687a5db2d20ee8a0fe5775f1'), ObjectId('687a5db2d20ee8a0fe5775f2'), ObjectId('687a5db2d20ee8a0fe5775f3'), ObjectId('687a5db2d20ee8a0fe5775f4'), ObjectId('687a5db2d20ee8a0fe5775f5'), ObjectId('687a5db2d20ee8a0fe5775f6'), ObjectId('687a5db2d20ee8a0fe5775f7'), ObjectId('687a5db2d20ee8a0fe5775f8'), ObjectId('687a5db2d20ee8a0fe5775f9'), ObjectId('687a5db2d20ee8a0fe5775fa'), ObjectId('687a5db2d20ee8a0fe5775fb'), ObjectId('687a5db2d20ee8a0fe5775fc'), ObjectId('687a5db2d20ee8a0fe5775fd'), ObjectId('687a5db2d20ee8a0fe5775fe'), ObjectId('687a5db2d20ee8a0fe5775ff'), ObjectId('687a5db2d20ee8a0fe577600'), ObjectId('687a5db2d20ee8a0fe577601'), ObjectId('687a5db2d20ee8a0fe577602'), ObjectId('687a5db2d20ee8a0fe577603'), ObjectId('687a5db2d20ee8a0fe577604'), ObjectId('687a5db2d20ee8a0fe577605'), ObjectId('687a5db2d20ee8a0fe577606'), ObjectId('687a5db2d20ee8a0fe577607'), ObjectId('687a5db2d20ee8a0fe577608'), ObjectId('687a5db2d20ee8a0fe577609'), ObjectId('687a5db2d20ee8a0fe57760a'), ObjectId('687a5db2d20ee8a0fe57760b'), ObjectId('687a5db2d20ee8a0fe57760c'), ObjectId('687a5db2d20ee8a0fe57760d'), ObjectId('687a5db2d20ee8a0fe57760e'), ObjectId('687a5db2d20ee8a0fe57760f'), ObjectId('687a5db2d20ee8a0fe577610'), ObjectId('687a5db2d20ee8a0fe577611'), ObjectId('687a5db2d20ee8a0fe577612'), ObjectId('687a5db2d20ee8a0fe577613'), ObjectId('687a5db2d20ee8a0fe577614'), ObjectId('687a5db2d20ee8a0fe577615'), ObjectId('687a5db2d20ee8a0fe577616'), ObjectId('687a5db2d20ee8a0fe577617'), ObjectId('687a5db2d20ee8a0fe577618'), ObjectId('687a5db2d20ee8a0fe577619'), ObjectId('687a5db2d20ee8a0fe57761a'), ObjectId('687a5db2d20ee8a0fe57761b'), ObjectId('687a5db2d20ee8a0fe57761c'), ObjectId('687a5db2d20ee8a0fe57761d'), ObjectId('687a5db2d20ee8a0fe57761e'), ObjectId('687a5db2d20ee8a0fe57761f'), ObjectId('687a5db2d20ee8a0fe577620'), ObjectId('687a5db2d20ee8a0fe577621'), ObjectId('687a5db2d20ee8a0fe577622'), ObjectId('687a5db2d20ee8a0fe577623'), ObjectId('687a5db2d20ee8a0fe577624'), ObjectId('687a5db2d20ee8a0fe577625'), ObjectId('687a5db2d20ee8a0fe577626'), ObjectId('687a5db2d20ee8a0fe577627'), ObjectId('687a5db2d20ee8a0fe577628'), ObjectId('687a5db2d20ee8a0fe577629'), ObjectId('687a5db2d20ee8a0fe57762a'), ObjectId('687a5db2d20ee8a0fe57762b'), ObjectId('687a5db2d20ee8a0fe57762c'), ObjectId('687a5db2d20ee8a0fe57762d'), ObjectId('687a5db2d20ee8a0fe57762e'), ObjectId('687a5db2d20ee8a0fe57762f'), ObjectId('687a5db2d20ee8a0fe577630'), ObjectId('687a5db2d20ee8a0fe577631'), ObjectId('687a5db2d20ee8a0fe577632'), ObjectId('687a5db2d20ee8a0fe577633'), ObjectId('687a5db2d20ee8a0fe577634'), ObjectId('687a5db2d20ee8a0fe577635'), ObjectId('687a5db2d20ee8a0fe577636'), ObjectId('687a5db2d20ee8a0fe577637'), ObjectId('687a5db2d20ee8a0fe577638'), ObjectId('687a5db2d20ee8a0fe577639'), ObjectId('687a5db2d20ee8a0fe57763a'), ObjectId('687a5db2d20ee8a0fe57763b'), ObjectId('687a5db2d20ee8a0fe57763c'), ObjectId('687a5db2d20ee8a0fe57763d'), ObjectId('687a5db2d20ee8a0fe57763e'), ObjectId('687a5db2d20ee8a0fe57763f'), ObjectId('687a5db2d20ee8a0fe577640'), ObjectId('687a5db2d20ee8a0fe577641'), ObjectId('687a5db2d20ee8a0fe577642'), ObjectId('687a5db2d20ee8a0fe577643'), ObjectId('687a5db2d20ee8a0fe577644'), ObjectId('687a5db2d20ee8a0fe577645'), ObjectId('687a5db2d20ee8a0fe577646'), ObjectId('687a5db2d20ee8a0fe577647'), ObjectId('687a5db2d20ee8a0fe577648'), ObjectId('687a5db2d20ee8a0fe577649'), ObjectId('687a5db2d20ee8a0fe57764a'), ObjectId('687a5db2d20ee8a0fe57764b'), ObjectId('687a5db2d20ee8a0fe57764c'), ObjectId('687a5db2d20ee8a0fe57764d'), ObjectId('687a5db2d20ee8a0fe57764e'), ObjectId('687a5db2d20ee8a0fe57764f'), ObjectId('687a5db2d20ee8a0fe577650'), ObjectId('687a5db2d20ee8a0fe577651'), ObjectId('687a5db2d20ee8a0fe577652'), ObjectId('687a5db2d20ee8a0fe577653'), ObjectId('687a5db2d20ee8a0fe577654'), ObjectId('687a5db2d20ee8a0fe577655'), ObjectId('687a5db2d20ee8a0fe577656'), ObjectId('687a5db2d20ee8a0fe577657'), ObjectId('687a5db2d20ee8a0fe577658'), ObjectId('687a5db2d20ee8a0fe577659'), ObjectId('687a5db2d20ee8a0fe57765a'), ObjectId('687a5db2d20ee8a0fe57765b'), ObjectId('687a5db2d20ee8a0fe57765c'), ObjectId('687a5db2d20ee8a0fe57765d'), ObjectId('687a5db2d20ee8a0fe57765e'), ObjectId('687a5db2d20ee8a0fe57765f'), ObjectId('687a5db2d20ee8a0fe577660'), ObjectId('687a5db2d20ee8a0fe577661'), ObjectId('687a5db2d20ee8a0fe577662'), ObjectId('687a5db2d20ee8a0fe577663'), ObjectId('687a5db2d20ee8a0fe577664'), ObjectId('687a5db2d20ee8a0fe577665'), ObjectId('687a5db2d20ee8a0fe577666'), ObjectId('687a5db2d20ee8a0fe577667'), ObjectId('687a5db2d20ee8a0fe577668'), ObjectId('687a5db2d20ee8a0fe577669'), ObjectId('687a5db2d20ee8a0fe57766a'), ObjectId('687a5db2d20ee8a0fe57766b'), ObjectId('687a5db2d20ee8a0fe57766c'), ObjectId('687a5db2d20ee8a0fe57766d'), ObjectId('687a5db2d20ee8a0fe57766e'), ObjectId('687a5db2d20ee8a0fe57766f'), ObjectId('687a5db2d20ee8a0fe577670'), ObjectId('687a5db2d20ee8a0fe577671'), ObjectId('687a5db2d20ee8a0fe577672'), ObjectId('687a5db2d20ee8a0fe577673'), ObjectId('687a5db2d20ee8a0fe577674'), ObjectId('687a5db2d20ee8a0fe577675'), ObjectId('687a5db2d20ee8a0fe577676'), ObjectId('687a5db2d20ee8a0fe577677'), ObjectId('687a5db2d20ee8a0fe577678'), ObjectId('687a5db2d20ee8a0fe577679'), ObjectId('687a5db2d20ee8a0fe57767a'), ObjectId('687a5db2d20ee8a0fe57767b'), ObjectId('687a5db2d20ee8a0fe57767c'), ObjectId('687a5db2d20ee8a0fe57767d'), ObjectId('687a5db2d20ee8a0fe57767e'), ObjectId('687a5db2d20ee8a0fe57767f'), ObjectId('687a5db2d20ee8a0fe577680'), ObjectId('687a5db2d20ee8a0fe577681'), ObjectId('687a5db2d20ee8a0fe577682'), ObjectId('687a5db2d20ee8a0fe577683'), ObjectId('687a5db2d20ee8a0fe577684'), ObjectId('687a5db2d20ee8a0fe577685'), ObjectId('687a5db2d20ee8a0fe577686'), ObjectId('687a5db2d20ee8a0fe577687'), ObjectId('687a5db2d20ee8a0fe577688'), ObjectId('687a5db2d20ee8a0fe577689'), ObjectId('687a5db2d20ee8a0fe57768a'), ObjectId('687a5db2d20ee8a0fe57768b'), ObjectId('687a5db2d20ee8a0fe57768c'), ObjectId('687a5db2d20ee8a0fe57768d'), ObjectId('687a5db2d20ee8a0fe57768e'), ObjectId('687a5db2d20ee8a0fe57768f'), ObjectId('687a5db2d20ee8a0fe577690'), ObjectId('687a5db2d20ee8a0fe577691'), ObjectId('687a5db2d20ee8a0fe577692'), ObjectId('687a5db2d20ee8a0fe577693'), ObjectId('687a5db2d20ee8a0fe577694'), ObjectId('687a5db2d20ee8a0fe577695'), ObjectId('687a5db2d20ee8a0fe577696'), ObjectId('687a5db2d20ee8a0fe577697'), ObjectId('687a5db2d20ee8a0fe577698'), ObjectId('687a5db2d20ee8a0fe577699'), ObjectId('687a5db2d20ee8a0fe57769a'), ObjectId('687a5db2d20ee8a0fe57769b'), ObjectId('687a5db2d20ee8a0fe57769c'), ObjectId('687a5db2d20ee8a0fe57769d'), ObjectId('687a5db2d20ee8a0fe57769e'), ObjectId('687a5db2d20ee8a0fe57769f'), ObjectId('687a5db2d20ee8a0fe5776a0'), ObjectId('687a5db2d20ee8a0fe5776a1'), ObjectId('687a5db2d20ee8a0fe5776a2'), ObjectId('687a5db2d20ee8a0fe5776a3'), ObjectId('687a5db2d20ee8a0fe5776a4'), ObjectId('687a5db2d20ee8a0fe5776a5'), ObjectId('687a5db2d20ee8a0fe5776a6'), ObjectId('687a5db2d20ee8a0fe5776a7'), ObjectId('687a5db2d20ee8a0fe5776a8'), ObjectId('687a5db2d20ee8a0fe5776a9'), ObjectId('687a5db2d20ee8a0fe5776aa'), ObjectId('687a5db2d20ee8a0fe5776ab'), ObjectId('687a5db2d20ee8a0fe5776ac'), ObjectId('687a5db2d20ee8a0fe5776ad'), ObjectId('687a5db2d20ee8a0fe5776ae'), ObjectId('687a5db2d20ee8a0fe5776af'), ObjectId('687a5db2d20ee8a0fe5776b0'), ObjectId('687a5db2d20ee8a0fe5776b1'), ObjectId('687a5db2d20ee8a0fe5776b2'), ObjectId('687a5db2d20ee8a0fe5776b3'), ObjectId('687a5db2d20ee8a0fe5776b4'), ObjectId('687a5db2d20ee8a0fe5776b5'), ObjectId('687a5db2d20ee8a0fe5776b6'), ObjectId('687a5db2d20ee8a0fe5776b7'), ObjectId('687a5db2d20ee8a0fe5776b8'), ObjectId('687a5db2d20ee8a0fe5776b9'), ObjectId('687a5db2d20ee8a0fe5776ba'), ObjectId('687a5db2d20ee8a0fe5776bb'), ObjectId('687a5db2d20ee8a0fe5776bc'), ObjectId('687a5db2d20ee8a0fe5776bd'), ObjectId('687a5db2d20ee8a0fe5776be'), ObjectId('687a5db2d20ee8a0fe5776bf'), ObjectId('687a5db2d20ee8a0fe5776c0'), ObjectId('687a5db2d20ee8a0fe5776c1'), ObjectId('687a5db2d20ee8a0fe5776c2'), ObjectId('687a5db2d20ee8a0fe5776c3'), ObjectId('687a5db2d20ee8a0fe5776c4'), ObjectId('687a5db2d20ee8a0fe5776c5'), ObjectId('687a5db2d20ee8a0fe5776c6'), ObjectId('687a5db2d20ee8a0fe5776c7'), ObjectId('687a5db2d20ee8a0fe5776c8'), ObjectId('687a5db2d20ee8a0fe5776c9'), ObjectId('687a5db2d20ee8a0fe5776ca'), ObjectId('687a5db2d20ee8a0fe5776cb'), ObjectId('687a5db2d20ee8a0fe5776cc'), ObjectId('687a5db2d20ee8a0fe5776cd'), ObjectId('687a5db2d20ee8a0fe5776ce'), ObjectId('687a5db2d20ee8a0fe5776cf'), ObjectId('687a5db2d20ee8a0fe5776d0'), ObjectId('687a5db2d20ee8a0fe5776d1'), ObjectId('687a5db2d20ee8a0fe5776d2'), ObjectId('687a5db2d20ee8a0fe5776d3'), ObjectId('687a5db2d20ee8a0fe5776d4'), ObjectId('687a5db2d20ee8a0fe5776d5'), ObjectId('687a5db2d20ee8a0fe5776d6'), ObjectId('687a5db2d20ee8a0fe5776d7'), ObjectId('687a5db2d20ee8a0fe5776d8'), ObjectId('687a5db2d20ee8a0fe5776d9'), ObjectId('687a5db2d20ee8a0fe5776da'), ObjectId('687a5db2d20ee8a0fe5776db'), ObjectId('687a5db2d20ee8a0fe5776dc'), ObjectId('687a5db2d20ee8a0fe5776dd'), ObjectId('687a5db2d20ee8a0fe5776de'), ObjectId('687a5db2d20ee8a0fe5776df'), ObjectId('687a5db2d20ee8a0fe5776e0'), ObjectId('687a5db2d20ee8a0fe5776e1'), ObjectId('687a5db2d20ee8a0fe5776e2'), ObjectId('687a5db2d20ee8a0fe5776e3'), ObjectId('687a5db2d20ee8a0fe5776e4'), ObjectId('687a5db2d20ee8a0fe5776e5'), ObjectId('687a5db2d20ee8a0fe5776e6'), ObjectId('687a5db2d20ee8a0fe5776e7'), ObjectId('687a5db2d20ee8a0fe5776e8'), ObjectId('687a5db2d20ee8a0fe5776e9'), ObjectId('687a5db2d20ee8a0fe5776ea'), ObjectId('687a5db2d20ee8a0fe5776eb'), ObjectId('687a5db2d20ee8a0fe5776ec'), ObjectId('687a5db2d20ee8a0fe5776ed'), ObjectId('687a5db2d20ee8a0fe5776ee'), ObjectId('687a5db2d20ee8a0fe5776ef'), ObjectId('687a5db2d20ee8a0fe5776f0'), ObjectId('687a5db2d20ee8a0fe5776f1'), ObjectId('687a5db2d20ee8a0fe5776f2'), ObjectId('687a5db2d20ee8a0fe5776f3'), ObjectId('687a5db2d20ee8a0fe5776f4'), ObjectId('687a5db2d20ee8a0fe5776f5'), ObjectId('687a5db2d20ee8a0fe5776f6'), ObjectId('687a5db2d20ee8a0fe5776f7'), ObjectId('687a5db2d20ee8a0fe5776f8'), ObjectId('687a5db2d20ee8a0fe5776f9'), ObjectId('687a5db2d20ee8a0fe5776fa'), ObjectId('687a5db2d20ee8a0fe5776fb'), ObjectId('687a5db2d20ee8a0fe5776fc'), ObjectId('687a5db2d20ee8a0fe5776fd'), ObjectId('687a5db2d20ee8a0fe5776fe'), ObjectId('687a5db2d20ee8a0fe5776ff'), ObjectId('687a5db2d20ee8a0fe577700'), ObjectId('687a5db2d20ee8a0fe577701'), ObjectId('687a5db2d20ee8a0fe577702'), ObjectId('687a5db2d20ee8a0fe577703'), ObjectId('687a5db2d20ee8a0fe577704'), ObjectId('687a5db2d20ee8a0fe577705'), ObjectId('687a5db2d20ee8a0fe577706'), ObjectId('687a5db2d20ee8a0fe577707'), ObjectId('687a5db2d20ee8a0fe577708'), ObjectId('687a5db2d20ee8a0fe577709'), ObjectId('687a5db2d20ee8a0fe57770a'), ObjectId('687a5db2d20ee8a0fe57770b'), ObjectId('687a5db2d20ee8a0fe57770c'), ObjectId('687a5db2d20ee8a0fe57770d'), ObjectId('687a5db2d20ee8a0fe57770e'), ObjectId('687a5db2d20ee8a0fe57770f'), ObjectId('687a5db2d20ee8a0fe577710'), ObjectId('687a5db2d20ee8a0fe577711'), ObjectId('687a5db2d20ee8a0fe577712'), ObjectId('687a5db2d20ee8a0fe577713'), ObjectId('687a5db2d20ee8a0fe577714'), ObjectId('687a5db2d20ee8a0fe577715'), ObjectId('687a5db2d20ee8a0fe577716'), ObjectId('687a5db2d20ee8a0fe577717'), ObjectId('687a5db2d20ee8a0fe577718'), ObjectId('687a5db2d20ee8a0fe577719'), ObjectId('687a5db2d20ee8a0fe57771a'), ObjectId('687a5db2d20ee8a0fe57771b'), ObjectId('687a5db2d20ee8a0fe57771c'), ObjectId('687a5db2d20ee8a0fe57771d'), ObjectId('687a5db2d20ee8a0fe57771e'), ObjectId('687a5db2d20ee8a0fe57771f'), ObjectId('687a5db2d20ee8a0fe577720'), ObjectId('687a5db2d20ee8a0fe577721'), ObjectId('687a5db2d20ee8a0fe577722'), ObjectId('687a5db2d20ee8a0fe577723'), ObjectId('687a5db2d20ee8a0fe577724'), ObjectId('687a5db2d20ee8a0fe577725'), ObjectId('687a5db2d20ee8a0fe577726'), ObjectId('687a5db2d20ee8a0fe577727'), ObjectId('687a5db2d20ee8a0fe577728'), ObjectId('687a5db2d20ee8a0fe577729'), ObjectId('687a5db2d20ee8a0fe57772a'), ObjectId('687a5db2d20ee8a0fe57772b'), ObjectId('687a5db2d20ee8a0fe57772c'), ObjectId('687a5db2d20ee8a0fe57772d'), ObjectId('687a5db2d20ee8a0fe57772e'), ObjectId('687a5db2d20ee8a0fe57772f'), ObjectId('687a5db2d20ee8a0fe577730'), ObjectId('687a5db2d20ee8a0fe577731'), ObjectId('687a5db2d20ee8a0fe577732'), ObjectId('687a5db2d20ee8a0fe577733'), ObjectId('687a5db2d20ee8a0fe577734'), ObjectId('687a5db2d20ee8a0fe577735'), ObjectId('687a5db2d20ee8a0fe577736'), ObjectId('687a5db2d20ee8a0fe577737'), ObjectId('687a5db2d20ee8a0fe577738'), ObjectId('687a5db2d20ee8a0fe577739'), ObjectId('687a5db2d20ee8a0fe57773a'), ObjectId('687a5db2d20ee8a0fe57773b'), ObjectId('687a5db2d20ee8a0fe57773c'), ObjectId('687a5db2d20ee8a0fe57773d'), ObjectId('687a5db2d20ee8a0fe57773e'), ObjectId('687a5db2d20ee8a0fe57773f'), ObjectId('687a5db2d20ee8a0fe577740'), ObjectId('687a5db2d20ee8a0fe577741'), ObjectId('687a5db2d20ee8a0fe577742'), ObjectId('687a5db2d20ee8a0fe577743'), ObjectId('687a5db2d20ee8a0fe577744'), ObjectId('687a5db2d20ee8a0fe577745'), ObjectId('687a5db2d20ee8a0fe577746'), ObjectId('687a5db2d20ee8a0fe577747'), ObjectId('687a5db2d20ee8a0fe577748'), ObjectId('687a5db2d20ee8a0fe577749'), ObjectId('687a5db2d20ee8a0fe57774a'), ObjectId('687a5db2d20ee8a0fe57774b'), ObjectId('687a5db2d20ee8a0fe57774c'), ObjectId('687a5db2d20ee8a0fe57774d'), ObjectId('687a5db2d20ee8a0fe57774e'), ObjectId('687a5db2d20ee8a0fe57774f'), ObjectId('687a5db2d20ee8a0fe577750'), ObjectId('687a5db2d20ee8a0fe577751'), ObjectId('687a5db2d20ee8a0fe577752'), ObjectId('687a5db2d20ee8a0fe577753'), ObjectId('687a5db2d20ee8a0fe577754'), ObjectId('687a5db2d20ee8a0fe577755'), ObjectId('687a5db2d20ee8a0fe577756'), ObjectId('687a5db2d20ee8a0fe577757'), ObjectId('687a5db2d20ee8a0fe577758'), ObjectId('687a5db2d20ee8a0fe577759'), ObjectId('687a5db2d20ee8a0fe57775a'), ObjectId('687a5db2d20ee8a0fe57775b'), ObjectId('687a5db2d20ee8a0fe57775c'), ObjectId('687a5db2d20ee8a0fe57775d'), ObjectId('687a5db2d20ee8a0fe57775e'), ObjectId('687a5db2d20ee8a0fe57775f'), ObjectId('687a5db2d20ee8a0fe577760'), ObjectId('687a5db2d20ee8a0fe577761'), ObjectId('687a5db2d20ee8a0fe577762'), ObjectId('687a5db2d20ee8a0fe577763'), ObjectId('687a5db2d20ee8a0fe577764'), ObjectId('687a5db2d20ee8a0fe577765'), ObjectId('687a5db2d20ee8a0fe577766'), ObjectId('687a5db2d20ee8a0fe577767'), ObjectId('687a5db2d20ee8a0fe577768'), ObjectId('687a5db2d20ee8a0fe577769'), ObjectId('687a5db2d20ee8a0fe57776a'), ObjectId('687a5db2d20ee8a0fe57776b'), ObjectId('687a5db2d20ee8a0fe57776c'), ObjectId('687a5db2d20ee8a0fe57776d'), ObjectId('687a5db2d20ee8a0fe57776e'), ObjectId('687a5db2d20ee8a0fe57776f'), ObjectId('687a5db2d20ee8a0fe577770'), ObjectId('687a5db2d20ee8a0fe577771'), ObjectId('687a5db2d20ee8a0fe577772'), ObjectId('687a5db2d20ee8a0fe577773'), ObjectId('687a5db2d20ee8a0fe577774'), ObjectId('687a5db2d20ee8a0fe577775'), ObjectId('687a5db2d20ee8a0fe577776'), ObjectId('687a5db2d20ee8a0fe577777'), ObjectId('687a5db2d20ee8a0fe577778'), ObjectId('687a5db2d20ee8a0fe577779'), ObjectId('687a5db2d20ee8a0fe57777a'), ObjectId('687a5db2d20ee8a0fe57777b'), ObjectId('687a5db2d20ee8a0fe57777c'), ObjectId('687a5db2d20ee8a0fe57777d'), ObjectId('687a5db2d20ee8a0fe57777e'), ObjectId('687a5db2d20ee8a0fe57777f'), ObjectId('687a5db2d20ee8a0fe577780'), ObjectId('687a5db2d20ee8a0fe577781'), ObjectId('687a5db2d20ee8a0fe577782'), ObjectId('687a5db2d20ee8a0fe577783'), ObjectId('687a5db2d20ee8a0fe577784'), ObjectId('687a5db2d20ee8a0fe577785'), ObjectId('687a5db2d20ee8a0fe577786'), ObjectId('687a5db2d20ee8a0fe577787'), ObjectId('687a5db2d20ee8a0fe577788'), ObjectId('687a5db2d20ee8a0fe577789'), ObjectId('687a5db2d20ee8a0fe57778a'), ObjectId('687a5db2d20ee8a0fe57778b'), ObjectId('687a5db2d20ee8a0fe57778c'), ObjectId('687a5db2d20ee8a0fe57778d'), ObjectId('687a5db2d20ee8a0fe57778e'), ObjectId('687a5db2d20ee8a0fe57778f'), ObjectId('687a5db2d20ee8a0fe577790'), ObjectId('687a5db2d20ee8a0fe577791'), ObjectId('687a5db2d20ee8a0fe577792'), ObjectId('687a5db2d20ee8a0fe577793'), ObjectId('687a5db2d20ee8a0fe577794'), ObjectId('687a5db2d20ee8a0fe577795'), ObjectId('687a5db2d20ee8a0fe577796'), ObjectId('687a5db2d20ee8a0fe577797'), ObjectId('687a5db2d20ee8a0fe577798'), ObjectId('687a5db2d20ee8a0fe577799'), ObjectId('687a5db2d20ee8a0fe57779a'), ObjectId('687a5db2d20ee8a0fe57779b'), ObjectId('687a5db2d20ee8a0fe57779c'), ObjectId('687a5db2d20ee8a0fe57779d'), ObjectId('687a5db2d20ee8a0fe57779e'), ObjectId('687a5db2d20ee8a0fe57779f'), ObjectId('687a5db2d20ee8a0fe5777a0'), ObjectId('687a5db2d20ee8a0fe5777a1'), ObjectId('687a5db2d20ee8a0fe5777a2'), ObjectId('687a5db2d20ee8a0fe5777a3'), ObjectId('687a5db2d20ee8a0fe5777a4'), ObjectId('687a5db2d20ee8a0fe5777a5'), ObjectId('687a5db2d20ee8a0fe5777a6'), ObjectId('687a5db2d20ee8a0fe5777a7'), ObjectId('687a5db2d20ee8a0fe5777a8'), ObjectId('687a5db2d20ee8a0fe5777a9'), ObjectId('687a5db2d20ee8a0fe5777aa'), ObjectId('687a5db2d20ee8a0fe5777ab'), ObjectId('687a5db2d20ee8a0fe5777ac'), ObjectId('687a5db2d20ee8a0fe5777ad'), ObjectId('687a5db2d20ee8a0fe5777ae'), ObjectId('687a5db2d20ee8a0fe5777af'), ObjectId('687a5db2d20ee8a0fe5777b0'), ObjectId('687a5db2d20ee8a0fe5777b1'), ObjectId('687a5db2d20ee8a0fe5777b2'), ObjectId('687a5db2d20ee8a0fe5777b3'), ObjectId('687a5db2d20ee8a0fe5777b4'), ObjectId('687a5db2d20ee8a0fe5777b5'), ObjectId('687a5db2d20ee8a0fe5777b6'), ObjectId('687a5db2d20ee8a0fe5777b7'), ObjectId('687a5db2d20ee8a0fe5777b8'), ObjectId('687a5db2d20ee8a0fe5777b9'), ObjectId('687a5db2d20ee8a0fe5777ba'), ObjectId('687a5db2d20ee8a0fe5777bb'), ObjectId('687a5db2d20ee8a0fe5777bc'), ObjectId('687a5db2d20ee8a0fe5777bd'), ObjectId('687a5db2d20ee8a0fe5777be'), ObjectId('687a5db2d20ee8a0fe5777bf'), ObjectId('687a5db2d20ee8a0fe5777c0'), ObjectId('687a5db2d20ee8a0fe5777c1'), ObjectId('687a5db2d20ee8a0fe5777c2'), ObjectId('687a5db2d20ee8a0fe5777c3'), ObjectId('687a5db2d20ee8a0fe5777c4'), ObjectId('687a5db2d20ee8a0fe5777c5'), ObjectId('687a5db2d20ee8a0fe5777c6'), ObjectId('687a5db2d20ee8a0fe5777c7'), ObjectId('687a5db2d20ee8a0fe5777c8'), ObjectId('687a5db2d20ee8a0fe5777c9'), ObjectId('687a5db2d20ee8a0fe5777ca'), ObjectId('687a5db2d20ee8a0fe5777cb'), ObjectId('687a5db2d20ee8a0fe5777cc'), ObjectId('687a5db2d20ee8a0fe5777cd'), ObjectId('687a5db2d20ee8a0fe5777ce'), ObjectId('687a5db2d20ee8a0fe5777cf'), ObjectId('687a5db2d20ee8a0fe5777d0'), ObjectId('687a5db2d20ee8a0fe5777d1'), ObjectId('687a5db2d20ee8a0fe5777d2'), ObjectId('687a5db2d20ee8a0fe5777d3'), ObjectId('687a5db2d20ee8a0fe5777d4'), ObjectId('687a5db2d20ee8a0fe5777d5'), ObjectId('687a5db2d20ee8a0fe5777d6'), ObjectId('687a5db2d20ee8a0fe5777d7'), ObjectId('687a5db2d20ee8a0fe5777d8'), ObjectId('687a5db2d20ee8a0fe5777d9'), ObjectId('687a5db2d20ee8a0fe5777da'), ObjectId('687a5db2d20ee8a0fe5777db'), ObjectId('687a5db2d20ee8a0fe5777dc'), ObjectId('687a5db2d20ee8a0fe5777dd'), ObjectId('687a5db2d20ee8a0fe5777de'), ObjectId('687a5db2d20ee8a0fe5777df'), ObjectId('687a5db2d20ee8a0fe5777e0'), ObjectId('687a5db2d20ee8a0fe5777e1'), ObjectId('687a5db2d20ee8a0fe5777e2'), ObjectId('687a5db2d20ee8a0fe5777e3'), ObjectId('687a5db2d20ee8a0fe5777e4'), ObjectId('687a5db2d20ee8a0fe5777e5'), ObjectId('687a5db2d20ee8a0fe5777e6'), ObjectId('687a5db2d20ee8a0fe5777e7'), ObjectId('687a5db2d20ee8a0fe5777e8'), ObjectId('687a5db2d20ee8a0fe5777e9'), ObjectId('687a5db2d20ee8a0fe5777ea'), ObjectId('687a5db2d20ee8a0fe5777eb'), ObjectId('687a5db2d20ee8a0fe5777ec'), ObjectId('687a5db2d20ee8a0fe5777ed'), ObjectId('687a5db2d20ee8a0fe5777ee'), ObjectId('687a5db2d20ee8a0fe5777ef'), ObjectId('687a5db2d20ee8a0fe5777f0'), ObjectId('687a5db2d20ee8a0fe5777f1'), ObjectId('687a5db2d20ee8a0fe5777f2'), ObjectId('687a5db2d20ee8a0fe5777f3'), ObjectId('687a5db2d20ee8a0fe5777f4'), ObjectId('687a5db2d20ee8a0fe5777f5'), ObjectId('687a5db2d20ee8a0fe5777f6'), ObjectId('687a5db2d20ee8a0fe5777f7'), ObjectId('687a5db2d20ee8a0fe5777f8'), ObjectId('687a5db2d20ee8a0fe5777f9'), ObjectId('687a5db2d20ee8a0fe5777fa'), ObjectId('687a5db2d20ee8a0fe5777fb'), ObjectId('687a5db2d20ee8a0fe5777fc'), ObjectId('687a5db2d20ee8a0fe5777fd'), ObjectId('687a5db2d20ee8a0fe5777fe'), ObjectId('687a5db2d20ee8a0fe5777ff'), ObjectId('687a5db2d20ee8a0fe577800'), ObjectId('687a5db2d20ee8a0fe577801'), ObjectId('687a5db2d20ee8a0fe577802'), ObjectId('687a5db2d20ee8a0fe577803'), ObjectId('687a5db2d20ee8a0fe577804'), ObjectId('687a5db2d20ee8a0fe577805'), ObjectId('687a5db2d20ee8a0fe577806'), ObjectId('687a5db2d20ee8a0fe577807'), ObjectId('687a5db2d20ee8a0fe577808'), ObjectId('687a5db2d20ee8a0fe577809'), ObjectId('687a5db2d20ee8a0fe57780a'), ObjectId('687a5db2d20ee8a0fe57780b'), ObjectId('687a5db2d20ee8a0fe57780c'), ObjectId('687a5db2d20ee8a0fe57780d'), ObjectId('687a5db2d20ee8a0fe57780e'), ObjectId('687a5db2d20ee8a0fe57780f'), ObjectId('687a5db2d20ee8a0fe577810'), ObjectId('687a5db2d20ee8a0fe577811'), ObjectId('687a5db2d20ee8a0fe577812'), ObjectId('687a5db2d20ee8a0fe577813'), ObjectId('687a5db2d20ee8a0fe577814'), ObjectId('687a5db2d20ee8a0fe577815'), ObjectId('687a5db2d20ee8a0fe577816'), ObjectId('687a5db2d20ee8a0fe577817'), ObjectId('687a5db2d20ee8a0fe577818'), ObjectId('687a5db2d20ee8a0fe577819'), ObjectId('687a5db2d20ee8a0fe57781a'), ObjectId('687a5db2d20ee8a0fe57781b'), ObjectId('687a5db2d20ee8a0fe57781c'), ObjectId('687a5db2d20ee8a0fe57781d'), ObjectId('687a5db2d20ee8a0fe57781e'), ObjectId('687a5db2d20ee8a0fe57781f'), ObjectId('687a5db2d20ee8a0fe577820'), ObjectId('687a5db2d20ee8a0fe577821'), ObjectId('687a5db2d20ee8a0fe577822'), ObjectId('687a5db2d20ee8a0fe577823'), ObjectId('687a5db2d20ee8a0fe577824'), ObjectId('687a5db2d20ee8a0fe577825'), ObjectId('687a5db2d20ee8a0fe577826'), ObjectId('687a5db2d20ee8a0fe577827'), ObjectId('687a5db2d20ee8a0fe577828'), ObjectId('687a5db2d20ee8a0fe577829'), ObjectId('687a5db2d20ee8a0fe57782a'), ObjectId('687a5db2d20ee8a0fe57782b'), ObjectId('687a5db2d20ee8a0fe57782c'), ObjectId('687a5db2d20ee8a0fe57782d'), ObjectId('687a5db2d20ee8a0fe57782e'), ObjectId('687a5db2d20ee8a0fe57782f'), ObjectId('687a5db2d20ee8a0fe577830'), ObjectId('687a5db2d20ee8a0fe577831'), ObjectId('687a5db2d20ee8a0fe577832'), ObjectId('687a5db2d20ee8a0fe577833'), ObjectId('687a5db2d20ee8a0fe577834'), ObjectId('687a5db2d20ee8a0fe577835'), ObjectId('687a5db2d20ee8a0fe577836'), ObjectId('687a5db2d20ee8a0fe577837'), ObjectId('687a5db2d20ee8a0fe577838'), ObjectId('687a5db2d20ee8a0fe577839'), ObjectId('687a5db2d20ee8a0fe57783a'), ObjectId('687a5db2d20ee8a0fe57783b'), ObjectId('687a5db2d20ee8a0fe57783c'), ObjectId('687a5db2d20ee8a0fe57783d'), ObjectId('687a5db2d20ee8a0fe57783e'), ObjectId('687a5db2d20ee8a0fe57783f'), ObjectId('687a5db2d20ee8a0fe577840'), ObjectId('687a5db2d20ee8a0fe577841'), ObjectId('687a5db2d20ee8a0fe577842'), ObjectId('687a5db2d20ee8a0fe577843'), ObjectId('687a5db2d20ee8a0fe577844'), ObjectId('687a5db2d20ee8a0fe577845'), ObjectId('687a5db2d20ee8a0fe577846'), ObjectId('687a5db2d20ee8a0fe577847'), ObjectId('687a5db2d20ee8a0fe577848'), ObjectId('687a5db2d20ee8a0fe577849'), ObjectId('687a5db2d20ee8a0fe57784a'), ObjectId('687a5db2d20ee8a0fe57784b'), ObjectId('687a5db2d20ee8a0fe57784c'), ObjectId('687a5db2d20ee8a0fe57784d'), ObjectId('687a5db2d20ee8a0fe57784e')], acknowledged=True)"
      ]
     },
     "execution_count": 22,
     "metadata": {},
     "output_type": "execute_result"
    }
   ],
   "source": [
    "db.historical_stock_data.insert_many(stock_data_to_insert)"
   ]
  },
  {
   "cell_type": "markdown",
   "id": "7d93a907",
   "metadata": {},
   "source": [
    "### Retrieving Time-Series Data"
   ]
  },
  {
   "cell_type": "code",
   "execution_count": 23,
   "id": "d35804d5",
   "metadata": {},
   "outputs": [
    {
     "data": {
      "text/plain": [
       "datetime.datetime(2025, 1, 18, 16, 44, 2, 267204)"
      ]
     },
     "execution_count": 23,
     "metadata": {},
     "output_type": "execute_result"
    }
   ],
   "source": [
    "gt_date = datetime.now() - relativedelta(months=6)\n",
    "gt_date"
   ]
  },
  {
   "cell_type": "code",
   "execution_count": 24,
   "id": "82a48727",
   "metadata": {},
   "outputs": [
    {
     "name": "stdout",
     "output_type": "stream",
     "text": [
      "[{'Date': datetime.datetime(2025, 1, 21, 0, 0), 'Ticker': 'FB', 'Close': nan, '_id': ObjectId('687a5abbf42f735987f2bdb2'), 'High': nan, 'Open': nan, 'Low': nan, 'Volume': nan}, {'Date': datetime.datetime(2025, 1, 22, 0, 0), 'Ticker': 'FB', 'Close': nan, '_id': ObjectId('687a5abbf42f735987f2bdb3'), 'High': nan, 'Open': nan, 'Low': nan, 'Volume': nan}]\n"
     ]
    }
   ],
   "source": [
    "ts_cursor = db.historical_stock_data.find({\"Ticker\": \"FB\", \"Date\": {\"$gte\": gt_date} })\n",
    "\n",
    "fb_price_data = []\n",
    "\n",
    "for entry in ts_cursor:\n",
    "    fb_price_data.append(entry)\n",
    "    \n",
    "print(fb_price_data[0:2])"
   ]
  },
  {
   "cell_type": "code",
   "execution_count": 25,
   "id": "21e7d133",
   "metadata": {},
   "outputs": [
    {
     "data": {
      "text/html": [
       "<div>\n",
       "<style scoped>\n",
       "    .dataframe tbody tr th:only-of-type {\n",
       "        vertical-align: middle;\n",
       "    }\n",
       "\n",
       "    .dataframe tbody tr th {\n",
       "        vertical-align: top;\n",
       "    }\n",
       "\n",
       "    .dataframe thead th {\n",
       "        text-align: right;\n",
       "    }\n",
       "</style>\n",
       "<table border=\"1\" class=\"dataframe\">\n",
       "  <thead>\n",
       "    <tr style=\"text-align: right;\">\n",
       "      <th></th>\n",
       "      <th>Ticker</th>\n",
       "      <th>Close</th>\n",
       "      <th>High</th>\n",
       "      <th>Open</th>\n",
       "      <th>Low</th>\n",
       "      <th>Volume</th>\n",
       "    </tr>\n",
       "    <tr>\n",
       "      <th>Date</th>\n",
       "      <th></th>\n",
       "      <th></th>\n",
       "      <th></th>\n",
       "      <th></th>\n",
       "      <th></th>\n",
       "      <th></th>\n",
       "    </tr>\n",
       "  </thead>\n",
       "  <tbody>\n",
       "    <tr>\n",
       "      <th>2025-01-21</th>\n",
       "      <td>FB</td>\n",
       "      <td>NaN</td>\n",
       "      <td>NaN</td>\n",
       "      <td>NaN</td>\n",
       "      <td>NaN</td>\n",
       "      <td>NaN</td>\n",
       "    </tr>\n",
       "    <tr>\n",
       "      <th>2025-01-22</th>\n",
       "      <td>FB</td>\n",
       "      <td>NaN</td>\n",
       "      <td>NaN</td>\n",
       "      <td>NaN</td>\n",
       "      <td>NaN</td>\n",
       "      <td>NaN</td>\n",
       "    </tr>\n",
       "    <tr>\n",
       "      <th>2025-01-23</th>\n",
       "      <td>FB</td>\n",
       "      <td>NaN</td>\n",
       "      <td>NaN</td>\n",
       "      <td>NaN</td>\n",
       "      <td>NaN</td>\n",
       "      <td>NaN</td>\n",
       "    </tr>\n",
       "    <tr>\n",
       "      <th>2025-01-24</th>\n",
       "      <td>FB</td>\n",
       "      <td>NaN</td>\n",
       "      <td>NaN</td>\n",
       "      <td>NaN</td>\n",
       "      <td>NaN</td>\n",
       "      <td>NaN</td>\n",
       "    </tr>\n",
       "    <tr>\n",
       "      <th>2025-01-27</th>\n",
       "      <td>FB</td>\n",
       "      <td>NaN</td>\n",
       "      <td>NaN</td>\n",
       "      <td>NaN</td>\n",
       "      <td>NaN</td>\n",
       "      <td>NaN</td>\n",
       "    </tr>\n",
       "    <tr>\n",
       "      <th>...</th>\n",
       "      <td>...</td>\n",
       "      <td>...</td>\n",
       "      <td>...</td>\n",
       "      <td>...</td>\n",
       "      <td>...</td>\n",
       "      <td>...</td>\n",
       "    </tr>\n",
       "    <tr>\n",
       "      <th>2025-07-17</th>\n",
       "      <td>FB</td>\n",
       "      <td>40.5130</td>\n",
       "      <td>40.528999</td>\n",
       "      <td>40.444</td>\n",
       "      <td>40.444000</td>\n",
       "      <td>2000.0</td>\n",
       "    </tr>\n",
       "    <tr>\n",
       "      <th>2025-07-18</th>\n",
       "      <td>FB</td>\n",
       "      <td>40.5126</td>\n",
       "      <td>40.529400</td>\n",
       "      <td>40.444</td>\n",
       "      <td>40.444000</td>\n",
       "      <td>97.0</td>\n",
       "    </tr>\n",
       "    <tr>\n",
       "      <th>2025-07-16</th>\n",
       "      <td>FB</td>\n",
       "      <td>40.4580</td>\n",
       "      <td>40.500000</td>\n",
       "      <td>40.480</td>\n",
       "      <td>40.389999</td>\n",
       "      <td>97600.0</td>\n",
       "    </tr>\n",
       "    <tr>\n",
       "      <th>2025-07-17</th>\n",
       "      <td>FB</td>\n",
       "      <td>40.5130</td>\n",
       "      <td>40.528999</td>\n",
       "      <td>40.444</td>\n",
       "      <td>40.444000</td>\n",
       "      <td>2000.0</td>\n",
       "    </tr>\n",
       "    <tr>\n",
       "      <th>2025-07-18</th>\n",
       "      <td>FB</td>\n",
       "      <td>40.5126</td>\n",
       "      <td>40.529400</td>\n",
       "      <td>40.444</td>\n",
       "      <td>40.444000</td>\n",
       "      <td>104.0</td>\n",
       "    </tr>\n",
       "  </tbody>\n",
       "</table>\n",
       "<p>619 rows × 6 columns</p>\n",
       "</div>"
      ],
      "text/plain": [
       "           Ticker    Close       High    Open        Low   Volume\n",
       "Date                                                             \n",
       "2025-01-21     FB      NaN        NaN     NaN        NaN      NaN\n",
       "2025-01-22     FB      NaN        NaN     NaN        NaN      NaN\n",
       "2025-01-23     FB      NaN        NaN     NaN        NaN      NaN\n",
       "2025-01-24     FB      NaN        NaN     NaN        NaN      NaN\n",
       "2025-01-27     FB      NaN        NaN     NaN        NaN      NaN\n",
       "...           ...      ...        ...     ...        ...      ...\n",
       "2025-07-17     FB  40.5130  40.528999  40.444  40.444000   2000.0\n",
       "2025-07-18     FB  40.5126  40.529400  40.444  40.444000     97.0\n",
       "2025-07-16     FB  40.4580  40.500000  40.480  40.389999  97600.0\n",
       "2025-07-17     FB  40.5130  40.528999  40.444  40.444000   2000.0\n",
       "2025-07-18     FB  40.5126  40.529400  40.444  40.444000    104.0\n",
       "\n",
       "[619 rows x 6 columns]"
      ]
     },
     "execution_count": 25,
     "metadata": {},
     "output_type": "execute_result"
    }
   ],
   "source": [
    "read_in_data = pandas.DataFrame(fb_price_data)\n",
    "read_in_data = read_in_data.set_index(\"Date\")\n",
    "read_in_data = read_in_data.drop(\"_id\", axis=1)\n",
    "\n",
    "read_in_data"
   ]
  },
  {
   "cell_type": "code",
   "execution_count": null,
   "id": "fd92ec33",
   "metadata": {},
   "outputs": [],
   "source": []
  },
  {
   "cell_type": "code",
   "execution_count": null,
   "id": "d2b5a209",
   "metadata": {},
   "outputs": [],
   "source": []
  },
  {
   "cell_type": "code",
   "execution_count": null,
   "id": "2857b17a",
   "metadata": {},
   "outputs": [],
   "source": []
  }
 ],
 "metadata": {
  "kernelspec": {
   "display_name": "venv",
   "language": "python",
   "name": "python3"
  },
  "language_info": {
   "codemirror_mode": {
    "name": "ipython",
    "version": 3
   },
   "file_extension": ".py",
   "mimetype": "text/x-python",
   "name": "python",
   "nbconvert_exporter": "python",
   "pygments_lexer": "ipython3",
   "version": "3.12.5"
  }
 },
 "nbformat": 4,
 "nbformat_minor": 5
}
