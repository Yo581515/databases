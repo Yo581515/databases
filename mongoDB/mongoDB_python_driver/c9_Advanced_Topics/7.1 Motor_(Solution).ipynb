{
 "cells": [
  {
   "cell_type": "markdown",
   "id": "a6ce8fed",
   "metadata": {},
   "source": [
    "## Motor\n",
    "\n",
    "Learn how to use the asynchronous motor module to connect and interact with your MongoDB instance"
   ]
  },
  {
   "cell_type": "code",
   "execution_count": 14,
   "id": "c3b0b260",
   "metadata": {},
   "outputs": [],
   "source": [
    "import asyncio\n",
    "import nest_asyncio\n",
    "nest_asyncio.apply()\n",
    "\n",
    "from motor.motor_asyncio import AsyncIOMotorClient"
   ]
  },
  {
   "cell_type": "markdown",
   "id": "9f7f1ca2",
   "metadata": {},
   "source": [
    "##### Connect to database"
   ]
  },
  {
   "cell_type": "code",
   "execution_count": 15,
   "id": "f321f891",
   "metadata": {},
   "outputs": [],
   "source": [
    "mongodb_uri = \"mongodb://localhost:27017/\"\n",
    "db_name = \"advanced_features\""
   ]
  },
  {
   "cell_type": "code",
   "execution_count": 16,
   "id": "bda84122",
   "metadata": {},
   "outputs": [],
   "source": [
    "client = AsyncIOMotorClient(mongodb_uri)\n",
    "db = client[db_name]"
   ]
  },
  {
   "cell_type": "markdown",
   "id": "4ec58cfc",
   "metadata": {},
   "source": [
    "##### motor syntax and return object"
   ]
  },
  {
   "cell_type": "code",
   "execution_count": 17,
   "id": "f19c8b03",
   "metadata": {},
   "outputs": [
    {
     "data": {
      "text/plain": [
       "<Future pending cb=[_chain_future.<locals>._call_check_cancel() at C:\\Users\\yfess\\AppData\\Local\\Programs\\Python\\Python312\\Lib\\asyncio\\futures.py:387]>"
      ]
     },
     "execution_count": 17,
     "metadata": {},
     "output_type": "execute_result"
    }
   ],
   "source": [
    "db.motor_col.insert_one({'test': \"test\"})"
   ]
  },
  {
   "cell_type": "markdown",
   "id": "713dc900",
   "metadata": {},
   "source": [
    "##### Define async function"
   ]
  },
  {
   "cell_type": "code",
   "execution_count": 18,
   "id": "6012f394",
   "metadata": {},
   "outputs": [],
   "source": [
    "async def async_insert(document):\n",
    "    res = await db.motor_col.insert_one(document)\n",
    "    return res"
   ]
  },
  {
   "cell_type": "markdown",
   "id": "9c0cf707",
   "metadata": {},
   "source": [
    "##### Run async event loop"
   ]
  },
  {
   "cell_type": "code",
   "execution_count": 19,
   "id": "a097be2e",
   "metadata": {},
   "outputs": [
    {
     "data": {
      "text/plain": [
       "<_WindowsSelectorEventLoop running=True closed=False debug=False>"
      ]
     },
     "execution_count": 19,
     "metadata": {},
     "output_type": "execute_result"
    }
   ],
   "source": [
    "loop = asyncio.get_event_loop()\n",
    "loop"
   ]
  },
  {
   "cell_type": "code",
   "execution_count": 20,
   "id": "bec7b049",
   "metadata": {},
   "outputs": [
    {
     "data": {
      "text/plain": [
       "InsertOneResult(ObjectId('687a67baa60ea594096faf63'), acknowledged=True)"
      ]
     },
     "execution_count": 20,
     "metadata": {},
     "output_type": "execute_result"
    }
   ],
   "source": [
    "loop.run_until_complete(async_insert({'key': 'value'}))"
   ]
  },
  {
   "cell_type": "code",
   "execution_count": 21,
   "id": "c6ef1f69",
   "metadata": {},
   "outputs": [
    {
     "data": {
      "text/plain": [
       "ObjectId('687a67baa60ea594096faf64')"
      ]
     },
     "execution_count": 21,
     "metadata": {},
     "output_type": "execute_result"
    }
   ],
   "source": [
    "res = loop.run_until_complete(async_insert({'key': 'value'}))\n",
    "res.inserted_id"
   ]
  },
  {
   "cell_type": "code",
   "execution_count": 22,
   "id": "bdef45aa",
   "metadata": {},
   "outputs": [
    {
     "data": {
      "text/plain": [
       "InsertOneResult(ObjectId('687a67baa60ea594096faf65'), acknowledged=True)"
      ]
     },
     "execution_count": 22,
     "metadata": {},
     "output_type": "execute_result"
    }
   ],
   "source": [
    "loop.run_until_complete(db.motor_col.insert_one({'new_key': 'new_value'}))"
   ]
  },
  {
   "cell_type": "markdown",
   "id": "470bbe2f",
   "metadata": {},
   "source": [
    "##### Define async find_one function"
   ]
  },
  {
   "cell_type": "code",
   "execution_count": null,
   "id": "6d9d5560",
   "metadata": {},
   "outputs": [],
   "source": [
    "async def async_find_one(document):\n",
    "    return await db.motor_col.find_one(document) "
   ]
  },
  {
   "cell_type": "markdown",
   "id": "aad0e497",
   "metadata": {},
   "source": [
    "##### Run new function in async loop "
   ]
  },
  {
   "cell_type": "code",
   "execution_count": 24,
   "id": "311e00d4",
   "metadata": {},
   "outputs": [
    {
     "data": {
      "text/plain": [
       "{'_id': ObjectId('687a6676751a6d12917508d4'), 'key': 'value'}"
      ]
     },
     "execution_count": 24,
     "metadata": {},
     "output_type": "execute_result"
    }
   ],
   "source": [
    "loop.run_until_complete(async_find_one({'key': \"value\"}))"
   ]
  },
  {
   "cell_type": "markdown",
   "id": "ab2b35af",
   "metadata": {},
   "source": [
    "##### Run find_one query without async function"
   ]
  },
  {
   "cell_type": "code",
   "execution_count": 25,
   "id": "eefec1f4",
   "metadata": {},
   "outputs": [
    {
     "data": {
      "text/plain": [
       "{'_id': ObjectId('687a6676751a6d12917508d4'), 'key': 'value'}"
      ]
     },
     "execution_count": 25,
     "metadata": {},
     "output_type": "execute_result"
    }
   ],
   "source": [
    "loop.run_until_complete(db.motor_col.find_one({'key': \"value\"}))"
   ]
  }
 ],
 "metadata": {
  "kernelspec": {
   "display_name": "venv",
   "language": "python",
   "name": "python3"
  },
  "language_info": {
   "codemirror_mode": {
    "name": "ipython",
    "version": 3
   },
   "file_extension": ".py",
   "mimetype": "text/x-python",
   "name": "python",
   "nbconvert_exporter": "python",
   "pygments_lexer": "ipython3",
   "version": "3.12.5"
  }
 },
 "nbformat": 4,
 "nbformat_minor": 5
}
